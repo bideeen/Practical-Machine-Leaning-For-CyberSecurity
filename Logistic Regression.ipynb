{
 "cells": [
  {
   "cell_type": "markdown",
   "metadata": {},
   "source": [
    "## Logistic Regression: Email Spam Detection\n",
    "\n",
    "#### In this exercise, the fundamentals of Logistic Regression are shown, posing one of the first problems that were solved through the use of Machine Learning techniques: the detection of SPAM.\n",
    "\n",
    "## Excercise statement\n",
    "\n",
    "#### It is proposed to build a machine learning system capable of predicting whether a certain email corresponds to a SPAM email or not, for this, the following data set will be used:\n",
    "<b><a href='https://plg.uwaterloo.ca/cgi-bin/cgiwrap/gvcormac/foo07'> 2007 TREC Public Spam Corpus </a></b>\n",
    "\n",
    "#### The corpus trec07p contains 75,419 messages:\n",
    " - ham: 25220\n",
    " - spam: 50199\n",
    "\n",
    "#### These messages constitute all the messages delivered to a particular server between these dates:\n",
    " - 8th April, 2007\n",
    " - 6th July, 2007\n",
    "\n",
    "\n",
    " ## 1. Complementary functions\n",
    "\n",
    " #### In this practical case related to the detection of SPAM emails, the data set we have is made up of emails, with their corresponding headers and additional fields. Therefore, they require preprocessing prior to being ingested by the Machine Learning algorithm."
   ]
  },
  {
   "cell_type": "code",
   "execution_count": 2,
   "metadata": {},
   "outputs": [
    {
     "output_type": "execute_result",
     "data": {
      "text/plain": "'Phrack World News'"
     },
     "metadata": {},
     "execution_count": 2
    }
   ],
   "source": [
    "# This class facilitates the preprocessing of emails that have HTML code\n",
    "from html.parser import HTMLParser\n",
    "\n",
    "class MLStripper(HTMLParser):\n",
    "    def __init__(self):\n",
    "        self.reset()\n",
    "        self.strict = False\n",
    "        self.convert_charrefs = True\n",
    "        self.fed = []\n",
    "\n",
    "    def handle_data(self, d):\n",
    "        self.fed.append(d)\n",
    "\n",
    "    def get_data(self):\n",
    "        return ''.join(self.fed)\n",
    "\n",
    "# This function is responsible for removing the HTML tags found in the text of the email\n",
    "def strip_tags(html):\n",
    "    s = MLStripper()\n",
    "    s.feed(html)\n",
    "    return s.get_data()\n",
    "\n",
    "# Example of removing HTML tags from text\n",
    "t = '<tr><td align=\"left\"><a href=\"../../issues/51/16.html#article\">Phrack World News</a></td>'\n",
    "strip_tags(t)"
   ]
  },
  {
   "cell_type": "markdown",
   "metadata": {},
   "source": [
    "#### In addition to removing possible HTML tags found in the email, other preprocessing actions must be performed to prevent messages from containing unnecessary noise. Among them is the elimination of punctuation marks, elimination of possible fields of the email that are not relevant or elimination of the affixes of a word keeping only the root of the word (Stemming). The class shown below performs these transformations."
   ]
  },
  {
   "cell_type": "code",
   "execution_count": 3,
   "metadata": {},
   "outputs": [],
   "source": [
    "import email\n",
    "import string\n",
    "import nltk\n",
    "\n",
    "class Parser:\n",
    "\n",
    "    def __init__(self):\n",
    "        self.stemmer = nltk.PorterStemmer()\n",
    "        self.stopwords = set(nltk.corpus.stopwords.words('english'))\n",
    "        self.punctuation = list(string.punctuation)\n",
    "\n",
    "    def parse(self, email_path):\n",
    "        \"\"\"Parse an email.\"\"\"\n",
    "        with open(email_path, errors='ignore') as e:\n",
    "            msg = email.message_from_file(e)\n",
    "        return None if not msg else self.get_email_content(msg)\n",
    "\n",
    "    def get_email_content(self, msg):\n",
    "        \"\"\"Extract the email content.\"\"\"\n",
    "        subject = self.tokenize(msg['Subject']) if msg['Subject'] else []\n",
    "        body = self.get_email_body(msg.get_payload(),\n",
    "                                   msg.get_content_type())\n",
    "        content_type = msg.get_content_type()\n",
    "        # Returning the content of the email\n",
    "        return {\"subject\": subject,\n",
    "                \"body\": body,\n",
    "                \"content_type\": content_type}\n",
    "\n",
    "    def get_email_body(self, payload, content_type):\n",
    "        \"\"\"Extract the body of the email.\"\"\"\n",
    "        body = []\n",
    "        if type(payload) is str and content_type == 'text/plain':\n",
    "            return self.tokenize(payload)\n",
    "        elif type(payload) is str and content_type == 'text/html':\n",
    "            return self.tokenize(strip_tags(payload))\n",
    "        elif type(payload) is list:\n",
    "            for p in payload:\n",
    "                body += self.get_email_body(p.get_payload(),\n",
    "                                            p.get_content_type())\n",
    "        return body\n",
    "\n",
    "    def tokenize(self, text):\n",
    "        \"\"\"Transform a text string in tokens. Perform two main actions,\n",
    "        clean the punctuation symbols and do stemming of the text.\"\"\"\n",
    "        for c in self.punctuation:\n",
    "            text = text.replace(c, \"\")\n",
    "        text = text.replace(\"\\t\", \" \")\n",
    "        text = text.replace(\"\\n\", \" \")\n",
    "        tokens = list(filter(None, text.split(\" \")))\n",
    "        # Stemming of the tokens\n",
    "        return [self.stemmer.stem(w) for w in tokens if w not in self.stopwords]"
   ]
  },
  {
   "cell_type": "markdown",
   "metadata": {},
   "source": [
    "### Reading an email in raw format"
   ]
  },
  {
   "cell_type": "code",
   "execution_count": 5,
   "metadata": {},
   "outputs": [
    {
     "output_type": "stream",
     "name": "stdout",
     "text": "From bounce-debian-mirrors=ktwarwic=speedy.uwaterloo.ca@lists.debian.org  Sun Apr  8 13:09:29 2007\nReturn-Path: <bounce-debian-mirrors=ktwarwic=speedy.uwaterloo.ca@lists.debian.org>\nReceived: from murphy.debian.org (murphy.debian.org [70.103.162.31])\n\tby speedy.uwaterloo.ca (8.12.8/8.12.5) with ESMTP id l38H9S0I003031\n\tfor <ktwarwic@speedy.uwaterloo.ca>; Sun, 8 Apr 2007 13:09:28 -0400\nReceived: from localhost (localhost [127.0.0.1])\n\tby murphy.debian.org (Postfix) with QMQP\n\tid 90C152E68E; Sun,  8 Apr 2007 12:09:05 -0500 (CDT)\nOld-Return-Path: <yan.morin@savoirfairelinux.com>\nX-Spam-Checker-Version: SpamAssassin 3.1.4 (2006-07-26) on murphy.debian.org\nX-Spam-Level: \nX-Spam-Status: No, score=-1.1 required=4.0 tests=BAYES_05 autolearn=no \n\tversion=3.1.4\nX-Original-To: debian-mirrors@lists.debian.org\nReceived: from xenon.savoirfairelinux.net (savoirfairelinux.net [199.243.85.90])\n\tby murphy.debian.org (Postfix) with ESMTP id 827432E3E5\n\tfor <debian-mirrors@lists.debian.org>; Sun,  8 Apr 2007 11:52:35 -0500 (CDT)\nReceived: from [192.168.0.101] (bas6-montreal28-1177925679.dsl.bell.ca [70.53.184.47])\n\tby xenon.savoirfairelinux.net (Postfix) with ESMTP id C1223F69B7\n\tfor <debian-mirrors@lists.debian.org>; Sun,  8 Apr 2007 12:52:34 -0400 (EDT)\nMessage-ID: <46191DCE.3020508@savoirfairelinux.com>\nDate: Sun, 08 Apr 2007 12:52:30 -0400\nFrom: Yan Morin <yan.morin@savoirfairelinux.com>\nUser-Agent: Icedove 1.5.0.10 (X11/20070329)\nMIME-Version: 1.0\nTo: debian-mirrors@lists.debian.org\nSubject: Typo in /debian/README\nX-Enigmail-Version: 0.94.2.0\nContent-Type: text/plain; charset=ISO-8859-1\nContent-Transfer-Encoding: 7bit\nX-Rc-Spam: 2007-01-18_01\nX-Rc-Virus: 2006-10-25_01\nX-Rc-Spam: 2007-01-18_01\nResent-Message-ID: <tHOiyB.A.jEC.xGSGGB@murphy>\nResent-From: debian-mirrors@lists.debian.org\nX-Mailing-List: <debian-mirrors@lists.debian.org> \nX-Loop: debian-mirrors@lists.debian.org\nList-Id: <debian-mirrors.lists.debian.org>\nList-Post: <mailto:debian-mirrors@lists.debian.org>\nList-Help: <mailto:debian-mirrors-request@lists.debian.org?subject=help>\nList-Subscribe: <mailto:debian-mirrors-request@lists.debian.org?subject=subscribe>\nList-Unsubscribe: <mailto:debian-mirrors-request@lists.debian.org?subject=unsubscribe>\nPrecedence: list\nResent-Sender: debian-mirrors-request@lists.debian.org\nResent-Date: Sun,  8 Apr 2007 12:09:05 -0500 (CDT)\nStatus: RO\nContent-Length: 729\nLines: 26\n\nHi, i've just updated from the gulus and I check on other mirrors.\nIt seems there is a little typo in /debian/README file\n\nExample:\nhttp://gulus.usherbrooke.ca/debian/README\nftp://ftp.fr.debian.org/debian/README\n\n\"Testing, or lenny.  Access this release through dists/testing.  The\ncurrent tested development snapshot is named etch.  Packages which\nhave been tested in unstable and passed automated tests propogate to\nthis release.\"\n\netch should be replace by lenny like in the README.html\n\n\n\n-- \nYan Morin\nConsultant en logiciel libre\nyan.morin@savoirfairelinux.com\n514-994-1556\n\n\n-- \nTo UNSUBSCRIBE, email to debian-mirrors-REQUEST@lists.debian.org\nwith a subject of \"unsubscribe\". Trouble? Contact listmaster@lists.debian.org\n\n\n"
    }
   ],
   "source": [
    "inmail = open(\"Dataset/trec07p/data/inmail.2\").read()\n",
    "print(inmail)\n"
   ]
  },
  {
   "cell_type": "markdown",
   "metadata": {},
   "source": [
    "### Email Parsing"
   ]
  },
  {
   "cell_type": "code",
   "execution_count": 6,
   "metadata": {},
   "outputs": [
    {
     "output_type": "execute_result",
     "data": {
      "text/plain": "{'subject': ['typo', 'debianreadm'],\n 'body': ['Hi',\n  'ive',\n  'updat',\n  'gulu',\n  'I',\n  'check',\n  'mirror',\n  'It',\n  'seem',\n  'littl',\n  'typo',\n  'debianreadm',\n  'file',\n  'exampl',\n  'httpgulususherbrookecadebianreadm',\n  'ftpftpfrdebianorgdebianreadm',\n  'test',\n  'lenni',\n  'access',\n  'releas',\n  'diststest',\n  'the',\n  'current',\n  'test',\n  'develop',\n  'snapshot',\n  'name',\n  'etch',\n  'packag',\n  'test',\n  'unstabl',\n  'pass',\n  'autom',\n  'test',\n  'propog',\n  'releas',\n  'etch',\n  'replac',\n  'lenni',\n  'like',\n  'readmehtml',\n  'yan',\n  'morin',\n  'consult',\n  'en',\n  'logiciel',\n  'libr',\n  'yanmorinsavoirfairelinuxcom',\n  '5149941556',\n  'To',\n  'unsubscrib',\n  'email',\n  'debianmirrorsrequestlistsdebianorg',\n  'subject',\n  'unsubscrib',\n  'troubl',\n  'contact',\n  'listmasterlistsdebianorg'],\n 'content_type': 'text/plain'}"
     },
     "metadata": {},
     "execution_count": 6
    }
   ],
   "source": [
    "p = Parser()\n",
    "p.parse('Dataset/trec07p/data/inmail.2')"
   ]
  },
  {
   "cell_type": "markdown",
   "metadata": {},
   "source": [
    "### Index reading\n",
    "\n",
    "#### These complementary functions are responsible for loading into memory the path of each email and its corresponding tag {spam, ham}"
   ]
  },
  {
   "cell_type": "code",
   "execution_count": 8,
   "metadata": {},
   "outputs": [
    {
     "output_type": "execute_result",
     "data": {
      "text/plain": "../data/inmail.329\\n',\n 'spam ../data/inmail.330\\n',\n 'spam ../data/inmail.331\\n',\n 'ham ../data/inmail.332\\n',\n 'spam ../data/inmail.333\\n',\n 'spam ../data/inmail.334\\n',\n 'spam ../data/inmail.335\\n',\n 'spam ../data/inmail.336\\n',\n 'spam ../data/inmail.337\\n',\n 'spam ../data/inmail.338\\n',\n 'ham ../data/inmail.339\\n',\n 'spam ../data/inmail.340\\n',\n 'ham ../data/inmail.341\\n',\n 'spam ../data/inmail.342\\n',\n 'spam ../data/inmail.343\\n',\n 'spam ../data/inmail.344\\n',\n 'spam ../data/inmail.345\\n',\n 'ham ../data/inmail.346\\n',\n 'spam ../data/inmail.347\\n',\n 'spam ../data/inmail.348\\n',\n 'spam ../data/inmail.349\\n',\n 'spam ../data/inmail.350\\n',\n 'ham ../data/inmail.351\\n',\n 'ham ../data/inmail.352\\n',\n 'spam ../data/inmail.353\\n',\n 'spam ../data/inmail.354\\n',\n 'spam ../data/inmail.355\\n',\n 'ham ../data/inmail.356\\n',\n 'spam ../data/inmail.357\\n',\n 'spam ../data/inmail.358\\n',\n 'spam ../data/inmail.359\\n',\n 'spam ../data/inmail.360\\n',\n 'ham ../data/inmail.361\\n',\n 'spam ../data/inmail.362\\n',\n 'spam ../data/inmail.363\\n',\n 'spam ../data/inmail.364\\n',\n 'spam ../data/inmail.365\\n',\n 'spam ../data/inmail.366\\n',\n 'spam ../data/inmail.367\\n',\n 'spam ../data/inmail.368\\n',\n 'spam ../data/inmail.369\\n',\n 'spam ../data/inmail.370\\n',\n 'spam ../data/inmail.371\\n',\n 'spam ../data/inmail.372\\n',\n 'spam ../data/inmail.373\\n',\n 'spam ../data/inmail.374\\n',\n 'spam ../data/inmail.375\\n',\n 'spam ../data/inmail.376\\n',\n 'spam ../data/inmail.377\\n',\n 'spam ../data/inmail.378\\n',\n 'spam ../data/inmail.379\\n',\n 'spam ../data/inmail.380\\n',\n 'spam ../data/inmail.381\\n',\n 'spam ../data/inmail.382\\n',\n 'spam ../data/inmail.383\\n',\n 'spam ../data/inmail.384\\n',\n 'spam ../data/inmail.385\\n',\n 'spam ../data/inmail.386\\n',\n 'spam ../data/inmail.387\\n',\n 'spam ../data/inmail.388\\n',\n 'spam ../data/inmail.389\\n',\n 'spam ../data/inmail.390\\n',\n 'spam ../data/inmail.391\\n',\n 'spam ../data/inmail.392\\n',\n 'ham ../data/inmail.393\\n',\n 'ham ../data/inmail.394\\n',\n 'ham ../data/inmail.395\\n',\n 'spam ../data/inmail.396\\n',\n 'spam ../data/inmail.397\\n',\n 'spam ../data/inmail.398\\n',\n 'spam ../data/inmail.399\\n',\n 'spam ../data/inmail.400\\n',\n 'spam ../data/inmail.401\\n',\n 'ham ../data/inmail.402\\n',\n 'spam ../data/inmail.403\\n',\n 'spam ../data/inmail.404\\n',\n 'spam ../data/inmail.405\\n',\n 'spam ../data/inmail.406\\n',\n 'spam ../data/inmail.407\\n',\n 'spam ../data/inmail.408\\n',\n 'spam ../data/inmail.409\\n',\n 'spam ../data/inmail.410\\n',\n 'spam ../data/inmail.411\\n',\n 'spam ../data/inmail.412\\n',\n 'spam ../data/inmail.413\\n',\n 'spam ../data/inmail.414\\n',\n 'spam ../data/inmail.415\\n',\n 'spam ../data/inmail.416\\n',\n 'spam ../data/inmail.417\\n',\n 'spam ../data/inmail.418\\n',\n 'spam ../data/inmail.419\\n',\n 'spam ../data/inmail.420\\n',\n 'spam ../data/inmail.421\\n',\n 'spam ../data/inmail.422\\n',\n 'spam ../data/inmail.423\\n',\n 'spam ../data/inmail.424\\n',\n 'spam ../data/inmail.425\\n',\n 'spam ../data/inmail.426\\n',\n 'spam ../data/inmail.427\\n',\n 'spam ../data/inmail.428\\n',\n 'spam ../data/inmail.429\\n',\n 'spam ../data/inmail.430\\n',\n 'spam ../data/inmail.431\\n',\n 'spam ../data/inmail.432\\n',\n 'spam ../data/inmail.433\\n',\n 'spam ../data/inmail.434\\n',\n 'spam ../data/inmail.435\\n',\n 'spam ../data/inmail.436\\n',\n 'spam ../data/inmail.437\\n',\n 'spam ../data/inmail.438\\n',\n 'spam ../data/inmail.439\\n',\n 'spam ../data/inmail.440\\n',\n 'spam ../data/inmail.441\\n',\n 'spam ../data/inmail.442\\n',\n 'spam ../data/inmail.443\\n',\n 'spam ../data/inmail.444\\n',\n 'spam ../data/inmail.445\\n',\n 'spam ../data/inmail.446\\n',\n 'spam ../data/inmail.447\\n',\n 'spam ../data/inmail.448\\n',\n 'spam ../data/inmail.449\\n',\n 'spam ../data/inmail.450\\n',\n 'spam ../data/inmail.451\\n',\n 'ham ../data/inmail.452\\n',\n 'spam ../data/inmail.453\\n',\n 'spam ../data/inmail.454\\n',\n 'spam ../data/inmail.455\\n',\n 'spam ../data/inmail.456\\n',\n 'spam ../data/inmail.457\\n',\n 'spam ../data/inmail.458\\n',\n 'spam ../data/inmail.459\\n',\n 'spam ../data/inmail.460\\n',\n 'ham ../data/inmail.461\\n',\n 'ham ../data/inmail.462\\n',\n 'spam ../data/inmail.463\\n',\n 'ham ../data/inmail.464\\n',\n 'spam ../data/inmail.465\\n',\n 'spam ../data/inmail.466\\n',\n 'ham ../data/inmail.467\\n',\n 'ham ../data/inmail.468\\n',\n 'spam ../data/inmail.469\\n',\n 'spam ../data/inmail.470\\n',\n 'spam ../data/inmail.471\\n',\n 'spam ../data/inmail.472\\n',\n 'spam ../data/inmail.473\\n',\n 'ham ../data/inmail.474\\n',\n 'spam ../data/inmail.475\\n',\n 'spam ../data/inmail.476\\n',\n 'ham ../data/inmail.477\\n',\n 'ham ../data/inmail.478\\n',\n 'spam ../data/inmail.479\\n',\n 'spam ../data/inmail.480\\n',\n 'spam ../data/inmail.481\\n',\n 'spam ../data/inmail.482\\n',\n 'ham ../data/inmail.483\\n',\n 'spam ../data/inmail.484\\n',\n 'ham ../data/inmail.485\\n',\n 'spam ../data/inmail.486\\n',\n 'spam ../data/inmail.487\\n',\n 'spam ../data/inmail.488\\n',\n 'spam ../data/inmail.489\\n',\n 'ham ../data/inmail.490\\n',\n 'spam ../data/inmail.491\\n',\n 'ham ../data/inmail.492\\n',\n 'spam ../data/inmail.493\\n',\n 'ham ../data/inmail.494\\n',\n 'spam ../data/inmail.495\\n',\n 'ham ../data/inmail.496\\n',\n 'spam ../data/inmail.497\\n',\n 'spam ../data/inmail.498\\n',\n 'ham ../data/inmail.499\\n',\n 'spam ../data/inmail.500\\n',\n 'ham ../data/inmail.501\\n',\n 'ham ../data/inmail.502\\n',\n 'spam ../data/inmail.503\\n',\n 'spam ../data/inmail.504\\n',\n 'spam ../data/inmail.505\\n',\n 'ham ../data/inmail.506\\n',\n 'spam ../data/inmail.507\\n',\n 'spam ../data/inmail.508\\n',\n 'spam ../data/inmail.509\\n',\n 'spam ../data/inmail.510\\n',\n 'spam ../data/inmail.511\\n',\n 'spam ../data/inmail.512\\n',\n 'spam ../data/inmail.513\\n',\n 'spam ../data/inmail.514\\n',\n 'spam ../data/inmail.515\\n',\n 'spam ../data/inmail.516\\n',\n 'spam ../data/inmail.517\\n',\n 'spam ../data/inmail.518\\n',\n 'spam ../data/inmail.519\\n',\n 'spam ../data/inmail.520\\n',\n 'spam ../data/inmail.521\\n',\n 'spam ../data/inmail.522\\n',\n 'spam ../data/inmail.523\\n',\n 'ham ../data/inmail.524\\n',\n 'ham ../data/inmail.525\\n',\n 'spam ../data/inmail.526\\n',\n 'spam ../data/inmail.527\\n',\n 'spam ../data/inmail.528\\n',\n 'spam ../data/inmail.529\\n',\n 'spam ../data/inmail.530\\n',\n 'spam ../data/inmail.531\\n',\n 'ham ../data/inmail.532\\n',\n 'ham ../data/inmail.533\\n',\n 'spam ../data/inmail.534\\n',\n 'spam ../data/inmail.535\\n',\n 'ham ../data/inmail.536\\n',\n 'spam ../data/inmail.537\\n',\n 'spam ../data/inmail.538\\n',\n 'spam ../data/inmail.539\\n',\n 'ham ../data/inmail.540\\n',\n 'ham ../data/inmail.541\\n',\n 'spam ../data/inmail.542\\n',\n 'spam ../data/inmail.543\\n',\n 'ham ../data/inmail.544\\n',\n 'spam ../data/inmail.545\\n',\n 'spam ../data/inmail.546\\n',\n 'ham ../data/inmail.547\\n',\n 'spam ../data/inmail.548\\n',\n 'spam ../data/inmail.549\\n',\n 'spam ../data/inmail.550\\n',\n 'spam ../data/inmail.551\\n',\n 'spam ../data/inmail.552\\n',\n 'spam ../data/inmail.553\\n',\n 'spam ../data/inmail.554\\n',\n 'ham ../data/inmail.555\\n',\n 'spam ../data/inmail.556\\n',\n 'spam ../data/inmail.557\\n',\n 'spam ../data/inmail.558\\n',\n 'spam ../data/inmail.559\\n',\n 'spam ../data/inmail.560\\n',\n 'spam ../data/inmail.561\\n',\n 'spam ../data/inmail.562\\n',\n 'ham ../data/inmail.563\\n',\n 'spam ../data/inmail.564\\n',\n 'spam ../data/inmail.565\\n',\n 'spam ../data/inmail.566\\n',\n 'spam ../data/inmail.567\\n',\n 'spam ../data/inmail.568\\n',\n 'spam ../data/inmail.569\\n',\n 'spam ../data/inmail.570\\n',\n 'spam ../data/inmail.571\\n',\n 'spam ../data/inmail.572\\n',\n 'spam ../data/inmail.573\\n',\n 'spam ../data/inmail.574\\n',\n 'spam ../data/inmail.575\\n',\n 'spam ../data/inmail.576\\n',\n 'spam ../data/inmail.577\\n',\n 'spam ../data/inmail.578\\n',\n 'spam ../data/inmail.579\\n',\n 'spam ../data/inmail.580\\n',\n 'spam ../data/inmail.581\\n',\n 'spam ../data/inmail.582\\n',\n 'ham ../data/inmail.583\\n',\n 'spam ../data/inmail.584\\n',\n 'ham ../data/inmail.585\\n',\n 'spam ../data/inmail.586\\n',\n 'spam ../data/inmail.587\\n',\n 'spam ../data/inmail.588\\n',\n 'spam ../data/inmail.589\\n',\n 'spam ../data/inmail.590\\n',\n 'spam ../data/inmail.591\\n',\n 'spam ../data/inmail.592\\n',\n 'ham ../data/inmail.593\\n',\n 'spam ../data/inmail.594\\n',\n 'spam ../data/inmail.595\\n',\n 'spam ../data/inmail.596\\n',\n 'spam ../data/inmail.597\\n',\n 'spam ../data/inmail.598\\n',\n 'spam ../data/inmail.599\\n',\n 'spam ../data/inmail.600\\n',\n 'ham ../data/inmail.601\\n',\n 'spam ../data/inmail.602\\n',\n 'spam ../data/inmail.603\\n',\n 'spam ../data/inmail.604\\n',\n 'spam ../data/inmail.605\\n',\n 'spam ../data/inmail.606\\n',\n 'spam ../data/inmail.607\\n',\n 'spam ../data/inmail.608\\n',\n 'spam ../data/inmail.609\\n',\n 'spam ../data/inmail.610\\n',\n 'spam ../data/inmail.611\\n',\n 'spam ../data/inmail.612\\n',\n 'spam ../data/inmail.613\\n',\n 'spam ../data/inmail.614\\n',\n 'spam ../data/inmail.615\\n',\n 'spam ../data/inmail.616\\n',\n 'spam ../data/inmail.617\\n',\n 'spam ../data/inmail.618\\n',\n 'spam ../data/inmail.619\\n',\n 'spam ../data/inmail.620\\n',\n 'spam ../data/inmail.621\\n',\n 'spam ../data/inmail.622\\n',\n 'spam ../data/inmail.623\\n',\n 'spam ../data/inmail.624\\n',\n 'spam ../data/inmail.625\\n',\n 'spam ../data/inmail.626\\n',\n 'spam ../data/inmail.627\\n',\n 'spam ../data/inmail.628\\n',\n 'spam ../data/inmail.629\\n',\n 'spam ../data/inmail.630\\n',\n 'spam ../data/inmail.631\\n',\n 'spam ../data/inmail.632\\n',\n 'spam ../data/inmail.633\\n',\n 'spam ../data/inmail.634\\n',\n 'spam ../data/inmail.635\\n',\n 'spam ../data/inmail.636\\n',\n 'spam ../data/inmail.637\\n',\n 'spam ../data/inmail.638\\n',\n 'spam ../data/inmail.639\\n',\n 'ham ../data/inmail.640\\n',\n 'ham ../data/inmail.641\\n',\n 'ham ../data/inmail.642\\n',\n 'spam ../data/inmail.643\\n',\n 'ham ../data/inmail.644\\n',\n 'ham ../data/inmail.645\\n',\n 'spam ../data/inmail.646\\n',\n 'ham ../data/inmail.647\\n',\n 'ham ../data/inmail.648\\n',\n 'spam ../data/inmail.649\\n',\n 'spam ../data/inmail.650\\n',\n 'spam ../data/inmail.651\\n',\n 'spam ../data/inmail.652\\n',\n 'spam ../data/inmail.653\\n',\n 'spam ../data/inmail.654\\n',\n 'spam ../data/inmail.655\\n',\n 'spam ../data/inmail.656\\n',\n 'spam ../data/inmail.657\\n',\n 'ham ../data/inmail.658\\n',\n 'ham ../data/inmail.659\\n',\n 'ham ../data/inmail.660\\n',\n 'ham ../data/inmail.661\\n',\n 'spam ../data/inmail.662\\n',\n 'spam ../data/inmail.663\\n',\n 'spam ../data/inmail.664\\n',\n 'ham ../data/inmail.665\\n',\n 'spam ../data/inmail.666\\n',\n 'spam ../data/inmail.667\\n',\n 'spam ../data/inmail.668\\n',\n 'spam ../data/inmail.669\\n',\n 'spam ../data/inmail.670\\n',\n 'ham ../data/inmail.671\\n',\n 'spam ../data/inmail.672\\n',\n 'spam ../data/inmail.673\\n',\n 'ham ../data/inmail.674\\n',\n 'ham ../data/inmail.675\\n',\n 'spam ../data/inmail.676\\n',\n 'ham ../data/inmail.677\\n',\n 'spam ../data/inmail.678\\n',\n 'spam ../data/inmail.679\\n',\n 'ham ../data/inmail.680\\n',\n 'spam ../data/inmail.681\\n',\n 'ham ../data/inmail.682\\n',\n 'spam ../data/inmail.683\\n',\n 'ham ../data/inmail.684\\n',\n 'spam ../data/inmail.685\\n',\n 'spam ../data/inmail.686\\n',\n 'ham ../data/inmail.687\\n',\n 'spam ../data/inmail.688\\n',\n 'spam ../data/inmail.689\\n',\n 'ham ../data/inmail.690\\n',\n 'spam ../data/inmail.691\\n',\n 'spam ../data/inmail.692\\n',\n 'spam ../data/inmail.693\\n',\n 'spam ../data/inmail.694\\n',\n 'ham ../data/inmail.695\\n',\n 'spam ../data/inmail.696\\n',\n 'spam ../data/inmail.697\\n',\n 'spam ../data/inmail.698\\n',\n 'spam ../data/inmail.699\\n',\n 'ham ../data/inmail.700\\n',\n 'spam ../data/inmail.701\\n',\n 'ham ../data/inmail.702\\n',\n 'ham ../data/inmail.703\\n',\n 'spam ../data/inmail.704\\n',\n 'spam ../data/inmail.705\\n',\n 'spam ../data/inmail.706\\n',\n 'spam ../data/inmail.707\\n',\n 'spam ../data/inmail.708\\n',\n 'spam ../data/inmail.709\\n',\n 'spam ../data/inmail.710\\n',\n 'spam ../data/inmail.711\\n',\n 'spam ../data/inmail.712\\n',\n 'spam ../data/inmail.713\\n',\n 'spam ../data/inmail.714\\n',\n 'spam ../data/inmail.715\\n',\n 'ham ../data/inmail.716\\n',\n 'ham ../data/inmail.717\\n',\n 'ham ../data/inmail.718\\n',\n 'ham ../data/inmail.719\\n',\n 'ham ../data/inmail.720\\n',\n 'spam ../data/inmail.721\\n',\n 'spam ../data/inmail.722\\n',\n 'spam ../data/inmail.723\\n',\n 'ham ../data/inmail.724\\n',\n 'spam ../data/inmail.725\\n',\n 'spam ../data/inmail.726\\n',\n 'spam ../data/inmail.727\\n',\n 'ham ../data/inmail.728\\n',\n 'spam ../data/inmail.729\\n',\n 'spam ../data/inmail.730\\n',\n 'spam ../data/inmail.731\\n',\n 'spam ../data/inmail.732\\n',\n 'ham ../data/inmail.733\\n',\n 'spam ../data/inmail.734\\n',\n 'spam ../data/inmail.735\\n',\n 'spam ../data/inmail.736\\n',\n 'spam ../data/inmail.737\\n',\n 'spam ../data/inmail.738\\n',\n 'spam ../data/inmail.739\\n',\n 'spam ../data/inmail.740\\n',\n 'spam ../data/inmail.741\\n',\n 'ham ../data/inmail.742\\n',\n 'spam ../data/inmail.743\\n',\n 'spam ../data/inmail.744\\n',\n 'ham ../data/inmail.745\\n',\n 'ham ../data/inmail.746\\n',\n 'spam ../data/inmail.747\\n',\n 'ham ../data/inmail.748\\n',\n 'spam ../data/inmail.749\\n',\n 'spam ../data/inmail.750\\n',\n 'ham ../data/inmail.751\\n',\n 'spam ../data/inmail.752\\n',\n 'spam ../data/inmail.753\\n',\n 'ham ../data/inmail.754\\n',\n 'ham ../data/inmail.755\\n',\n 'spam ../data/inmail.756\\n',\n 'spam ../data/inmail.757\\n',\n 'spam ../data/inmail.758\\n',\n 'spam ../data/inmail.759\\n',\n 'ham ../data/inmail.760\\n',\n 'spam ../data/inmail.761\\n',\n 'spam ../data/inmail.762\\n',\n 'spam ../data/inmail.763\\n',\n 'spam ../data/inmail.764\\n',\n 'spam ../data/inmail.765\\n',\n 'spam ../data/inmail.766\\n',\n 'spam ../data/inmail.767\\n',\n 'spam ../data/inmail.768\\n',\n 'spam ../data/inmail.769\\n',\n 'ham ../data/inmail.770\\n',\n 'ham ../data/inmail.771\\n',\n 'spam ../data/inmail.772\\n',\n 'spam ../data/inmail.773\\n',\n 'spam ../data/inmail.774\\n',\n 'spam ../data/inmail.775\\n',\n 'spam ../data/inmail.776\\n',\n 'ham ../data/inmail.777\\n',\n 'spam ../data/inmail.778\\n',\n 'spam ../data/inmail.779\\n',\n 'ham ../data/inmail.780\\n',\n 'ham ../data/inmail.781\\n',\n 'spam ../data/inmail.782\\n',\n 'spam ../data/inmail.783\\n',\n 'spam ../data/inmail.784\\n',\n 'ham ../data/inmail.785\\n',\n 'ham ../data/inmail.786\\n',\n 'spam ../data/inmail.787\\n',\n 'spam ../data/inmail.788\\n',\n 'ham ../data/inmail.789\\n',\n 'spam ../data/inmail.790\\n',\n 'spam ../data/inmail.791\\n',\n 'spam ../data/inmail.792\\n',\n 'spam ../data/inmail.793\\n',\n 'ham ../data/inmail.794\\n',\n 'spam ../data/inmail.795\\n',\n 'spam ../data/inmail.796\\n',\n 'ham ../data/inmail.797\\n',\n 'spam ../data/inmail.798\\n',\n 'ham ../data/inmail.799\\n',\n 'spam ../data/inmail.800\\n',\n 'ham ../data/inmail.801\\n',\n 'ham ../data/inmail.802\\n',\n 'spam ../data/inmail.803\\n',\n 'spam ../data/inmail.804\\n',\n 'spam ../data/inmail.805\\n',\n 'spam ../data/inmail.806\\n',\n 'spam ../data/inmail.807\\n',\n 'spam ../data/inmail.808\\n',\n 'ham ../data/inmail.809\\n',\n 'ham ../data/inmail.810\\n',\n 'ham ../data/inmail.811\\n',\n 'ham ../data/inmail.812\\n',\n 'spam ../data/inmail.813\\n',\n 'ham ../data/inmail.814\\n',\n 'spam ../data/inmail.815\\n',\n 'spam ../data/inmail.816\\n',\n 'spam ../data/inmail.817\\n',\n 'spam ../data/inmail.818\\n',\n 'spam ../data/inmail.819\\n',\n 'spam ../data/inmail.820\\n',\n 'spam ../data/inmail.821\\n',\n 'spam ../data/inmail.822\\n',\n 'spam ../data/inmail.823\\n',\n 'spam ../data/inmail.824\\n',\n 'ham ../data/inmail.825\\n',\n 'ham ../data/inmail.826\\n',\n 'ham ../data/inmail.827\\n',\n 'spam ../data/inmail.828\\n',\n 'spam ../data/inmail.829\\n',\n 'spam ../data/inmail.830\\n',\n 'spam ../data/inmail.831\\n',\n 'spam ../data/inmail.832\\n',\n 'spam ../data/inmail.833\\n',\n 'spam ../data/inmail.834\\n',\n 'ham ../data/inmail.835\\n',\n 'ham ../data/inmail.836\\n',\n 'spam ../data/inmail.837\\n',\n 'spam ../data/inmail.838\\n',\n 'ham ../data/inmail.839\\n',\n 'spam ../data/inmail.840\\n',\n 'spam ../data/inmail.841\\n',\n 'ham ../data/inmail.842\\n',\n 'spam ../data/inmail.843\\n',\n 'ham ../data/inmail.844\\n',\n 'spam ../data/inmail.845\\n',\n 'spam ../data/inmail.846\\n',\n 'spam ../data/inmail.847\\n',\n 'ham ../data/inmail.848\\n',\n 'spam ../data/inmail.849\\n',\n 'ham ../data/inmail.850\\n',\n 'spam ../data/inmail.851\\n',\n 'ham ../data/inmail.852\\n',\n 'ham ../data/inmail.853\\n',\n 'spam ../data/inmail.854\\n',\n 'spam ../data/inmail.855\\n',\n 'spam ../data/inmail.856\\n',\n 'spam ../data/inmail.857\\n',\n 'spam ../data/inmail.858\\n',\n 'spam ../data/inmail.859\\n',\n 'spam ../data/inmail.860\\n',\n 'spam ../data/inmail.861\\n',\n 'spam ../data/inmail.862\\n',\n 'ham ../data/inmail.863\\n',\n 'ham ../data/inmail.864\\n',\n 'spam ../data/inmail.865\\n',\n 'spam ../data/inmail.866\\n',\n 'spam ../data/inmail.867\\n',\n 'spam ../data/inmail.868\\n',\n 'spam ../data/inmail.869\\n',\n 'spam ../data/inmail.870\\n',\n 'spam ../data/inmail.871\\n',\n 'spam ../data/inmail.872\\n',\n 'spam ../data/inmail.873\\n',\n 'ham ../data/inmail.874\\n',\n 'spam ../data/inmail.875\\n',\n 'spam ../data/inmail.876\\n',\n 'ham ../data/inmail.877\\n',\n 'spam ../data/inmail.878\\n',\n 'spam ../data/inmail.879\\n',\n 'ham ../data/inmail.880\\n',\n 'ham ../data/inmail.881\\n',\n 'spam ../data/inmail.882\\n',\n 'spam ../data/inmail.883\\n',\n 'spam ../data/inmail.884\\n',\n 'spam ../data/inmail.885\\n',\n 'ham ../data/inmail.886\\n',\n 'spam ../data/inmail.887\\n',\n 'spam ../data/inmail.888\\n',\n 'spam ../data/inmail.889\\n',\n 'ham ../data/inmail.890\\n',\n 'spam ../data/inmail.891\\n',\n 'spam ../data/inmail.892\\n',\n 'spam ../data/inmail.893\\n',\n 'ham ../data/inmail.894\\n',\n 'spam ../data/inmail.895\\n',\n 'spam ../data/inmail.896\\n',\n 'ham ../data/inmail.897\\n',\n 'ham ../data/inmail.898\\n',\n 'spam ../data/inmail.899\\n',\n 'spam ../data/inmail.900\\n',\n 'spam ../data/inmail.901\\n',\n 'spam ../data/inmail.902\\n',\n 'ham ../data/inmail.903\\n',\n 'spam ../data/inmail.904\\n',\n 'spam ../data/inmail.905\\n',\n 'spam ../data/inmail.906\\n',\n 'spam ../data/inmail.907\\n',\n 'ham ../data/inmail.908\\n',\n 'spam ../data/inmail.909\\n',\n 'spam ../data/inmail.910\\n',\n 'spam ../data/inmail.911\\n',\n 'spam ../data/inmail.912\\n',\n 'ham ../data/inmail.913\\n',\n 'spam ../data/inmail.914\\n',\n 'ham ../data/inmail.915\\n',\n 'spam ../data/inmail.916\\n',\n 'spam ../data/inmail.917\\n',\n 'ham ../data/inmail.918\\n',\n 'spam ../data/inmail.919\\n',\n 'ham ../data/inmail.920\\n',\n 'spam ../data/inmail.921\\n',\n 'spam ../data/inmail.922\\n',\n 'ham ../data/inmail.923\\n',\n 'spam ../data/inmail.924\\n',\n 'spam ../data/inmail.925\\n',\n 'ham ../data/inmail.926\\n',\n 'spam ../data/inmail.927\\n',\n 'spam ../data/inmail.928\\n',\n 'ham ../data/inmail.929\\n',\n 'spam ../data/inmail.930\\n',\n 'spam ../data/inmail.931\\n',\n 'ham ../data/inmail.932\\n',\n 'ham ../data/inmail.933\\n',\n 'ham ../data/inmail.934\\n',\n 'spam ../data/inmail.935\\n',\n 'spam ../data/inmail.936\\n',\n 'ham ../data/inmail.937\\n',\n 'spam ../data/inmail.938\\n',\n 'ham ../data/inmail.939\\n',\n 'ham ../data/inmail.940\\n',\n 'spam ../data/inmail.941\\n',\n 'spam ../data/inmail.942\\n',\n 'spam ../data/inmail.943\\n',\n 'spam ../data/inmail.944\\n',\n 'spam ../data/inmail.945\\n',\n 'ham ../data/inmail.946\\n',\n 'ham ../data/inmail.947\\n',\n 'ham ../data/inmail.948\\n',\n 'ham ../data/inmail.949\\n',\n 'spam ../data/inmail.950\\n',\n 'spam ../data/inmail.951\\n',\n 'ham ../data/inmail.952\\n',\n 'spam ../data/inmail.953\\n',\n 'spam ../data/inmail.954\\n',\n 'spam ../data/inmail.955\\n',\n 'spam ../data/inmail.956\\n',\n 'ham ../data/inmail.957\\n',\n 'spam ../data/inmail.958\\n',\n 'spam ../data/inmail.959\\n',\n 'spam ../data/inmail.960\\n',\n 'spam ../data/inmail.961\\n',\n 'spam ../data/inmail.962\\n',\n 'spam ../data/inmail.963\\n',\n 'ham ../data/inmail.964\\n',\n 'spam ../data/inmail.965\\n',\n 'spam ../data/inmail.966\\n',\n 'spam ../data/inmail.967\\n',\n 'ham ../data/inmail.968\\n',\n 'ham ../data/inmail.969\\n',\n 'spam ../data/inmail.970\\n',\n 'ham ../data/inmail.971\\n',\n 'spam ../data/inmail.972\\n',\n 'spam ../data/inmail.973\\n',\n 'ham ../data/inmail.974\\n',\n 'spam ../data/inmail.975\\n',\n 'spam ../data/inmail.976\\n',\n 'spam ../data/inmail.977\\n',\n 'spam ../data/inmail.978\\n',\n 'spam ../data/inmail.979\\n',\n 'spam ../data/inmail.980\\n',\n 'spam ../data/inmail.981\\n',\n 'spam ../data/inmail.982\\n',\n 'spam ../data/inmail.983\\n',\n 'spam ../data/inmail.984\\n',\n 'ham ../data/inmail.985\\n',\n 'spam ../data/inmail.986\\n',\n 'spam ../data/inmail.987\\n',\n 'spam ../data/inmail.988\\n',\n 'spam ../data/inmail.989\\n',\n 'spam ../data/inmail.990\\n',\n 'spam ../data/inmail.991\\n',\n 'ham ../data/inmail.992\\n',\n 'ham ../data/inmail.993\\n',\n 'spam ../data/inmail.994\\n',\n 'spam ../data/inmail.995\\n',\n 'spam ../data/inmail.996\\n',\n 'spam ../data/inmail.997\\n',\n 'spam ../data/inmail.998\\n',\n 'ham ../data/inmail.999\\n',\n 'ham ../data/inmail.1000\\n',\n ...]"
     },
     "metadata": {},
     "execution_count": 8
    }
   ],
   "source": [
    "index = open(\"Dataset/trec07p/full/index\").readlines()\n",
    "index "
   ]
  },
  {
   "cell_type": "code",
   "execution_count": 12,
   "metadata": {},
   "outputs": [
    {
     "output_type": "execute_result",
     "data": {
      "text/plain": "[{'label': 'spam', 'email_path': 'Dataset/trec07p/data/inmail.1'},\n {'label': 'ham', 'email_path': 'Dataset/trec07p/data/inmail.2'},\n {'label': 'spam', 'email_path': 'Dataset/trec07p/data/inmail.3'},\n {'label': 'spam', 'email_path': 'Dataset/trec07p/data/inmail.4'},\n {'label': 'spam', 'email_path': 'Dataset/trec07p/data/inmail.5'},\n {'label': 'spam', 'email_path': 'Dataset/trec07p/data/inmail.6'},\n {'label': 'spam', 'email_path': 'Dataset/trec07p/data/inmail.7'},\n {'label': 'spam', 'email_path': 'Dataset/trec07p/data/inmail.8'},\n {'label': 'spam', 'email_path': 'Dataset/trec07p/data/inmail.9'},\n {'label': 'ham', 'email_path': 'Dataset/trec07p/data/inmail.10'}]"
     },
     "metadata": {},
     "execution_count": 12
    }
   ],
   "source": [
    "\n",
    "DATASET_PATH = \"Dataset/trec07p\"\n",
    "\n",
    "def parse_index(path_to_index, n_elements):\n",
    "    ret_indexes = []\n",
    "    index = open(path_to_index).readlines()\n",
    "    for i in range(n_elements):\n",
    "        mail = index[i].split(\" ../\")\n",
    "        label = mail[0]\n",
    "        path = mail[1][:-1]\n",
    "        ret_indexes.append({\"label\":label, \"email_path\":os.path.join(DATASET_PATH, path)})\n",
    "    return ret_indexes\n",
    "\n",
    "def parse_email(index):\n",
    "    p = Parser()\n",
    "    pmail = p.parse(index[\"email_path\"])\n",
    "    return pmail, index[\"label\"]\n",
    "\n",
    "indexes = parse_index(\"Dataset/trec07p/full/index\", 10)\n",
    "indexes"
   ]
  },
  {
   "cell_type": "markdown",
   "metadata": {},
   "source": [
    "## 2. Preprocessing the data in the dataset \n",
    "\n",
    "#### With the functions presented above, it is possible to programmatically read emails and process of them to eliminate those components that are not useful for detecting SPAM emails. However, each of the emails is still represented by a Python dictionary with a series of words.\n"
   ]
  },
  {
   "cell_type": "code",
   "execution_count": 15,
   "metadata": {},
   "outputs": [
    {
     "output_type": "execute_result",
     "data": {
      "text/plain": "'From bounce-debian-mirrors=ktwarwic=speedy.uwaterloo.ca@lists.debian.org  Sun Apr  8 13:09:29 2007\\nReturn-Path: <bounce-debian-mirrors=ktwarwic=speedy.uwaterloo.ca@lists.debian.org>\\nReceived: from murphy.debian.org (murphy.debian.org [70.103.162.31])\\n\\tby speedy.uwaterloo.ca (8.12.8/8.12.5) with ESMTP id l38H9S0I003031\\n\\tfor <ktwarwic@speedy.uwaterloo.ca>; Sun, 8 Apr 2007 13:09:28 -0400\\nReceived: from localhost (localhost [127.0.0.1])\\n\\tby murphy.debian.org (Postfix) with QMQP\\n\\tid 90C152E68E; Sun,  8 Apr 2007 12:09:05 -0500 (CDT)\\nOld-Return-Path: <yan.morin@savoirfairelinux.com>\\nX-Spam-Checker-Version: SpamAssassin 3.1.4 (2006-07-26) on murphy.debian.org\\nX-Spam-Level: \\nX-Spam-Status: No, score=-1.1 required=4.0 tests=BAYES_05 autolearn=no \\n\\tversion=3.1.4\\nX-Original-To: debian-mirrors@lists.debian.org\\nReceived: from xenon.savoirfairelinux.net (savoirfairelinux.net [199.243.85.90])\\n\\tby murphy.debian.org (Postfix) with ESMTP id 827432E3E5\\n\\tfor <debian-mirrors@lists.debian.org>; Sun,  8 Apr 2007 11:52:35 -0500 (CDT)\\nReceived: from [192.168.0.101] (bas6-montreal28-1177925679.dsl.bell.ca [70.53.184.47])\\n\\tby xenon.savoirfairelinux.net (Postfix) with ESMTP id C1223F69B7\\n\\tfor <debian-mirrors@lists.debian.org>; Sun,  8 Apr 2007 12:52:34 -0400 (EDT)\\nMessage-ID: <46191DCE.3020508@savoirfairelinux.com>\\nDate: Sun, 08 Apr 2007 12:52:30 -0400\\nFrom: Yan Morin <yan.morin@savoirfairelinux.com>\\nUser-Agent: Icedove 1.5.0.10 (X11/20070329)\\nMIME-Version: 1.0\\nTo: debian-mirrors@lists.debian.org\\nSubject: Typo in /debian/README\\nX-Enigmail-Version: 0.94.2.0\\nContent-Type: text/plain; charset=ISO-8859-1\\nContent-Transfer-Encoding: 7bit\\nX-Rc-Spam: 2007-01-18_01\\nX-Rc-Virus: 2006-10-25_01\\nX-Rc-Spam: 2007-01-18_01\\nResent-Message-ID: <tHOiyB.A.jEC.xGSGGB@murphy>\\nResent-From: debian-mirrors@lists.debian.org\\nX-Mailing-List: <debian-mirrors@lists.debian.org> \\nX-Loop: debian-mirrors@lists.debian.org\\nList-Id: <debian-mirrors.lists.debian.org>\\nList-Post: <mailto:debian-mirrors@lists.debian.org>\\nList-Help: <mailto:debian-mirrors-request@lists.debian.org?subject=help>\\nList-Subscribe: <mailto:debian-mirrors-request@lists.debian.org?subject=subscribe>\\nList-Unsubscribe: <mailto:debian-mirrors-request@lists.debian.org?subject=unsubscribe>\\nPrecedence: list\\nResent-Sender: debian-mirrors-request@lists.debian.org\\nResent-Date: Sun,  8 Apr 2007 12:09:05 -0500 (CDT)\\nStatus: RO\\nContent-Length: 729\\nLines: 26\\n\\nHi, i\\'ve just updated from the gulus and I check on other mirrors.\\nIt seems there is a little typo in /debian/README file\\n\\nExample:\\nhttp://gulus.usherbrooke.ca/debian/README\\nftp://ftp.fr.debian.org/debian/README\\n\\n\"Testing, or lenny.  Access this release through dists/testing.  The\\ncurrent tested development snapshot is named etch.  Packages which\\nhave been tested in unstable and passed automated tests propogate to\\nthis release.\"\\n\\netch should be replace by lenny like in the README.html\\n\\n\\n\\n-- \\nYan Morin\\nConsultant en logiciel libre\\nyan.morin@savoirfairelinux.com\\n514-994-1556\\n\\n\\n-- \\nTo UNSUBSCRIBE, email to debian-mirrors-REQUEST@lists.debian.org\\nwith a subject of \"unsubscribe\". Trouble? Contact listmaster@lists.debian.org\\n\\n'"
     },
     "metadata": {},
     "execution_count": 15
    }
   ],
   "source": [
    "# We load the index and the labels in memory\n",
    "index = parse_index(\"Dataset/trec07p/full/index\", 2)\n",
    "# We read the first email\n",
    "import os\n",
    "open(index[0][\"email_path\"]).read()"
   ]
  },
  {
   "cell_type": "code",
   "execution_count": 17,
   "metadata": {},
   "outputs": [
    {
     "output_type": "stream",
     "name": "stdout",
     "text": "The mail is: ham\n{'subject': ['typo', 'debianreadm'], 'body': ['Hi', 'ive', 'updat', 'gulu', 'I', 'check', 'mirror', 'It', 'seem', 'littl', 'typo', 'debianreadm', 'file', 'exampl', 'httpgulususherbrookecadebianreadm', 'ftpftpfrdebianorgdebianreadm', 'test', 'lenni', 'access', 'releas', 'diststest', 'the', 'current', 'test', 'develop', 'snapshot', 'name', 'etch', 'packag', 'test', 'unstabl', 'pass', 'autom', 'test', 'propog', 'releas', 'etch', 'replac', 'lenni', 'like', 'readmehtml', 'yan', 'morin', 'consult', 'en', 'logiciel', 'libr', 'yanmorinsavoirfairelinuxcom', '5149941556', 'To', 'unsubscrib', 'email', 'debianmirrorsrequestlistsdebianorg', 'subject', 'unsubscrib', 'troubl', 'contact', 'listmasterlistsdebianorg'], 'content_type': 'text/plain'}\n"
    }
   ],
   "source": [
    "# We parse the first mail\n",
    "mail, label = parse_email(index[0])\n",
    "print(\"The mail is:\", label)\n",
    "print(mail)"
   ]
  },
  {
   "cell_type": "markdown",
   "metadata": {},
   "source": [
    "#### The Logistic Regression algorithm is not able to ingest text as part of the data set. Therefore, a number of additional functions must be applied that transform the text of parsed emails into a numeric representation.\n",
    "\n",
    "### CountVectorizer app\n"
   ]
  },
  {
   "cell_type": "code",
   "execution_count": 18,
   "metadata": {},
   "outputs": [
    {
     "output_type": "stream",
     "name": "stdout",
     "text": "Email: ['typo debianreadmHi ive updat gulu I check mirror It seem littl typo debianreadm file exampl httpgulususherbrookecadebianreadm ftpftpfrdebianorgdebianreadm test lenni access releas diststest the current test develop snapshot name etch packag test unstabl pass autom test propog releas etch replac lenni like readmehtml yan morin consult en logiciel libr yanmorinsavoirfairelinuxcom 5149941556 To unsubscrib email debianmirrorsrequestlistsdebianorg subject unsubscrib troubl contact listmasterlistsdebianorg'] \n\nInput characteristics: ['5149941556', 'access', 'autom', 'check', 'consult', 'contact', 'current', 'debianmirrorsrequestlistsdebianorg', 'debianreadm', 'debianreadmhi', 'develop', 'diststest', 'email', 'en', 'etch', 'exampl', 'file', 'ftpftpfrdebianorgdebianreadm', 'gulu', 'httpgulususherbrookecadebianreadm', 'it', 'ive', 'lenni', 'libr', 'like', 'listmasterlistsdebianorg', 'littl', 'logiciel', 'mirror', 'morin', 'name', 'packag', 'pass', 'propog', 'readmehtml', 'releas', 'replac', 'seem', 'snapshot', 'subject', 'test', 'the', 'to', 'troubl', 'typo', 'unstabl', 'unsubscrib', 'updat', 'yan', 'yanmorinsavoirfairelinuxcom']\n"
    }
   ],
   "source": [
    "from sklearn.feature_extraction.text import CountVectorizer\n",
    "\n",
    "# Preapración del email en una cadena de texto\n",
    "prep_email = [\" \".join(mail['subject']) + \" \".join(mail['body'])]\n",
    "\n",
    "vectorizer = CountVectorizer()\n",
    "X = vectorizer.fit(prep_email)\n",
    "\n",
    "print(\"Email:\", prep_email, \"\\n\")\n",
    "print(\"Input characteristics:\", vectorizer.get_feature_names())\n"
   ]
  },
  {
   "cell_type": "code",
   "execution_count": 19,
   "metadata": {},
   "outputs": [
    {
     "output_type": "stream",
     "name": "stdout",
     "text": "\nValues:\n [[1 1 1 1 1 1 1 1 1 1 1 1 1 1 2 1 1 1 1 1 1 1 2 1 1 1 1 1 1 1 1 1 1 1 1 2\n  1 1 1 1 4 1 1 1 2 1 2 1 1 1]]\n"
    }
   ],
   "source": [
    "X = vectorizer.transform(prep_email)\n",
    "print(\"\\nValues:\\n\", X.toarray())"
   ]
  },
  {
   "cell_type": "markdown",
   "metadata": {},
   "source": [
    "### OneHotEncoding App"
   ]
  },
  {
   "cell_type": "code",
   "execution_count": 20,
   "metadata": {},
   "outputs": [
    {
     "output_type": "stream",
     "name": "stdout",
     "text": "Features:\n ['x0_5149941556' 'x0_Hi' 'x0_I' 'x0_It' 'x0_To' 'x0_access' 'x0_autom'\n 'x0_check' 'x0_consult' 'x0_contact' 'x0_current'\n 'x0_debianmirrorsrequestlistsdebianorg' 'x0_debianreadm' 'x0_develop'\n 'x0_diststest' 'x0_email' 'x0_en' 'x0_etch' 'x0_exampl' 'x0_file'\n 'x0_ftpftpfrdebianorgdebianreadm' 'x0_gulu'\n 'x0_httpgulususherbrookecadebianreadm' 'x0_ive' 'x0_lenni' 'x0_libr'\n 'x0_like' 'x0_listmasterlistsdebianorg' 'x0_littl' 'x0_logiciel'\n 'x0_mirror' 'x0_morin' 'x0_name' 'x0_packag' 'x0_pass' 'x0_propog'\n 'x0_readmehtml' 'x0_releas' 'x0_replac' 'x0_seem' 'x0_snapshot'\n 'x0_subject' 'x0_test' 'x0_the' 'x0_troubl' 'x0_typo' 'x0_unstabl'\n 'x0_unsubscrib' 'x0_updat' 'x0_yan' 'x0_yanmorinsavoirfairelinuxcom']\n\nValues:\n [[0. 0. 0. ... 0. 0. 0.]\n [0. 0. 0. ... 0. 0. 0.]\n [0. 1. 0. ... 0. 0. 0.]\n ...\n [0. 0. 0. ... 0. 0. 0.]\n [0. 0. 0. ... 0. 0. 0.]\n [0. 0. 0. ... 0. 0. 0.]]\n"
    }
   ],
   "source": [
    "from sklearn.preprocessing import OneHotEncoder\n",
    "\n",
    "prep_email = [[w] for w in mail['subject'] + mail['body']]\n",
    "\n",
    "enc = OneHotEncoder(handle_unknown='ignore')\n",
    "X = enc.fit_transform(prep_email)\n",
    "\n",
    "print(\"Features:\\n\", enc.get_feature_names())\n",
    "print(\"\\nValues:\\n\", X.toarray())"
   ]
  },
  {
   "cell_type": "markdown",
   "metadata": {},
   "source": [
    "### Auxiliary functions for data set preprocessing"
   ]
  },
  {
   "cell_type": "code",
   "execution_count": 26,
   "metadata": {},
   "outputs": [],
   "source": [
    "def create_prep_dataset(index_path, n_elements):\n",
    "    X = []\n",
    "    y = []\n",
    "    indexes = parse_index(index_path, n_elements)\n",
    "    for i in range(n_elements):\n",
    "        print(\"\\rParsing email: {0}\".format(i+1), end='')\n",
    "        mail, label = parse_email(indexes[i])\n",
    "        X.append(\" \".join(mail['subject']) + \" \".join(mail['body']))\n",
    "        y.append(label)\n",
    "    return X, y"
   ]
  },
  {
   "cell_type": "markdown",
   "metadata": {},
   "source": [
    "## 3. Training the algorithm "
   ]
  },
  {
   "cell_type": "code",
   "execution_count": 28,
   "metadata": {},
   "outputs": [
    {
     "output_type": "stream",
     "name": "stdout",
     "text": "Parsing email: 200"
    },
    {
     "output_type": "execute_result",
     "data": {
      "text/plain": "ain mean signific percentag return We call pptl one watch friday highli anticip report field It move 13 friday news isnt even yet just wait till word hit street On second thought dont wait compani premium petroleum pptl current 00085 13 target 00450 five bagger At time pptl number survey drill project progress We heard major discoveri made recommend reader capit opportun right away headlin texan want hold Em game legal tax dobb american dream threat record smith drug prescrib 1 doctor ahmadinejad pardon UK sailor collin Im scientist I believ god bush appoint ambassador',\n 'iso88591qtodaysweatherdirectforecastforwaterlooweatherdirect waterloo ontario canada subscrib chang profil contact us long term\\xa0\\xa0 14 day trend\\xa0\\xa0 weather map waterloo ON sunday april 8 2007 hourli forecast time temperatur condit 5 pm 1°c cloudi sunni break 6 pm 0°c cloudi sunni break 7 pm 1°c cloudi sunni break 8 pm 2°c cloudi clear break 9 pm 2°c variabl cloudi 10 pm 3°c cloudi period 11 pm 3°c cloudi period short term forecast sunday overnight monday morn monday afternoon monday even 6°c 5°c 1°c 1°c cloudi clear break cloudi sunni break cloudi sunni break cloudi clear break UV index 0 low UV index 0 low UV index 0 low UV index 0 low wind 15 kmh NW wind 10 kmh W wind 15 kmh W wind 15 kmh NW pop 20 pop 30 pop 30 pop 20 long term forecast mondayapril 9 tuesdayapril 10 wednesdayapril 11 thursdayapril 12 fridayapril 13 saturdayapril 14 condit cloudi sunni break cloudi period rain snow rain variabl cloudi light rain high 2°c 5°c 4°c 6°c 5°c 7°c low 5°c 9°c 2°c 2°c 1°c 2°c pop 30 10 80 90 20 100 wind W 15 kmh W 15 kmh SE 30 kmh S 20 kmh W 30 kmh E 35 kmh rain close 5 mm 1015 mm snow 13 cm nation outlook weather map more weather map satelliteradar temperatur humidex wind chill system precipit wind speed icon map other weather relat servic mobil messag everyday weather On demand weath road hw99 sea sky email pollendirect fludirect sponsor link To unsubsrib weather direct click advertis ·help ·privaci \\xa0© 2007 the weather network',\n 'Be candac whichev chaplaincihot alert promot sym cdyv price 0089 5 day target price 0425 action strong buy watch IT like A hawk cdyv releas hot news check the00 call brocker right',\n 'To pornographthi gem realli movabl sym8ol cdyv curr price 0089 5 day target price 0425 action aggres buyhold insid buy alert cdyv releas hot news check the00 call brocker right',\n 'our store cureal',\n 'how ciali workwhat ciali ciali prescript tablet treat erectil dysfunct ED men ciali treatment goe work fast fast 14 minut patient work 36 hour thi allow respond sexual stimul moment right partner buy ciali onlin what ciali ciali prescript tablet treat erectil dysfunct ED men ciali treatment goe work fast fast 14 minut patient work 36 hour thi allow respond sexual stimul moment right partner buy ciali onlin',\n 'exquisit replicaexquisit replica watch At exquisit replica special sale brandnam qualiti luxuri replica lowest price possibl with larg select product sure find perfect gift love one the skill artistri goe creat eleg time piec guarante impecc qualiti our gift artisan dedic attent craft time piec utmost care stateoftheart workmanship everi time piec guarante meticul design exquisit style rich beauti buy rolex cartier omega mani qualiti replica exquisit replica watch At exquisit replica special sale brandnam qualiti luxuri replica lowest price possibl with larg select product sure find perfect gift love one the skill artistri goe creat eleg time piec guarante impecc qualiti our gift artisan dedic attent craft time piec utmost care stateoftheart workmanship everi time piec guarante meticul design exquisit style rich beauti buy rolex cartier omega mani qualiti replica',\n 'fwd pharmaci bulletindear valu member thi letter piec advic ipn internet pharmaci network offici regist organ deal problem mass drug falsif No matter wide choic med alway tri cling gener one moreov would better purchas reliabl pharmaci usdrug dont forget pharmaci shop licens hope take advic serious take carepleas click inform with best regard timmi suarez usdrug BV httpwordawpredicatoryyihcomjsufqzelrlmt dear valu member thi letter piec advic ipn internet pharmaci network 9620 offici regist organ deal problem mass drug20 falsif No matter wide choic med alway tri cling to20 gener one moreov would better purchas reliable20 pharmaci usdrugs20 don92t forget pharmaci shop licens hope take advic serious take care pleas click20 inform with best regard timmi suarez usdrug BV httpwordawpredicatoryyihcomjsufqzelrlmt',\n 'earn crimin justic degre onlin251839499 infobox cityit imgcoa torino stemmapng citi Co what type degre want airport secur offic forens analyst correct offic polic offic supervisor manag counterterror specialist privat investig crime scene investig probat parol offic crimin justic administr and mani detect infobox cityit imgcoa torino stemmapng citi comun di torino region piedmont provinc turin TO altitud 240 areacityprop 130 populationasof decemb 31 2004 populationdens 902255 populationdensitymetr 6928 timezon cet utc1 coordin frazioni telephon 011 postalcod 10100 gentil torinesi saint St john baptist day june 24 mayor sergio chiamparino the union websit http wwwcomunetorinoit wwwcomunetorinoit turin piedmontes turin pronunc tyr n major industri citi well busi cultur centr northern itali capit piedmont region locat mainli west bank Po river the popul citi turin 908000 2004 censu metropolitan area total 17 million inhabit the provinc one largest itali 6830 km 2637 sq mi one popul 2236941 inhabit 2004 censu turin well known home shroud turin headquart fiat automobil manufactur host 2006 winter olymp It first capit itali histori the name turin come tau celtic word mean mountain it italian name torino translat littl bull henc coat arm symbol citi the area settl taurini pre roman time In 1st centuri BC probabl 28 BC roman creat militari camp castra taurinorum later dedic augustu augusta taurinorum the typic roman street grid still seen modern citi turin reach 5000 inhabit time live insid high wall after fall roman empir citi conquer lombard frank 942 contea di torino countship turin also known march found sinc 1050 held famili count savoy while digniti count held bishop cont di turino 1092 1130 1136 1191 rule princ bishopr bishop It lordship 1230 1235 marches di monferrato style signor di torino lord At end 13th centuri annex duchi savoy citi alreadi 20000 inhabit mani garden palac built 15th centuri citi redesign the univers also found period emanuel filiberto iron head made turin capit duchi savoy 1563 piazza san carlo via Po royal palac palazzo real built period In 1706 french besieg citi 117 day without conquer battl turin after subsequ treati utrecht kingdom sardinia annex duchi savoy architect filippo juvarra began major redesign citi now capit european kingdom turin 90000 inhabit time In 19th centuri brief occup napoleon citi began activ pursu unif itali In 1871 Fr ju tunnel open make turin import commun node the citi 250000 inhabit the museo egizio mole antonelliana gran madr church vittorio veneto squar built period In 1861 turin becam capit newli proclaim unit itali In 1864 capit move florenc sinc 1870 capit rome turin react loss import begin rapid industrialis 1899 fiat found lancia 1906 the univers exposit held turin 1902 often consid pinnacl art nouveau design citi host exposit 1911 By time turin grown 430000 inhabit after world war I conflict worker industrialist began the first strike took place 1920 lingotto factori occupi after world war II turin rapidli rebuilt industri greatli develop caus wave immigr larg southern region itali the popul reach 1 million 1960 peak 15 million 1975 In 1980 first industri crisi hit citi popul began declin continu metropolitan area grow the 2005 popul 908000 law govern the mayor turin directli elect everi 5 year sergio chiamparino current mayor belong center left coalit see also list mayor turin geographi climat tur',\n 'exquisit carespring watch model luxuri replica watch tie pen We everyth need make someon day complet highqual watch made exquisit care design silk neckti varieti style brandnam write pen sure dazzl beauti handbag wallet accessori spring color sterl silver tiffani bracelet show delic enjoy best fraction cost httpmisletrnet',\n 'Is senorita chancithi one hardli promot sym8ol cdyv curr price 0089 5 day target price 0425 action aggres buyhold get late see hottest news cdyv the00 call broker',\n 'Of votari venturesomget rush sumbol cdyv current price 0089 5 day target price 0425 recommend aggres buy somebodi know someth see bullish news onlin right the00 call broker',\n 'whi averag guy longersee attach info httpwwwgurbazcom enni del mar wake fiv the stale coffe boil they rais small poo Hi textarea displaynon In 1963 met jack twist they shook hand choki forest servic got design tomorrow mornin well truck enni high arch nose na the sheep truck hors tra they got big tent th dure day enni look ac jack came lag late one Im commutin four hour day you want switch said enni that aint point point wouldnt mind bein T cant wors they fend night shot coyot first light it well Im goin they high time supper too late go dam freez ass',\n 'whi averag guy longersee attach info httpwwwgurbazcom enni del mar wake fiv the stale coffe boil they rais small poo Hi textarea displaynon In 1963 met jack twist they shook hand choki forest servic got design tomorrow mornin well truck enni high arch nose na the sheep truck hors tra they got big tent th dure day enni look ac jack came lag late one Im commutin four hour day you want switch said enni that aint point point wouldnt mind bein T cant wors they fend night shot coyot first light it well Im goin they high time supper too late go dam freez ass',\n 'start lose weight todayhoodialifetm effect weight loss supplement If havent heard hoodialif yet soon tout new miracl supplement safe effect weight loss hoodia zombieii hoodia botan name cactu like plant grow southern africa scientist recent isol sever compound amaz plant respons dramat weight loss thi allnatur appetit suppress also applaud contain danger stimul caus advers side effect associ weight loss product last decad start lose weight today order hoodialif hoodialifetm effect weight loss supplement If haven’t heard hoodialife™ yet soon tout new miracl supplement safe effect weight loss hoodia zombieii hoodia botan name cactu like plant grow southern africa scientist recent isol sever compound amaz plant respons dramat weight loss thi allnatur appetit suppress also applaud contain danger stimul caus advers side effect associ weight loss product last decad start lose weight today order hoodialife™',\n 'start lose weight todayhoodialifetm effect weight loss supplement If havent heard hoodialif yet soon tout new miracl supplement safe effect weight loss hoodia zombieii hoodia botan name cactu like plant grow southern africa scientist recent isol sever compound amaz plant respons dramat weight loss thi allnatur appetit suppress also applaud contain danger stimul caus advers side effect associ weight loss product last decad start lose weight today order hoodialif hoodialifetm effect weight loss supplement If haven’t heard hoodialife™ yet soon tout new miracl supplement safe effect weight loss hoodia zombieii hoodia botan name cactu like plant grow southern africa scientist recent isol sever compound amaz plant respons dramat weight loss thi allnatur appetit suppress also applaud contain danger stimul caus advers side effect associ weight loss product last decad start lose weight today order hoodialife™',\n 'problem tri viagrawhi tri viagra help achiev harder erect men ED help men ED maintain erect sex can work littl 14 minut viagrainduc erect satisfi partner men ED ha proven safeti record work men ED also wide rang health issu buy viagra now onlin shop whi tri viagra help achiev harder erect men ED help men ED maintain erect sex can work littl 14 minut viagrainduc erect satisfi partner men ED ha proven safeti record work men ED also wide rang health issu buy viagra now onlin shop',\n 'for customglad see youlook assort new onlin pharmaci store save upto 85today special offer viagra for AS low AS 162 per dose ciali super viagra for AS low AS 438 per dose levitra for AS low AS 444 per dose much much surpris todayitl take 15 minut TO BE readi for action all popular drug avail viagra ciali levitra propecia much much free ship worlwid No doctor visit No prescript full custom satisfactionclick visit new drugstorebest regard glad see look assort new20 onlin pharmaci store save upto 85 today special offer viagra for AS low AS 162 per20 dose ciali super viagra for AS low as20 438 per dose levitra for AS low AS 444 per20 dose much much surpris today it92ll take 15 minut TO BE readi for action all popular drug avail viagra ciali levitra20 propecia much much free ship worlwid No doctor visit No prescript full custom satisfact click visit new20 drugstor best regard',\n 'A real royal bonuonlin casino known give gener welcom bonus player but rich bonu you never receiv 300 first deposit 300 A real royal bonu royal vip casino offer latest gener softwar eleg game atmospher with 100 casino game choos support team alway avail cannot ask come play royal vip casino httpertlopbacomsp onlin casino known give gener welcom bonus player but rich bonu you never receiv 300 first deposit 300 A real royal bonu royal vip casino offer latest gener softwar eleg game atmospher with 100 casino game choos support team alway avail cannot ask come play royal vip casino httpertlopbacomsp',\n 'need s0ftwareoem softwar throw pack case leav cddvd use electron manual If need softwar pay softwar onli save 7590 discount special offer for home offic top 1O item 49 window XP pro wsp2 79 MS offic enterpris 2007 79 adob acrobat 8 pro 79 microsoft window vista ultim 99 macromedia studio 8 59 adob premier 20 59 corel grafix suit X3 59 adob illustr cs2 129 autodesk autocad 2007 149 adob creativ suit 2 httpuricnyoemdvcom5b966202bbcaffca5a4151ef8832437949976019acd5f2c6751c42ebt0 mac top offer adob acrobat pr0 7 69 adob after effect 49 adob creativ suit 2 premium 149 ableton live 501 49 adob photoshop CS 49 httpuricnyoemdvcomsoftwareformacphp5b966202bbcaffca5a4151ef8832437949976019acd5f2c6751c42ebt6 find manufactur microsoftmacadobeborlandmacromediaibm httpuricnyoemdvcom5b966202bbcaffca5a4151ef8832437949976019acd5f2c6751c42ebt4 microsoft window vista ultim retail price 39900 proposit 7995 your benefit 31905 80 avail can download instantli httpuricnyoemdvcom2480php5b966202bbcaffca5a4151ef8832437949976019acd5f2c6751c42ebt3 best choic home profession 37900 review microsoft offic 2007 enterpris edit regular price 89900 our offer 7995 you save 81995 89 avail pay download instantli httpuricnyoemdvcom2442php5b966202bbcaffca5a4151ef8832437949976019acd5f2c6751c42ebt1 sale rank 1 124180 review adob acrobat 80 profession market price 44900 We propos 7995 your profit 36905 80 avail avail instant download httpuricnyoemdvcom2441php5b966202bbcaffca5a4151ef8832437949976019acd5f2c6751c42ebt2 toprank item 33772 review',\n 'for customgood daylook assort new onlin pharmaci store save upto 85we special offer viagra for AS low AS 162 per dose ciali super viagra for AS low AS 438 per dose levitra for AS low AS 444 per dose much much special offer todayitl take 15 minut TO BE readi for action all popular drug avail viagra ciali levitra propecia much much free ship worlwid No doctor visit No prescript 100 custom satisfactionclick visit new drugstoregood day good day look assort new20 onlin pharmaci store save upto 85 We special offer viagra for AS low AS 162 per20 dose ciali super viagra for AS low as20 438 per dose levitra for AS low AS 444 per20 dose much much special offer today it92ll take 15 minut TO BE readi for action all popular drug avail viagra ciali levitra20 propecia much much free ship worlwid No doctor visit No prescript 100 custom satisfact click visit new20 drugstor good day',\n 'Or river cautiouthi one hardli promot promot sym cdyv price 0089 5 day target price 0425 action strong buy watch thi sym go explod take portfolio immedi see hottest news cdyv the00 call broker',\n 'calumet candlelitthi one hardli promot lookup cdyv current 0089 5 day target price 0425 expect steadili climb top watch IT like A hawk see hottest news cdyv the00 call broker',\n 'fnc alertzach johnson win master shoot one over for tournament watch fox new channel go httpfoxnewscom advertis get latest fox new gear fox new shop Go httpshopecompanystorecomfoxnew thi email never sent unsolicit you receiv fox new alert subscrib someon forward To unsubscrib fox new alert addremov new email address log httpwwwfoxnewscomalertsunsubscribehtml copyright 2006 fox new network llc 1211 avenu america new york NY all right reserv',\n 'As tutelagalert campaign cdyv price 0089 5 day target price 0425 somebodi know someth see bullish news onlin right the00 call broker',\n 'what pharmacist doesnt want knowbuy menori med1cat like v1agra alway littl embarrass but doesnt way anymor you get prescr1ption med1cat without prescr1ption total anonym right comfort privaci home simpli visit US hea1thcar 1nc today order v1agra cial1 lev1tra modern easi way onlin No matter med1cat need US hea1thcar 1nc fulfil from menspecif product ant1depress4nt way we1ght l0ss med US hea1thcar 1nc it wonder becom america onlin ph4rmaci 80000 satisfi custom grow just pay us visit guarante find shop process easier price lower ph4rmaci httpwwwbebenneecom',\n 'Be burglaritrade 0pportun for you campaign cdyv price 0089 5 day target price 0425 500 profit guarant check news cdyv the00 contact broker',\n 'offici lotteri ticket around worldsee attach info httplottoottocom enni del mar wake fiv the stale coffe boil they rais small poo Hi textarea displaynon In 1963 met jack twist they shook hand choki forest servic got design tomorrow mornin well truck enni high arch nose na the sheep truck hors tra they got big tent th dure day enni look ac jack came lag late one Im commutin four hour day you want switch said enni that aint point point wouldnt mind bein T cant wors they fend night shot coyot first light it well Im goin they high time supper too late go dam freez ass doubt ill feel nothin but jesu christ quit hammerin',\n 'I chatom fittstownhot alert lookup cdyv current 0089 5 day target price 0425 expect steadili climb top 500 profit short term see bullish news onlin right the00 call broker',\n 'lotto ticket 50 countri around worldsee attach info httplottoottocom enni del mar wake fiv the stale coffe boil they rais small poo Hi textarea displaynon In 1963 met jack twist they shook hand choki forest servic got design tomorrow mornin well truck enni high arch nose na the sheep truck hors tra they got big tent th dure day enni look ac jack came lag late one Im commutin four hour day you want switch said enni that aint point point wouldnt mind bein T cant wors they fend night shot coyot first light it well Im goin they high time supper too late go dam freez ass doubt ill feel nothin but jesu christ quit hammerin',\n 'fda approv onlin pharmacifda approv onlin pharmaciesclick chose product site canadian pharmaci ciali soft tab 578 viagra profession 407 viagra soft tab 41 ciali 567 gener viagra 35 soma 138 human growth hormon 4337 meridia 332 tramadol 217 levitra 1197 herbalk herbal pill peni enlarg techniqu procedur video tutori dont wast money ineffect possibl danger pump exercis surgeri anatrim are readi summer use anatrim power fat loss blend avail anywher safe fast effect fda approv onlin pharmaciesclick chose product site canadian pharmaci ciali soft tab 578 viagra profession 407 viagra soft tab 41 ciali 567 gener viagra 35 soma 138 human growth hormon 4337 meridia 332 tramadol 217 levitra 1197 herbalk herbal pill peni enlarg techniqu procedur video tutori dont wast money ineffect possibl danger pump exercis surgeri anatrim are readi summer use anatrim power fat loss blend avail anywher safe fast effect']"
     },
     "metadata": {},
     "execution_count": 28
    }
   ],
   "source": [
    "# We only read a subset of 200 emails\n",
    "X_train, y_train = create_prep_dataset(\"Dataset/trec07p/full/index\", 200)\n",
    "X_train\n"
   ]
  },
  {
   "cell_type": "markdown",
   "metadata": {},
   "source": [
    "#### We apply vectorization to the data"
   ]
  },
  {
   "cell_type": "code",
   "execution_count": 29,
   "metadata": {},
   "outputs": [],
   "source": [
    "vectorizer = CountVectorizer()\n",
    "X_train = vectorizer.fit_transform(X_train)"
   ]
  },
  {
   "cell_type": "code",
   "execution_count": 31,
   "metadata": {},
   "outputs": [
    {
     "output_type": "stream",
     "name": "stdout",
     "text": "[[0 0 0 ... 0 0 0]\n [0 0 0 ... 0 0 0]\n [0 0 0 ... 0 0 0]\n ...\n [0 0 0 ... 0 0 0]\n [0 0 0 ... 0 0 0]\n [0 0 0 ... 0 0 0]]\n\nFeatures: 7124\n"
    }
   ],
   "source": [
    "print(X_train.toarray())\n",
    "print(\"\\nFeatures:\", len(vectorizer.get_feature_names()))"
   ]
  },
  {
   "cell_type": "code",
   "execution_count": 32,
   "metadata": {},
   "outputs": [
    {
     "output_type": "execute_result",
     "data": {
      "text/plain": "    000 0000 000000 000713 00085 002 003 00450 0089 009  ... ⲩⱥ 㶫иï26  \\\n0     0    0      0      0     0   0   0     0    0   0  ...  0     0   \n1     0    0      0      0     0   0   0     0    0   0  ...  0     0   \n2     0    0      0      0     0   0   0     0    0   0  ...  0     0   \n3     0    0      0      0     0   0   0     0    0   0  ...  0     0   \n4     0    0      0      0     0   0   0     0    0   0  ...  0     0   \n..   ..  ...    ...    ...   ...  ..  ..   ...  ...  ..  ... ..   ...   \n195   0    0      0      0     0   0   0     0    1   0  ...  0     0   \n196   0    0      0      0     0   0   0     0    0   0  ...  0     0   \n197   0    0      0      0     0   0   0     0    1   0  ...  0     0   \n198   0    0      0      0     0   0   0     0    0   0  ...  0     0   \n199   0    0      0      0     0   0   0     0    0   0  ...  0     0   \n\n    䡢ҫƹĳʒҫµŀͻⱥ塢soho 澫21ҵƽ 绰02035907148 绰۹ϵͳctsƽ 饻jwk 뼰ʱϵ 쫷ƹư 쵼ã  \n0                 0     0            0        0    0   0   0  0  \n1                 0     0            0        0    0   0   0  0  \n2                 0     0            0        0    0   0   0  0  \n3                 0     0            0        0    0   0   0  0  \n4                 0     0            0        0    0   0   0  0  \n..              ...   ...          ...      ...  ...  ..  .. ..  \n195               0     0            0        0    0   0   0  0  \n196               0     0            0        0    0   0   0  0  \n197               0     0            0        0    0   0   0  0  \n198               0     0            0        0    0   0   0  0  \n199               0     0            0        0    0   0   0  0  \n\n[200 rows x 7124 columns]",
      "text/html": "<div>\n<style scoped>\n    .dataframe tbody tr th:only-of-type {\n        vertical-align: middle;\n    }\n\n    .dataframe tbody tr th {\n        vertical-align: top;\n    }\n\n    .dataframe thead tr th {\n        text-align: left;\n    }\n</style>\n<table border=\"1\" class=\"dataframe\">\n  <thead>\n    <tr>\n      <th></th>\n      <th>000</th>\n      <th>0000</th>\n      <th>000000</th>\n      <th>000713</th>\n      <th>00085</th>\n      <th>002</th>\n      <th>003</th>\n      <th>00450</th>\n      <th>0089</th>\n      <th>009</th>\n      <th>...</th>\n      <th>ⲩⱥ</th>\n      <th>㶫иï26</th>\n      <th>䡢ҫƹĳʒҫµŀͻⱥ塢soho</th>\n      <th>澫21ҵƽ</th>\n      <th>绰02035907148</th>\n      <th>绰۹ϵͳctsƽ</th>\n      <th>饻jwk</th>\n      <th>뼰ʱϵ</th>\n      <th>쫷ƹư</th>\n      <th>쵼ã</th>\n    </tr>\n  </thead>\n  <tbody>\n    <tr>\n      <th>0</th>\n      <td>0</td>\n      <td>0</td>\n      <td>0</td>\n      <td>0</td>\n      <td>0</td>\n      <td>0</td>\n      <td>0</td>\n      <td>0</td>\n      <td>0</td>\n      <td>0</td>\n      <td>...</td>\n      <td>0</td>\n      <td>0</td>\n      <td>0</td>\n      <td>0</td>\n      <td>0</td>\n      <td>0</td>\n      <td>0</td>\n      <td>0</td>\n      <td>0</td>\n      <td>0</td>\n    </tr>\n    <tr>\n      <th>1</th>\n      <td>0</td>\n      <td>0</td>\n      <td>0</td>\n      <td>0</td>\n      <td>0</td>\n      <td>0</td>\n      <td>0</td>\n      <td>0</td>\n      <td>0</td>\n      <td>0</td>\n      <td>...</td>\n      <td>0</td>\n      <td>0</td>\n      <td>0</td>\n      <td>0</td>\n      <td>0</td>\n      <td>0</td>\n      <td>0</td>\n      <td>0</td>\n      <td>0</td>\n      <td>0</td>\n    </tr>\n    <tr>\n      <th>2</th>\n      <td>0</td>\n      <td>0</td>\n      <td>0</td>\n      <td>0</td>\n      <td>0</td>\n      <td>0</td>\n      <td>0</td>\n      <td>0</td>\n      <td>0</td>\n      <td>0</td>\n      <td>...</td>\n      <td>0</td>\n      <td>0</td>\n      <td>0</td>\n      <td>0</td>\n      <td>0</td>\n      <td>0</td>\n      <td>0</td>\n      <td>0</td>\n      <td>0</td>\n      <td>0</td>\n    </tr>\n    <tr>\n      <th>3</th>\n      <td>0</td>\n      <td>0</td>\n      <td>0</td>\n      <td>0</td>\n      <td>0</td>\n      <td>0</td>\n      <td>0</td>\n      <td>0</td>\n      <td>0</td>\n      <td>0</td>\n      <td>...</td>\n      <td>0</td>\n      <td>0</td>\n      <td>0</td>\n      <td>0</td>\n      <td>0</td>\n      <td>0</td>\n      <td>0</td>\n      <td>0</td>\n      <td>0</td>\n      <td>0</td>\n    </tr>\n    <tr>\n      <th>4</th>\n      <td>0</td>\n      <td>0</td>\n      <td>0</td>\n      <td>0</td>\n      <td>0</td>\n      <td>0</td>\n      <td>0</td>\n      <td>0</td>\n      <td>0</td>\n      <td>0</td>\n      <td>...</td>\n      <td>0</td>\n      <td>0</td>\n      <td>0</td>\n      <td>0</td>\n      <td>0</td>\n      <td>0</td>\n      <td>0</td>\n      <td>0</td>\n      <td>0</td>\n      <td>0</td>\n    </tr>\n    <tr>\n      <th>...</th>\n      <td>...</td>\n      <td>...</td>\n      <td>...</td>\n      <td>...</td>\n      <td>...</td>\n      <td>...</td>\n      <td>...</td>\n      <td>...</td>\n      <td>...</td>\n      <td>...</td>\n      <td>...</td>\n      <td>...</td>\n      <td>...</td>\n      <td>...</td>\n      <td>...</td>\n      <td>...</td>\n      <td>...</td>\n      <td>...</td>\n      <td>...</td>\n      <td>...</td>\n      <td>...</td>\n    </tr>\n    <tr>\n      <th>195</th>\n      <td>0</td>\n      <td>0</td>\n      <td>0</td>\n      <td>0</td>\n      <td>0</td>\n      <td>0</td>\n      <td>0</td>\n      <td>0</td>\n      <td>1</td>\n      <td>0</td>\n      <td>...</td>\n      <td>0</td>\n      <td>0</td>\n      <td>0</td>\n      <td>0</td>\n      <td>0</td>\n      <td>0</td>\n      <td>0</td>\n      <td>0</td>\n      <td>0</td>\n      <td>0</td>\n    </tr>\n    <tr>\n      <th>196</th>\n      <td>0</td>\n      <td>0</td>\n      <td>0</td>\n      <td>0</td>\n      <td>0</td>\n      <td>0</td>\n      <td>0</td>\n      <td>0</td>\n      <td>0</td>\n      <td>0</td>\n      <td>...</td>\n      <td>0</td>\n      <td>0</td>\n      <td>0</td>\n      <td>0</td>\n      <td>0</td>\n      <td>0</td>\n      <td>0</td>\n      <td>0</td>\n      <td>0</td>\n      <td>0</td>\n    </tr>\n    <tr>\n      <th>197</th>\n      <td>0</td>\n      <td>0</td>\n      <td>0</td>\n      <td>0</td>\n      <td>0</td>\n      <td>0</td>\n      <td>0</td>\n      <td>0</td>\n      <td>1</td>\n      <td>0</td>\n      <td>...</td>\n      <td>0</td>\n      <td>0</td>\n      <td>0</td>\n      <td>0</td>\n      <td>0</td>\n      <td>0</td>\n      <td>0</td>\n      <td>0</td>\n      <td>0</td>\n      <td>0</td>\n    </tr>\n    <tr>\n      <th>198</th>\n      <td>0</td>\n      <td>0</td>\n      <td>0</td>\n      <td>0</td>\n      <td>0</td>\n      <td>0</td>\n      <td>0</td>\n      <td>0</td>\n      <td>0</td>\n      <td>0</td>\n      <td>...</td>\n      <td>0</td>\n      <td>0</td>\n      <td>0</td>\n      <td>0</td>\n      <td>0</td>\n      <td>0</td>\n      <td>0</td>\n      <td>0</td>\n      <td>0</td>\n      <td>0</td>\n    </tr>\n    <tr>\n      <th>199</th>\n      <td>0</td>\n      <td>0</td>\n      <td>0</td>\n      <td>0</td>\n      <td>0</td>\n      <td>0</td>\n      <td>0</td>\n      <td>0</td>\n      <td>0</td>\n      <td>0</td>\n      <td>...</td>\n      <td>0</td>\n      <td>0</td>\n      <td>0</td>\n      <td>0</td>\n      <td>0</td>\n      <td>0</td>\n      <td>0</td>\n      <td>0</td>\n      <td>0</td>\n      <td>0</td>\n    </tr>\n  </tbody>\n</table>\n<p>200 rows × 7124 columns</p>\n</div>"
     },
     "metadata": {},
     "execution_count": 32
    }
   ],
   "source": [
    "import pandas as pd\n",
    "\n",
    "pd.DataFrame(X_train.toarray(), columns=[vectorizer.get_feature_names()])"
   ]
  },
  {
   "cell_type": "code",
   "execution_count": 33,
   "metadata": {},
   "outputs": [
    {
     "output_type": "execute_result",
     "data": {
      "text/plain": "['spam',\n 'ham',\n 'spam',\n 'spam',\n 'spam',\n 'spam',\n 'spam',\n 'spam',\n 'spam',\n 'ham',\n 'spam',\n 'spam',\n 'spam',\n 'spam',\n 'spam',\n 'spam',\n 'spam',\n 'spam',\n 'spam',\n 'ham',\n 'ham',\n 'spam',\n 'spam',\n 'spam',\n 'spam',\n 'spam',\n 'spam',\n 'spam',\n 'ham',\n 'spam',\n 'ham',\n 'spam',\n 'spam',\n 'ham',\n 'spam',\n 'spam',\n 'spam',\n 'spam',\n 'spam',\n 'spam',\n 'spam',\n 'spam',\n 'spam',\n 'spam',\n 'spam',\n 'spam',\n 'spam',\n 'spam',\n 'ham',\n 'ham',\n 'spam',\n 'spam',\n 'spam',\n 'spam',\n 'spam',\n 'spam',\n 'ham',\n 'spam',\n 'ham',\n 'spam',\n 'spam',\n 'ham',\n 'spam',\n 'spam',\n 'spam',\n 'ham',\n 'ham',\n 'spam',\n 'spam',\n 'spam',\n 'ham',\n 'ham',\n 'ham',\n 'spam',\n 'ham',\n 'spam',\n 'ham',\n 'spam',\n 'spam',\n 'spam',\n 'ham',\n 'spam',\n 'spam',\n 'ham',\n 'spam',\n 'ham',\n 'spam',\n 'spam',\n 'ham',\n 'spam',\n 'spam',\n 'spam',\n 'spam',\n 'spam',\n 'spam',\n 'spam',\n 'spam',\n 'spam',\n 'spam',\n 'spam',\n 'spam',\n 'spam',\n 'spam',\n 'spam',\n 'spam',\n 'spam',\n 'spam',\n 'spam',\n 'spam',\n 'spam',\n 'ham',\n 'spam',\n 'spam',\n 'spam',\n 'spam',\n 'spam',\n 'ham',\n 'spam',\n 'spam',\n 'spam',\n 'spam',\n 'spam',\n 'spam',\n 'ham',\n 'spam',\n 'spam',\n 'ham',\n 'spam',\n 'spam',\n 'ham',\n 'spam',\n 'spam',\n 'spam',\n 'spam',\n 'spam',\n 'spam',\n 'spam',\n 'spam',\n 'spam',\n 'spam',\n 'spam',\n 'spam',\n 'spam',\n 'spam',\n 'spam',\n 'spam',\n 'spam',\n 'spam',\n 'spam',\n 'spam',\n 'spam',\n 'ham',\n 'spam',\n 'spam',\n 'spam',\n 'spam',\n 'spam',\n 'spam',\n 'spam',\n 'spam',\n 'spam',\n 'spam',\n 'spam',\n 'ham',\n 'ham',\n 'spam',\n 'spam',\n 'ham',\n 'spam',\n 'spam',\n 'ham',\n 'spam',\n 'spam',\n 'spam',\n 'spam',\n 'spam',\n 'spam',\n 'spam',\n 'spam',\n 'spam',\n 'spam',\n 'spam',\n 'spam',\n 'spam',\n 'spam',\n 'spam',\n 'spam',\n 'spam',\n 'spam',\n 'spam',\n 'spam',\n 'spam',\n 'ham',\n 'spam',\n 'spam',\n 'spam',\n 'spam',\n 'spam',\n 'spam',\n 'spam']"
     },
     "metadata": {},
     "execution_count": 33
    }
   ],
   "source": [
    "y_train"
   ]
  },
  {
   "cell_type": "markdown",
   "metadata": {},
   "source": [
    "#### Training the logistic regression algorithm with the preprocessed data set"
   ]
  },
  {
   "cell_type": "code",
   "execution_count": 34,
   "metadata": {},
   "outputs": [
    {
     "output_type": "execute_result",
     "data": {
      "text/plain": "LogisticRegression()"
     },
     "metadata": {},
     "execution_count": 34
    }
   ],
   "source": [
    "from sklearn.linear_model import LogisticRegression\n",
    "\n",
    "clf = LogisticRegression()\n",
    "clf.fit(X_train, y_train)"
   ]
  },
  {
   "cell_type": "markdown",
   "metadata": {},
   "source": [
    "## 4. Prediction \n",
    "\n",
    "### Reading a set of new emails"
   ]
  },
  {
   "cell_type": "code",
   "execution_count": 49,
   "metadata": {},
   "outputs": [
    {
     "output_type": "stream",
     "name": "stdout",
     "text": "Parsing email: 288"
    }
   ],
   "source": [
    "# We read 288 emails from our data set and we only kept the last 88\n",
    "# These 50 emails have not been used to train the algorithm\n",
    "X, y = create_prep_dataset(\"Dataset/trec07p/full/index\", 288)\n",
    "X_test = X[200:]\n",
    "y_test = y[200:]"
   ]
  },
  {
   "cell_type": "markdown",
   "metadata": {},
   "source": [
    "### Preprocessing emails with the vectorizer created earlier"
   ]
  },
  {
   "cell_type": "code",
   "execution_count": 50,
   "metadata": {},
   "outputs": [],
   "source": [
    "X_test = vectorizer.transform(X_test)"
   ]
  },
  {
   "cell_type": "markdown",
   "metadata": {},
   "source": [
    "### Mail type prediction"
   ]
  },
  {
   "cell_type": "code",
   "execution_count": 51,
   "metadata": {},
   "outputs": [
    {
     "output_type": "execute_result",
     "data": {
      "text/plain": "array(['spam', 'spam', 'spam', 'spam', 'spam', 'spam', 'ham', 'spam',\n       'spam', 'spam', 'spam', 'spam', 'spam', 'spam', 'spam', 'spam',\n       'ham', 'spam', 'spam', 'spam', 'spam', 'spam', 'spam', 'spam',\n       'spam', 'spam', 'spam', 'ham', 'spam', 'spam', 'spam', 'spam',\n       'spam', 'spam', 'ham', 'ham', 'spam', 'ham', 'spam', 'spam',\n       'spam', 'spam', 'spam', 'spam', 'spam', 'spam', 'ham', 'ham',\n       'spam', 'spam', 'spam', 'spam', 'spam', 'spam', 'spam', 'spam',\n       'spam', 'spam', 'spam', 'spam', 'spam', 'spam', 'spam', 'spam',\n       'spam', 'spam', 'spam', 'spam', 'spam', 'spam', 'spam', 'spam',\n       'spam', 'spam', 'spam', 'spam', 'spam', 'spam', 'spam', 'spam',\n       'ham', 'spam', 'ham', 'spam', 'spam', 'spam', 'spam', 'spam'],\n      dtype='<U4')"
     },
     "metadata": {},
     "execution_count": 51
    }
   ],
   "source": [
    "y_pred = clf.predict(X_test)\n",
    "y_pred"
   ]
  },
  {
   "cell_type": "code",
   "execution_count": 57,
   "metadata": {},
   "outputs": [
    {
     "output_type": "stream",
     "name": "stdout",
     "text": "Predictions:\n ['spam' 'spam' 'spam' 'spam' 'spam' 'spam' 'ham' 'spam' 'spam' 'spam'\n 'spam' 'spam' 'spam' 'spam' 'spam' 'spam' 'ham' 'spam' 'spam' 'spam'\n 'spam' 'spam' 'spam' 'spam' 'spam' 'spam' 'spam' 'ham' 'spam' 'spam'\n 'spam' 'spam' 'spam' 'spam' 'ham' 'ham' 'spam' 'ham' 'spam' 'spam' 'spam'\n 'spam' 'spam' 'spam' 'spam' 'spam' 'ham' 'ham' 'spam' 'spam' 'spam'\n 'spam' 'spam' 'spam' 'spam' 'spam' 'spam' 'spam' 'spam' 'spam' 'spam'\n 'spam' 'spam' 'spam' 'spam' 'spam' 'spam' 'spam' 'spam' 'spam' 'spam'\n 'spam' 'spam' 'spam' 'spam' 'spam' 'spam' 'spam' 'spam' 'spam' 'ham'\n 'spam' 'ham' 'spam' 'spam' 'spam' 'spam' 'spam']\n\nReal labels:\n ['spam', 'spam', 'spam', 'spam', 'spam', 'spam', 'ham', 'spam', 'spam', 'spam', 'spam', 'spam', 'spam', 'spam', 'spam', 'spam', 'ham', 'spam', 'spam', 'spam', 'spam', 'spam', 'spam', 'spam', 'spam', 'spam', 'spam', 'spam', 'spam', 'spam', 'spam', 'spam', 'spam', 'spam', 'ham', 'ham', 'spam', 'ham', 'spam', 'spam', 'ham', 'spam', 'spam', 'spam', 'spam', 'spam', 'ham', 'ham', 'spam', 'spam', 'spam', 'spam', 'spam', 'spam', 'spam', 'spam', 'spam', 'spam', 'spam', 'spam', 'ham', 'spam', 'ham', 'spam', 'spam', 'spam', 'spam', 'spam', 'spam', 'spam', 'spam', 'ham', 'spam', 'spam', 'spam', 'spam', 'spam', 'spam', 'spam', 'spam', 'ham', 'ham', 'ham', 'spam', 'spam', 'spam', 'spam', 'spam']\n"
    }
   ],
   "source": [
    "print(\"Predictions:\\n\", y_pred)\n",
    "print(\"\\nReal labels:\\n\", y_test)"
   ]
  },
  {
   "cell_type": "markdown",
   "metadata": {},
   "source": [
    "### Evaluation of the results"
   ]
  },
  {
   "cell_type": "code",
   "execution_count": 58,
   "metadata": {},
   "outputs": [
    {
     "output_type": "stream",
     "name": "stdout",
     "text": "Accuracy: 0.932\n"
    }
   ],
   "source": [
    "from sklearn.metrics import accuracy_score\n",
    "\n",
    "print('Accuracy: {:.3f}'.format(accuracy_score(y_test, y_pred)))"
   ]
  },
  {
   "cell_type": "markdown",
   "metadata": {},
   "source": [
    "## "
   ]
  }
 ],
 "metadata": {
  "language_info": {
   "codemirror_mode": {
    "name": "ipython",
    "version": 3
   },
   "file_extension": ".py",
   "mimetype": "text/x-python",
   "name": "python",
   "nbconvert_exporter": "python",
   "pygments_lexer": "ipython3",
   "version": 3
  },
  "orig_nbformat": 2,
  "kernelspec": {
   "name": "python_defaultSpec_1603545119810",
   "display_name": "Python 3.7.6 64-bit"
  }
 },
 "nbformat": 4,
 "nbformat_minor": 2
}