{
 "cells": [
  {
   "cell_type": "markdown",
   "metadata": {},
   "source": [
    "<h1><center> Numpy - Numerical Pyhton </<center></h2>\n",
    "\n",
    "\n",
    "## Introduction\n",
    "\n",
    " - Numpy is a fundamental library for scientific computing with Python.\n",
    "\n",
    " - Provides N-dimensional arrays\n",
    "\n",
    " - Implement sophisticated math functions\n",
    "\n",
    " - Provides tools to integrate C / C ++ and Fortran\n",
    "\n",
    " - Provides mechanisms to facilitate the completion of tasks related to linear algebra or random numbers\n",
    " \n"
   ]
  },
  {
   "cell_type": "code",
   "execution_count": 1,
   "metadata": {},
   "outputs": [],
   "source": [
    "# Import Numpy\n",
    "import numpy as np"
   ]
  },
  {
   "cell_type": "markdown",
   "metadata": {},
   "source": [
    "\n",
    "## Numpy Arrays\n",
    "\n",
    " - An array is a data structure that contains of a collection of elements(values or variable), and each element is identified by at least one key or index. It is stored in a position so that each elements can be calculated from its index tuple using mathematical formular. \n",
    "\n",
    " - The one-dimensional array is a type of array and seems to be the simplest of all other types of array.\n",
    "\n",
    " - Numpy arrays has the following features:\n",
    "\n",
    "   - Each dimension is called the axis\n",
    "\n",
    "   - The number of dimensions is called rank\n",
    "\n",
    "   - The list of dimensions with their corresponding length is called shape\n",
    "\n",
    "   - The total number of elements (multiplication of the length of the dimensions) is called size.\n"
   ]
  },
  {
   "cell_type": "code",
   "execution_count": 2,
   "metadata": {},
   "outputs": [],
   "source": [
    "# Arrays whose values are all 0\n",
    "a = np.zeros((2, 4))"
   ]
  },
  {
   "cell_type": "code",
   "execution_count": 3,
   "metadata": {},
   "outputs": [
    {
     "output_type": "execute_result",
     "data": {
      "text/plain": "array([[0., 0., 0., 0.],\n       [0., 0., 0., 0.]])"
     },
     "metadata": {},
     "execution_count": 3
    }
   ],
   "source": [
    "a"
   ]
  },
  {
   "cell_type": "markdown",
   "metadata": {},
   "source": [
    "### a is an array:\n",
    "\n",
    " - With two axes, the first of length 2 and the second of length 4\n",
    "\n",
    " - With a rank equal to 2\n",
    "\n",
    " - With a shape equal to (2,4)\n",
    "\n",
    " - With a size equal to 8"
   ]
  },
  {
   "cell_type": "code",
   "execution_count": 4,
   "metadata": {},
   "outputs": [
    {
     "output_type": "execute_result",
     "data": {
      "text/plain": "(2, 4)"
     },
     "metadata": {},
     "execution_count": 4
    }
   ],
   "source": [
    "# The shape of the array\n",
    "a.shape"
   ]
  },
  {
   "cell_type": "code",
   "execution_count": 5,
   "metadata": {},
   "outputs": [
    {
     "output_type": "execute_result",
     "data": {
      "text/plain": "2"
     },
     "metadata": {},
     "execution_count": 5
    }
   ],
   "source": [
    "# The n-dimension of the array\n",
    "a.ndim"
   ]
  },
  {
   "cell_type": "code",
   "execution_count": 6,
   "metadata": {},
   "outputs": [
    {
     "output_type": "execute_result",
     "data": {
      "text/plain": "8"
     },
     "metadata": {},
     "execution_count": 6
    }
   ],
   "source": [
    "# The size of the array\n",
    "a.size"
   ]
  },
  {
   "cell_type": "markdown",
   "metadata": {},
   "source": [
    "## Array Creation"
   ]
  },
  {
   "cell_type": "code",
   "execution_count": 7,
   "metadata": {},
   "outputs": [
    {
     "output_type": "execute_result",
     "data": {
      "text/plain": "array([[[0., 0., 0., 0.],\n        [0., 0., 0., 0.],\n        [0., 0., 0., 0.]],\n\n       [[0., 0., 0., 0.],\n        [0., 0., 0., 0.],\n        [0., 0., 0., 0.]]])"
     },
     "metadata": {},
     "execution_count": 7
    }
   ],
   "source": [
    "# Array whose values are all 0\n",
    "np.zeros((2, 3, 4))"
   ]
  },
  {
   "cell_type": "code",
   "execution_count": 8,
   "metadata": {},
   "outputs": [
    {
     "output_type": "execute_result",
     "data": {
      "text/plain": "array([[[1., 1., 1., 1.],\n        [1., 1., 1., 1.],\n        [1., 1., 1., 1.]],\n\n       [[1., 1., 1., 1.],\n        [1., 1., 1., 1.],\n        [1., 1., 1., 1.]]])"
     },
     "metadata": {},
     "execution_count": 8
    }
   ],
   "source": [
    "# Array whose values are all 1\n",
    "np.ones((2, 3, 4))"
   ]
  },
  {
   "cell_type": "code",
   "execution_count": 9,
   "metadata": {},
   "outputs": [
    {
     "output_type": "execute_result",
     "data": {
      "text/plain": "array([[[8, 8, 8, 8],\n        [8, 8, 8, 8],\n        [8, 8, 8, 8]],\n\n       [[8, 8, 8, 8],\n        [8, 8, 8, 8],\n        [8, 8, 8, 8]]])"
     },
     "metadata": {},
     "execution_count": 9
    }
   ],
   "source": [
    "# Array whose values are all the value indicated as the second parameter of the function\n",
    "np.full((2, 3, 4), 8)"
   ]
  },
  {
   "cell_type": "code",
   "execution_count": 10,
   "metadata": {},
   "outputs": [
    {
     "output_type": "execute_result",
     "data": {
      "text/plain": "array([[[ 2.07507571e-322,  8.19739284e-227,  3.55470321e-149,\n         -3.15666436e+304, -1.17517706e+304,              nan,\n                      nan,  8.08544308e-174,  5.31301134e-260],\n        [-1.34636319e+026,  6.92141137e-310,  6.92141136e-310,\n         -1.60903203e+068,  6.92141137e-310,  6.92141066e-310,\n         -5.25748551e+188,  6.92141137e-310,  4.64630032e-310],\n        [-1.64161159e-062,  6.92141137e-310,  4.64630032e-310,\n          7.63308152e+266,  6.92141137e-310,  4.64630032e-310,\n          1.32525448e-204,  6.92141070e-310,  6.92141138e-310]],\n\n       [[-8.62500669e-077,  6.92141136e-310,  6.92141138e-310,\n          3.60916689e-088,  6.92141065e-310,  6.92140936e-310,\n          1.95392372e-094,  6.92141065e-310,  6.92140685e-310],\n        [-1.08244356e-106,  6.92141065e-310,  6.92140936e-310,\n         -1.88691349e-072,  6.92141099e-310,  6.92140936e-310,\n         -2.43997565e-281,  6.92141065e-310,  6.92140685e-310],\n        [ 1.06930867e+170,  6.92141125e-310,  6.92140935e-310,\n         -6.92287540e-269,  6.92141137e-310,  6.92140685e-310,\n          1.61390696e+128,  6.92141128e-310,  6.92140685e-310]]])"
     },
     "metadata": {},
     "execution_count": 10
    }
   ],
   "source": [
    "# The result of np.empty is not predictable\n",
    "# Initialize the array values with what is in memory at that moment\n",
    "np.empty((2, 3, 9))"
   ]
  },
  {
   "cell_type": "code",
   "execution_count": 11,
   "metadata": {},
   "outputs": [
    {
     "output_type": "execute_result",
     "data": {
      "text/plain": "array([[1, 2, 3],\n       [4, 5, 6]])"
     },
     "metadata": {},
     "execution_count": 11
    }
   ],
   "source": [
    "# Initialization of the array using a python array\n",
    "b = np.array([[1, 2, 3], [4, 5, 6]])\n",
    "b"
   ]
  },
  {
   "cell_type": "code",
   "execution_count": 12,
   "metadata": {},
   "outputs": [
    {
     "output_type": "execute_result",
     "data": {
      "text/plain": "(2, 3)"
     },
     "metadata": {},
     "execution_count": 12
    }
   ],
   "source": [
    "b.shape"
   ]
  },
  {
   "cell_type": "code",
   "execution_count": 13,
   "metadata": {},
   "outputs": [
    {
     "output_type": "stream",
     "name": "stdout",
     "text": "[0.         0.66666667 1.33333333 2.         2.66666667 3.33333333\n 4.         4.66666667 5.33333333 6.        ]\n"
    }
   ],
   "source": [
    "# Creating the array using a range-based function\n",
    "# (minimum, maximum, number elements of the array)\n",
    "print(np.linspace(0, 6, 10))"
   ]
  },
  {
   "cell_type": "code",
   "execution_count": 14,
   "metadata": {},
   "outputs": [
    {
     "output_type": "execute_result",
     "data": {
      "text/plain": "array([[[0.49253898, 0.93126343, 0.77790876, 0.3455225 ],\n        [0.10980369, 0.46926098, 0.91969956, 0.5309803 ],\n        [0.11367275, 0.6158105 , 0.55330278, 0.10065325]],\n\n       [[0.24813676, 0.46604215, 0.8532789 , 0.17790728],\n        [0.4662202 , 0.37526113, 0.18960473, 0.02713858],\n        [0.75277106, 0.68514545, 0.77325656, 0.76379056]]])"
     },
     "metadata": {},
     "execution_count": 14
    }
   ],
   "source": [
    "# Initialization of the array with random values\n",
    "np.random.rand(2, 3, 4)"
   ]
  },
  {
   "cell_type": "code",
   "execution_count": 15,
   "metadata": {},
   "outputs": [
    {
     "output_type": "execute_result",
     "data": {
      "text/plain": "array([[-1.27525679,  1.03563646, -1.17808611,  0.77283874],\n       [ 1.76902466,  1.38051296, -0.7761322 ,  0.85071721]])"
     },
     "metadata": {},
     "execution_count": 15
    }
   ],
   "source": [
    "# Initialization of the array with random values according to a normal distribution\n",
    "np.random.randn(2, 4)"
   ]
  },
  {
   "cell_type": "code",
   "execution_count": 16,
   "metadata": {},
   "outputs": [
    {
     "output_type": "display_data",
     "data": {
      "text/plain": "<Figure size 432x288 with 1 Axes>",
      "image/svg+xml": "<?xml version=\"1.0\" encoding=\"utf-8\" standalone=\"no\"?>\n<!DOCTYPE svg PUBLIC \"-//W3C//DTD SVG 1.1//EN\"\n  \"http://www.w3.org/Graphics/SVG/1.1/DTD/svg11.dtd\">\n<!-- Created with matplotlib (https://matplotlib.org/) -->\n<svg height=\"248.518125pt\" version=\"1.1\" viewBox=\"0 0 388.0125 248.518125\" width=\"388.0125pt\" xmlns=\"http://www.w3.org/2000/svg\" xmlns:xlink=\"http://www.w3.org/1999/xlink\">\n <defs>\n  <style type=\"text/css\">\n*{stroke-linecap:butt;stroke-linejoin:round;white-space:pre;}\n  </style>\n </defs>\n <g id=\"figure_1\">\n  <g id=\"patch_1\">\n   <path d=\"M 0 248.518125 \nL 388.0125 248.518125 \nL 388.0125 0 \nL 0 0 \nz\n\" style=\"fill:none;\"/>\n  </g>\n  <g id=\"axes_1\">\n   <g id=\"patch_2\">\n    <path d=\"M 46.0125 224.64 \nL 380.8125 224.64 \nL 380.8125 7.2 \nL 46.0125 7.2 \nz\n\" style=\"fill:#ffffff;\"/>\n   </g>\n   <g id=\"patch_3\">\n    <path clip-path=\"url(#p3911ffde31)\" d=\"M 61.230682 224.64 \nL 62.7525 224.64 \nL 62.7525 224.629872 \nL 61.230682 224.629872 \nz\n\" style=\"fill:#1f77b4;\"/>\n   </g>\n   <g id=\"patch_4\">\n    <path clip-path=\"url(#p3911ffde31)\" d=\"M 62.7525 224.64 \nL 64.274318 224.64 \nL 64.274318 224.64 \nL 62.7525 224.64 \nz\n\" style=\"fill:#1f77b4;\"/>\n   </g>\n   <g id=\"patch_5\">\n    <path clip-path=\"url(#p3911ffde31)\" d=\"M 64.274318 224.64 \nL 65.796136 224.64 \nL 65.796136 224.619744 \nL 64.274318 224.619744 \nz\n\" style=\"fill:#1f77b4;\"/>\n   </g>\n   <g id=\"patch_6\">\n    <path clip-path=\"url(#p3911ffde31)\" d=\"M 65.796136 224.64 \nL 67.317955 224.64 \nL 67.317955 224.629872 \nL 65.796136 224.629872 \nz\n\" style=\"fill:#1f77b4;\"/>\n   </g>\n   <g id=\"patch_7\">\n    <path clip-path=\"url(#p3911ffde31)\" d=\"M 67.317955 224.64 \nL 68.839773 224.64 \nL 68.839773 224.64 \nL 67.317955 224.64 \nz\n\" style=\"fill:#1f77b4;\"/>\n   </g>\n   <g id=\"patch_8\">\n    <path clip-path=\"url(#p3911ffde31)\" d=\"M 68.839773 224.64 \nL 70.361591 224.64 \nL 70.361591 224.64 \nL 68.839773 224.64 \nz\n\" style=\"fill:#1f77b4;\"/>\n   </g>\n   <g id=\"patch_9\">\n    <path clip-path=\"url(#p3911ffde31)\" d=\"M 70.361591 224.64 \nL 71.883409 224.64 \nL 71.883409 224.629872 \nL 70.361591 224.629872 \nz\n\" style=\"fill:#1f77b4;\"/>\n   </g>\n   <g id=\"patch_10\">\n    <path clip-path=\"url(#p3911ffde31)\" d=\"M 71.883409 224.64 \nL 73.405227 224.64 \nL 73.405227 224.64 \nL 71.883409 224.64 \nz\n\" style=\"fill:#1f77b4;\"/>\n   </g>\n   <g id=\"patch_11\">\n    <path clip-path=\"url(#p3911ffde31)\" d=\"M 73.405227 224.64 \nL 74.927045 224.64 \nL 74.927045 224.64 \nL 73.405227 224.64 \nz\n\" style=\"fill:#1f77b4;\"/>\n   </g>\n   <g id=\"patch_12\">\n    <path clip-path=\"url(#p3911ffde31)\" d=\"M 74.927045 224.64 \nL 76.448864 224.64 \nL 76.448864 224.599488 \nL 74.927045 224.599488 \nz\n\" style=\"fill:#1f77b4;\"/>\n   </g>\n   <g id=\"patch_13\">\n    <path clip-path=\"url(#p3911ffde31)\" d=\"M 76.448864 224.64 \nL 77.970682 224.64 \nL 77.970682 224.609616 \nL 76.448864 224.609616 \nz\n\" style=\"fill:#1f77b4;\"/>\n   </g>\n   <g id=\"patch_14\">\n    <path clip-path=\"url(#p3911ffde31)\" d=\"M 77.970682 224.64 \nL 79.4925 224.64 \nL 79.4925 224.609616 \nL 77.970682 224.609616 \nz\n\" style=\"fill:#1f77b4;\"/>\n   </g>\n   <g id=\"patch_15\">\n    <path clip-path=\"url(#p3911ffde31)\" d=\"M 79.4925 224.64 \nL 81.014318 224.64 \nL 81.014318 224.609616 \nL 79.4925 224.609616 \nz\n\" style=\"fill:#1f77b4;\"/>\n   </g>\n   <g id=\"patch_16\">\n    <path clip-path=\"url(#p3911ffde31)\" d=\"M 81.014318 224.64 \nL 82.536136 224.64 \nL 82.536136 224.508337 \nL 81.014318 224.508337 \nz\n\" style=\"fill:#1f77b4;\"/>\n   </g>\n   <g id=\"patch_17\">\n    <path clip-path=\"url(#p3911ffde31)\" d=\"M 82.536136 224.64 \nL 84.057955 224.64 \nL 84.057955 224.579232 \nL 82.536136 224.579232 \nz\n\" style=\"fill:#1f77b4;\"/>\n   </g>\n   <g id=\"patch_18\">\n    <path clip-path=\"url(#p3911ffde31)\" d=\"M 84.057955 224.64 \nL 85.579773 224.64 \nL 85.579773 224.58936 \nL 84.057955 224.58936 \nz\n\" style=\"fill:#1f77b4;\"/>\n   </g>\n   <g id=\"patch_19\">\n    <path clip-path=\"url(#p3911ffde31)\" d=\"M 85.579773 224.64 \nL 87.101591 224.64 \nL 87.101591 224.467825 \nL 85.579773 224.467825 \nz\n\" style=\"fill:#1f77b4;\"/>\n   </g>\n   <g id=\"patch_20\">\n    <path clip-path=\"url(#p3911ffde31)\" d=\"M 87.101591 224.64 \nL 88.623409 224.64 \nL 88.623409 224.548849 \nL 87.101591 224.548849 \nz\n\" style=\"fill:#1f77b4;\"/>\n   </g>\n   <g id=\"patch_21\">\n    <path clip-path=\"url(#p3911ffde31)\" d=\"M 88.623409 224.64 \nL 90.145227 224.64 \nL 90.145227 224.528593 \nL 88.623409 224.528593 \nz\n\" style=\"fill:#1f77b4;\"/>\n   </g>\n   <g id=\"patch_22\">\n    <path clip-path=\"url(#p3911ffde31)\" d=\"M 90.145227 224.64 \nL 91.667045 224.64 \nL 91.667045 224.467825 \nL 90.145227 224.467825 \nz\n\" style=\"fill:#1f77b4;\"/>\n   </g>\n   <g id=\"patch_23\">\n    <path clip-path=\"url(#p3911ffde31)\" d=\"M 91.667045 224.64 \nL 93.188864 224.64 \nL 93.188864 224.508337 \nL 91.667045 224.508337 \nz\n\" style=\"fill:#1f77b4;\"/>\n   </g>\n   <g id=\"patch_24\">\n    <path clip-path=\"url(#p3911ffde31)\" d=\"M 93.188864 224.64 \nL 94.710682 224.64 \nL 94.710682 224.437441 \nL 93.188864 224.437441 \nz\n\" style=\"fill:#1f77b4;\"/>\n   </g>\n   <g id=\"patch_25\">\n    <path clip-path=\"url(#p3911ffde31)\" d=\"M 94.710682 224.64 \nL 96.2325 224.64 \nL 96.2325 224.34629 \nL 94.710682 224.34629 \nz\n\" style=\"fill:#1f77b4;\"/>\n   </g>\n   <g id=\"patch_26\">\n    <path clip-path=\"url(#p3911ffde31)\" d=\"M 96.2325 224.64 \nL 97.754318 224.64 \nL 97.754318 224.457697 \nL 96.2325 224.457697 \nz\n\" style=\"fill:#1f77b4;\"/>\n   </g>\n   <g id=\"patch_27\">\n    <path clip-path=\"url(#p3911ffde31)\" d=\"M 97.754318 224.64 \nL 99.276136 224.64 \nL 99.276136 224.15386 \nL 97.754318 224.15386 \nz\n\" style=\"fill:#1f77b4;\"/>\n   </g>\n   <g id=\"patch_28\">\n    <path clip-path=\"url(#p3911ffde31)\" d=\"M 99.276136 224.64 \nL 100.797955 224.64 \nL 100.797955 224.163987 \nL 99.276136 224.163987 \nz\n\" style=\"fill:#1f77b4;\"/>\n   </g>\n   <g id=\"patch_29\">\n    <path clip-path=\"url(#p3911ffde31)\" d=\"M 100.797955 224.64 \nL 102.319773 224.64 \nL 102.319773 224.174115 \nL 100.797955 224.174115 \nz\n\" style=\"fill:#1f77b4;\"/>\n   </g>\n   <g id=\"patch_30\">\n    <path clip-path=\"url(#p3911ffde31)\" d=\"M 102.319773 224.64 \nL 103.841591 224.64 \nL 103.841591 223.991813 \nL 102.319773 223.991813 \nz\n\" style=\"fill:#1f77b4;\"/>\n   </g>\n   <g id=\"patch_31\">\n    <path clip-path=\"url(#p3911ffde31)\" d=\"M 103.841591 224.64 \nL 105.363409 224.64 \nL 105.363409 223.931045 \nL 103.841591 223.931045 \nz\n\" style=\"fill:#1f77b4;\"/>\n   </g>\n   <g id=\"patch_32\">\n    <path clip-path=\"url(#p3911ffde31)\" d=\"M 105.363409 224.64 \nL 106.885227 224.64 \nL 106.885227 223.596824 \nL 105.363409 223.596824 \nz\n\" style=\"fill:#1f77b4;\"/>\n   </g>\n   <g id=\"patch_33\">\n    <path clip-path=\"url(#p3911ffde31)\" d=\"M 106.885227 224.64 \nL 108.407045 224.64 \nL 108.407045 223.455033 \nL 106.885227 223.455033 \nz\n\" style=\"fill:#1f77b4;\"/>\n   </g>\n   <g id=\"patch_34\">\n    <path clip-path=\"url(#p3911ffde31)\" d=\"M 108.407045 224.64 \nL 109.928864 224.64 \nL 109.928864 223.141067 \nL 108.407045 223.141067 \nz\n\" style=\"fill:#1f77b4;\"/>\n   </g>\n   <g id=\"patch_35\">\n    <path clip-path=\"url(#p3911ffde31)\" d=\"M 109.928864 224.64 \nL 111.450682 224.64 \nL 111.450682 222.97902 \nL 109.928864 222.97902 \nz\n\" style=\"fill:#1f77b4;\"/>\n   </g>\n   <g id=\"patch_36\">\n    <path clip-path=\"url(#p3911ffde31)\" d=\"M 111.450682 224.64 \nL 112.9725 224.64 \nL 112.9725 222.624543 \nL 111.450682 222.624543 \nz\n\" style=\"fill:#1f77b4;\"/>\n   </g>\n   <g id=\"patch_37\">\n    <path clip-path=\"url(#p3911ffde31)\" d=\"M 112.9725 224.64 \nL 114.494318 224.64 \nL 114.494318 222.401728 \nL 112.9725 222.401728 \nz\n\" style=\"fill:#1f77b4;\"/>\n   </g>\n   <g id=\"patch_38\">\n    <path clip-path=\"url(#p3911ffde31)\" d=\"M 114.494318 224.64 \nL 116.016136 224.64 \nL 116.016136 222.189042 \nL 114.494318 222.189042 \nz\n\" style=\"fill:#1f77b4;\"/>\n   </g>\n   <g id=\"patch_39\">\n    <path clip-path=\"url(#p3911ffde31)\" d=\"M 116.016136 224.64 \nL 117.537955 224.64 \nL 117.537955 221.692773 \nL 116.016136 221.692773 \nz\n\" style=\"fill:#1f77b4;\"/>\n   </g>\n   <g id=\"patch_40\">\n    <path clip-path=\"url(#p3911ffde31)\" d=\"M 117.537955 224.64 \nL 119.059773 224.64 \nL 119.059773 221.186377 \nL 117.537955 221.186377 \nz\n\" style=\"fill:#1f77b4;\"/>\n   </g>\n   <g id=\"patch_41\">\n    <path clip-path=\"url(#p3911ffde31)\" d=\"M 119.059773 224.64 \nL 120.581591 224.64 \nL 120.581591 220.902795 \nL 119.059773 220.902795 \nz\n\" style=\"fill:#1f77b4;\"/>\n   </g>\n   <g id=\"patch_42\">\n    <path clip-path=\"url(#p3911ffde31)\" d=\"M 120.581591 224.64 \nL 122.103409 224.64 \nL 122.103409 220.224224 \nL 120.581591 220.224224 \nz\n\" style=\"fill:#1f77b4;\"/>\n   </g>\n   <g id=\"patch_43\">\n    <path clip-path=\"url(#p3911ffde31)\" d=\"M 122.103409 224.64 \nL 123.625227 224.64 \nL 123.625227 219.353222 \nL 122.103409 219.353222 \nz\n\" style=\"fill:#1f77b4;\"/>\n   </g>\n   <g id=\"patch_44\">\n    <path clip-path=\"url(#p3911ffde31)\" d=\"M 123.625227 224.64 \nL 125.147045 224.64 \nL 125.147045 218.705035 \nL 123.625227 218.705035 \nz\n\" style=\"fill:#1f77b4;\"/>\n   </g>\n   <g id=\"patch_45\">\n    <path clip-path=\"url(#p3911ffde31)\" d=\"M 125.147045 224.64 \nL 126.668864 224.64 \nL 126.668864 217.864417 \nL 125.147045 217.864417 \nz\n\" style=\"fill:#1f77b4;\"/>\n   </g>\n   <g id=\"patch_46\">\n    <path clip-path=\"url(#p3911ffde31)\" d=\"M 126.668864 224.64 \nL 128.190682 224.64 \nL 128.190682 216.649066 \nL 126.668864 216.649066 \nz\n\" style=\"fill:#1f77b4;\"/>\n   </g>\n   <g id=\"patch_47\">\n    <path clip-path=\"url(#p3911ffde31)\" d=\"M 128.190682 224.64 \nL 129.7125 224.64 \nL 129.7125 216.284461 \nL 128.190682 216.284461 \nz\n\" style=\"fill:#1f77b4;\"/>\n   </g>\n   <g id=\"patch_48\">\n    <path clip-path=\"url(#p3911ffde31)\" d=\"M 129.7125 224.64 \nL 131.234318 224.64 \nL 131.234318 214.663992 \nL 129.7125 214.663992 \nz\n\" style=\"fill:#1f77b4;\"/>\n   </g>\n   <g id=\"patch_49\">\n    <path clip-path=\"url(#p3911ffde31)\" d=\"M 131.234318 224.64 \nL 132.756136 224.64 \nL 132.756136 213.6512 \nL 131.234318 213.6512 \nz\n\" style=\"fill:#1f77b4;\"/>\n   </g>\n   <g id=\"patch_50\">\n    <path clip-path=\"url(#p3911ffde31)\" d=\"M 132.756136 224.64 \nL 134.277955 224.64 \nL 134.277955 212.162394 \nL 132.756136 212.162394 \nz\n\" style=\"fill:#1f77b4;\"/>\n   </g>\n   <g id=\"patch_51\">\n    <path clip-path=\"url(#p3911ffde31)\" d=\"M 134.277955 224.64 \nL 135.799773 224.64 \nL 135.799773 210.096297 \nL 134.277955 210.096297 \nz\n\" style=\"fill:#1f77b4;\"/>\n   </g>\n   <g id=\"patch_52\">\n    <path clip-path=\"url(#p3911ffde31)\" d=\"M 135.799773 224.64 \nL 137.321591 224.64 \nL 137.321591 208.587236 \nL 135.799773 208.587236 \nz\n\" style=\"fill:#1f77b4;\"/>\n   </g>\n   <g id=\"patch_53\">\n    <path clip-path=\"url(#p3911ffde31)\" d=\"M 137.321591 224.64 \nL 138.843409 224.64 \nL 138.843409 206.66293 \nL 137.321591 206.66293 \nz\n\" style=\"fill:#1f77b4;\"/>\n   </g>\n   <g id=\"patch_54\">\n    <path clip-path=\"url(#p3911ffde31)\" d=\"M 138.843409 224.64 \nL 140.365227 224.64 \nL 140.365227 203.280203 \nL 138.843409 203.280203 \nz\n\" style=\"fill:#1f77b4;\"/>\n   </g>\n   <g id=\"patch_55\">\n    <path clip-path=\"url(#p3911ffde31)\" d=\"M 140.365227 224.64 \nL 141.887045 224.64 \nL 141.887045 201.912933 \nL 140.365227 201.912933 \nz\n\" style=\"fill:#1f77b4;\"/>\n   </g>\n   <g id=\"patch_56\">\n    <path clip-path=\"url(#p3911ffde31)\" d=\"M 141.887045 224.64 \nL 143.408864 224.64 \nL 143.408864 198.94545 \nL 141.887045 198.94545 \nz\n\" style=\"fill:#1f77b4;\"/>\n   </g>\n   <g id=\"patch_57\">\n    <path clip-path=\"url(#p3911ffde31)\" d=\"M 143.408864 224.64 \nL 144.930682 224.64 \nL 144.930682 196.940121 \nL 143.408864 196.940121 \nz\n\" style=\"fill:#1f77b4;\"/>\n   </g>\n   <g id=\"patch_58\">\n    <path clip-path=\"url(#p3911ffde31)\" d=\"M 144.930682 224.64 \nL 146.4525 224.64 \nL 146.4525 193.729568 \nL 144.930682 193.729568 \nz\n\" style=\"fill:#1f77b4;\"/>\n   </g>\n   <g id=\"patch_59\">\n    <path clip-path=\"url(#p3911ffde31)\" d=\"M 146.4525 224.64 \nL 147.974318 224.64 \nL 147.974318 190.367097 \nL 146.4525 190.367097 \nz\n\" style=\"fill:#1f77b4;\"/>\n   </g>\n   <g id=\"patch_60\">\n    <path clip-path=\"url(#p3911ffde31)\" d=\"M 147.974318 224.64 \nL 149.496136 224.64 \nL 149.496136 186.315926 \nL 147.974318 186.315926 \nz\n\" style=\"fill:#1f77b4;\"/>\n   </g>\n   <g id=\"patch_61\">\n    <path clip-path=\"url(#p3911ffde31)\" d=\"M 149.496136 224.64 \nL 151.017955 224.64 \nL 151.017955 183.591514 \nL 149.496136 183.591514 \nz\n\" style=\"fill:#1f77b4;\"/>\n   </g>\n   <g id=\"patch_62\">\n    <path clip-path=\"url(#p3911ffde31)\" d=\"M 151.017955 224.64 \nL 152.539773 224.64 \nL 152.539773 179.732774 \nL 151.017955 179.732774 \nz\n\" style=\"fill:#1f77b4;\"/>\n   </g>\n   <g id=\"patch_63\">\n    <path clip-path=\"url(#p3911ffde31)\" d=\"M 152.539773 224.64 \nL 154.061591 224.64 \nL 154.061591 176.360174 \nL 152.539773 176.360174 \nz\n\" style=\"fill:#1f77b4;\"/>\n   </g>\n   <g id=\"patch_64\">\n    <path clip-path=\"url(#p3911ffde31)\" d=\"M 154.061591 224.64 \nL 155.583409 224.64 \nL 155.583409 170.303674 \nL 154.061591 170.303674 \nz\n\" style=\"fill:#1f77b4;\"/>\n   </g>\n   <g id=\"patch_65\">\n    <path clip-path=\"url(#p3911ffde31)\" d=\"M 155.583409 224.64 \nL 157.105227 224.64 \nL 157.105227 166.910819 \nL 155.583409 166.910819 \nz\n\" style=\"fill:#1f77b4;\"/>\n   </g>\n   <g id=\"patch_66\">\n    <path clip-path=\"url(#p3911ffde31)\" d=\"M 157.105227 224.64 \nL 158.627045 224.64 \nL 158.627045 161.127773 \nL 157.105227 161.127773 \nz\n\" style=\"fill:#1f77b4;\"/>\n   </g>\n   <g id=\"patch_67\">\n    <path clip-path=\"url(#p3911ffde31)\" d=\"M 158.627045 224.64 \nL 160.148864 224.64 \nL 160.148864 157.127242 \nL 158.627045 157.127242 \nz\n\" style=\"fill:#1f77b4;\"/>\n   </g>\n   <g id=\"patch_68\">\n    <path clip-path=\"url(#p3911ffde31)\" d=\"M 160.148864 224.64 \nL 161.670682 224.64 \nL 161.670682 151.56701 \nL 160.148864 151.56701 \nz\n\" style=\"fill:#1f77b4;\"/>\n   </g>\n   <g id=\"patch_69\">\n    <path clip-path=\"url(#p3911ffde31)\" d=\"M 161.670682 224.64 \nL 163.1925 224.64 \nL 163.1925 146.158697 \nL 161.670682 146.158697 \nz\n\" style=\"fill:#1f77b4;\"/>\n   </g>\n   <g id=\"patch_70\">\n    <path clip-path=\"url(#p3911ffde31)\" d=\"M 163.1925 224.64 \nL 164.714318 224.64 \nL 164.714318 141.570746 \nL 163.1925 141.570746 \nz\n\" style=\"fill:#1f77b4;\"/>\n   </g>\n   <g id=\"patch_71\">\n    <path clip-path=\"url(#p3911ffde31)\" d=\"M 164.714318 224.64 \nL 166.236136 224.64 \nL 166.236136 133.741859 \nL 164.714318 133.741859 \nz\n\" style=\"fill:#1f77b4;\"/>\n   </g>\n   <g id=\"patch_72\">\n    <path clip-path=\"url(#p3911ffde31)\" d=\"M 166.236136 224.64 \nL 167.757955 224.64 \nL 167.757955 129.164036 \nL 166.236136 129.164036 \nz\n\" style=\"fill:#1f77b4;\"/>\n   </g>\n   <g id=\"patch_73\">\n    <path clip-path=\"url(#p3911ffde31)\" d=\"M 167.757955 224.64 \nL 169.279773 224.64 \nL 169.279773 121.801034 \nL 167.757955 121.801034 \nz\n\" style=\"fill:#1f77b4;\"/>\n   </g>\n   <g id=\"patch_74\">\n    <path clip-path=\"url(#p3911ffde31)\" d=\"M 169.279773 224.64 \nL 170.801591 224.64 \nL 170.801591 116.159779 \nL 169.279773 116.159779 \nz\n\" style=\"fill:#1f77b4;\"/>\n   </g>\n   <g id=\"patch_75\">\n    <path clip-path=\"url(#p3911ffde31)\" d=\"M 170.801591 224.64 \nL 172.323409 224.64 \nL 172.323409 110.103279 \nL 170.801591 110.103279 \nz\n\" style=\"fill:#1f77b4;\"/>\n   </g>\n   <g id=\"patch_76\">\n    <path clip-path=\"url(#p3911ffde31)\" d=\"M 172.323409 224.64 \nL 173.845227 224.64 \nL 173.845227 102.112345 \nL 172.323409 102.112345 \nz\n\" style=\"fill:#1f77b4;\"/>\n   </g>\n   <g id=\"patch_77\">\n    <path clip-path=\"url(#p3911ffde31)\" d=\"M 173.845227 224.64 \nL 175.367045 224.64 \nL 175.367045 98.233349 \nL 173.845227 98.233349 \nz\n\" style=\"fill:#1f77b4;\"/>\n   </g>\n   <g id=\"patch_78\">\n    <path clip-path=\"url(#p3911ffde31)\" d=\"M 175.367045 224.64 \nL 176.888864 224.64 \nL 176.888864 91.204568 \nL 175.367045 91.204568 \nz\n\" style=\"fill:#1f77b4;\"/>\n   </g>\n   <g id=\"patch_79\">\n    <path clip-path=\"url(#p3911ffde31)\" d=\"M 176.888864 224.64 \nL 178.410682 224.64 \nL 178.410682 82.261608 \nL 176.888864 82.261608 \nz\n\" style=\"fill:#1f77b4;\"/>\n   </g>\n   <g id=\"patch_80\">\n    <path clip-path=\"url(#p3911ffde31)\" d=\"M 178.410682 224.64 \nL 179.9325 224.64 \nL 179.9325 77.258413 \nL 178.410682 77.258413 \nz\n\" style=\"fill:#1f77b4;\"/>\n   </g>\n   <g id=\"patch_81\">\n    <path clip-path=\"url(#p3911ffde31)\" d=\"M 179.9325 224.64 \nL 181.454318 224.64 \nL 181.454318 71.039866 \nL 179.9325 71.039866 \nz\n\" style=\"fill:#1f77b4;\"/>\n   </g>\n   <g id=\"patch_82\">\n    <path clip-path=\"url(#p3911ffde31)\" d=\"M 181.454318 224.64 \nL 182.976136 224.64 \nL 182.976136 65.216308 \nL 181.454318 65.216308 \nz\n\" style=\"fill:#1f77b4;\"/>\n   </g>\n   <g id=\"patch_83\">\n    <path clip-path=\"url(#p3911ffde31)\" d=\"M 182.976136 224.64 \nL 184.497955 224.64 \nL 184.497955 58.491365 \nL 182.976136 58.491365 \nz\n\" style=\"fill:#1f77b4;\"/>\n   </g>\n   <g id=\"patch_84\">\n    <path clip-path=\"url(#p3911ffde31)\" d=\"M 184.497955 224.64 \nL 186.019773 224.64 \nL 186.019773 55.088382 \nL 184.497955 55.088382 \nz\n\" style=\"fill:#1f77b4;\"/>\n   </g>\n   <g id=\"patch_85\">\n    <path clip-path=\"url(#p3911ffde31)\" d=\"M 186.019773 224.64 \nL 187.541591 224.64 \nL 187.541591 45.537747 \nL 186.019773 45.537747 \nz\n\" style=\"fill:#1f77b4;\"/>\n   </g>\n   <g id=\"patch_86\">\n    <path clip-path=\"url(#p3911ffde31)\" d=\"M 187.541591 224.64 \nL 189.063409 224.64 \nL 189.063409 44.221116 \nL 187.541591 44.221116 \nz\n\" style=\"fill:#1f77b4;\"/>\n   </g>\n   <g id=\"patch_87\">\n    <path clip-path=\"url(#p3911ffde31)\" d=\"M 189.063409 224.64 \nL 190.585227 224.64 \nL 190.585227 41.354913 \nL 189.063409 41.354913 \nz\n\" style=\"fill:#1f77b4;\"/>\n   </g>\n   <g id=\"patch_88\">\n    <path clip-path=\"url(#p3911ffde31)\" d=\"M 190.585227 224.64 \nL 192.107045 224.64 \nL 192.107045 36.402357 \nL 190.585227 36.402357 \nz\n\" style=\"fill:#1f77b4;\"/>\n   </g>\n   <g id=\"patch_89\">\n    <path clip-path=\"url(#p3911ffde31)\" d=\"M 192.107045 224.64 \nL 193.628864 224.64 \nL 193.628864 30.264834 \nL 192.107045 30.264834 \nz\n\" style=\"fill:#1f77b4;\"/>\n   </g>\n   <g id=\"patch_90\">\n    <path clip-path=\"url(#p3911ffde31)\" d=\"M 193.628864 224.64 \nL 195.150682 224.64 \nL 195.150682 30.578799 \nL 193.628864 30.578799 \nz\n\" style=\"fill:#1f77b4;\"/>\n   </g>\n   <g id=\"patch_91\">\n    <path clip-path=\"url(#p3911ffde31)\" d=\"M 195.150682 224.64 \nL 196.6725 224.64 \nL 196.6725 22.7094 \nL 195.150682 22.7094 \nz\n\" style=\"fill:#1f77b4;\"/>\n   </g>\n   <g id=\"patch_92\">\n    <path clip-path=\"url(#p3911ffde31)\" d=\"M 196.6725 224.64 \nL 198.194318 224.64 \nL 198.194318 24.451404 \nL 196.6725 24.451404 \nz\n\" style=\"fill:#1f77b4;\"/>\n   </g>\n   <g id=\"patch_93\">\n    <path clip-path=\"url(#p3911ffde31)\" d=\"M 198.194318 224.64 \nL 199.716136 224.64 \nL 199.716136 20.795222 \nL 198.194318 20.795222 \nz\n\" style=\"fill:#1f77b4;\"/>\n   </g>\n   <g id=\"patch_94\">\n    <path clip-path=\"url(#p3911ffde31)\" d=\"M 199.716136 224.64 \nL 201.237955 224.64 \nL 201.237955 18.718997 \nL 199.716136 18.718997 \nz\n\" style=\"fill:#1f77b4;\"/>\n   </g>\n   <g id=\"patch_95\">\n    <path clip-path=\"url(#p3911ffde31)\" d=\"M 201.237955 224.64 \nL 202.759773 224.64 \nL 202.759773 20.096395 \nL 201.237955 20.096395 \nz\n\" style=\"fill:#1f77b4;\"/>\n   </g>\n   <g id=\"patch_96\">\n    <path clip-path=\"url(#p3911ffde31)\" d=\"M 202.759773 224.64 \nL 204.281591 224.64 \nL 204.281591 17.554286 \nL 202.759773 17.554286 \nz\n\" style=\"fill:#1f77b4;\"/>\n   </g>\n   <g id=\"patch_97\">\n    <path clip-path=\"url(#p3911ffde31)\" d=\"M 204.281591 224.64 \nL 205.803409 224.64 \nL 205.803409 18.789893 \nL 204.281591 18.789893 \nz\n\" style=\"fill:#1f77b4;\"/>\n   </g>\n   <g id=\"patch_98\">\n    <path clip-path=\"url(#p3911ffde31)\" d=\"M 205.803409 224.64 \nL 207.325227 224.64 \nL 207.325227 18.07081 \nL 205.803409 18.07081 \nz\n\" style=\"fill:#1f77b4;\"/>\n   </g>\n   <g id=\"patch_99\">\n    <path clip-path=\"url(#p3911ffde31)\" d=\"M 207.325227 224.64 \nL 208.847045 224.64 \nL 208.847045 21.321874 \nL 207.325227 21.321874 \nz\n\" style=\"fill:#1f77b4;\"/>\n   </g>\n   <g id=\"patch_100\">\n    <path clip-path=\"url(#p3911ffde31)\" d=\"M 208.847045 224.64 \nL 210.368864 224.64 \nL 210.368864 20.825606 \nL 208.847045 20.825606 \nz\n\" style=\"fill:#1f77b4;\"/>\n   </g>\n   <g id=\"patch_101\">\n    <path clip-path=\"url(#p3911ffde31)\" d=\"M 210.368864 224.64 \nL 211.890682 224.64 \nL 211.890682 24.157694 \nL 210.368864 24.157694 \nz\n\" style=\"fill:#1f77b4;\"/>\n   </g>\n   <g id=\"patch_102\">\n    <path clip-path=\"url(#p3911ffde31)\" d=\"M 211.890682 224.64 \nL 213.4125 224.64 \nL 213.4125 27.813875 \nL 211.890682 27.813875 \nz\n\" style=\"fill:#1f77b4;\"/>\n   </g>\n   <g id=\"patch_103\">\n    <path clip-path=\"url(#p3911ffde31)\" d=\"M 213.4125 224.64 \nL 214.934318 224.64 \nL 214.934318 31.267498 \nL 213.4125 31.267498 \nz\n\" style=\"fill:#1f77b4;\"/>\n   </g>\n   <g id=\"patch_104\">\n    <path clip-path=\"url(#p3911ffde31)\" d=\"M 214.934318 224.64 \nL 216.456136 224.64 \nL 216.456136 34.964191 \nL 214.934318 34.964191 \nz\n\" style=\"fill:#1f77b4;\"/>\n   </g>\n   <g id=\"patch_105\">\n    <path clip-path=\"url(#p3911ffde31)\" d=\"M 216.456136 224.64 \nL 217.977955 224.64 \nL 217.977955 40.63583 \nL 216.456136 40.63583 \nz\n\" style=\"fill:#1f77b4;\"/>\n   </g>\n   <g id=\"patch_106\">\n    <path clip-path=\"url(#p3911ffde31)\" d=\"M 217.977955 224.64 \nL 219.499773 224.64 \nL 219.499773 41.000436 \nL 217.977955 41.000436 \nz\n\" style=\"fill:#1f77b4;\"/>\n   </g>\n   <g id=\"patch_107\">\n    <path clip-path=\"url(#p3911ffde31)\" d=\"M 219.499773 224.64 \nL 221.021591 224.64 \nL 221.021591 48.910346 \nL 219.499773 48.910346 \nz\n\" style=\"fill:#1f77b4;\"/>\n   </g>\n   <g id=\"patch_108\">\n    <path clip-path=\"url(#p3911ffde31)\" d=\"M 221.021591 224.64 \nL 222.543409 224.64 \nL 222.543409 51.108106 \nL 221.021591 51.108106 \nz\n\" style=\"fill:#1f77b4;\"/>\n   </g>\n   <g id=\"patch_109\">\n    <path clip-path=\"url(#p3911ffde31)\" d=\"M 222.543409 224.64 \nL 224.065227 224.64 \nL 224.065227 61.924732 \nL 222.543409 61.924732 \nz\n\" style=\"fill:#1f77b4;\"/>\n   </g>\n   <g id=\"patch_110\">\n    <path clip-path=\"url(#p3911ffde31)\" d=\"M 224.065227 224.64 \nL 225.587045 224.64 \nL 225.587045 65.317587 \nL 224.065227 65.317587 \nz\n\" style=\"fill:#1f77b4;\"/>\n   </g>\n   <g id=\"patch_111\">\n    <path clip-path=\"url(#p3911ffde31)\" d=\"M 225.587045 224.64 \nL 227.108864 224.64 \nL 227.108864 70.381551 \nL 225.587045 70.381551 \nz\n\" style=\"fill:#1f77b4;\"/>\n   </g>\n   <g id=\"patch_112\">\n    <path clip-path=\"url(#p3911ffde31)\" d=\"M 227.108864 224.64 \nL 228.630682 224.64 \nL 228.630682 75.901271 \nL 227.108864 75.901271 \nz\n\" style=\"fill:#1f77b4;\"/>\n   </g>\n   <g id=\"patch_113\">\n    <path clip-path=\"url(#p3911ffde31)\" d=\"M 228.630682 224.64 \nL 230.1525 224.64 \nL 230.1525 81.481758 \nL 228.630682 81.481758 \nz\n\" style=\"fill:#1f77b4;\"/>\n   </g>\n   <g id=\"patch_114\">\n    <path clip-path=\"url(#p3911ffde31)\" d=\"M 230.1525 224.64 \nL 231.674318 224.64 \nL 231.674318 90.414589 \nL 230.1525 90.414589 \nz\n\" style=\"fill:#1f77b4;\"/>\n   </g>\n   <g id=\"patch_115\">\n    <path clip-path=\"url(#p3911ffde31)\" d=\"M 231.674318 224.64 \nL 233.196136 224.64 \nL 233.196136 94.080899 \nL 231.674318 94.080899 \nz\n\" style=\"fill:#1f77b4;\"/>\n   </g>\n   <g id=\"patch_116\">\n    <path clip-path=\"url(#p3911ffde31)\" d=\"M 233.196136 224.64 \nL 234.717955 224.64 \nL 234.717955 99.722154 \nL 233.196136 99.722154 \nz\n\" style=\"fill:#1f77b4;\"/>\n   </g>\n   <g id=\"patch_117\">\n    <path clip-path=\"url(#p3911ffde31)\" d=\"M 234.717955 224.64 \nL 236.239773 224.64 \nL 236.239773 107.662448 \nL 234.717955 107.662448 \nz\n\" style=\"fill:#1f77b4;\"/>\n   </g>\n   <g id=\"patch_118\">\n    <path clip-path=\"url(#p3911ffde31)\" d=\"M 236.239773 224.64 \nL 237.761591 224.64 \nL 237.761591 114.225345 \nL 236.239773 114.225345 \nz\n\" style=\"fill:#1f77b4;\"/>\n   </g>\n   <g id=\"patch_119\">\n    <path clip-path=\"url(#p3911ffde31)\" d=\"M 237.761591 224.64 \nL 239.283409 224.64 \nL 239.283409 120.494531 \nL 237.761591 120.494531 \nz\n\" style=\"fill:#1f77b4;\"/>\n   </g>\n   <g id=\"patch_120\">\n    <path clip-path=\"url(#p3911ffde31)\" d=\"M 239.283409 224.64 \nL 240.805227 224.64 \nL 240.805227 125.730669 \nL 239.283409 125.730669 \nz\n\" style=\"fill:#1f77b4;\"/>\n   </g>\n   <g id=\"patch_121\">\n    <path clip-path=\"url(#p3911ffde31)\" d=\"M 240.805227 224.64 \nL 242.327045 224.64 \nL 242.327045 132.394845 \nL 240.805227 132.394845 \nz\n\" style=\"fill:#1f77b4;\"/>\n   </g>\n   <g id=\"patch_122\">\n    <path clip-path=\"url(#p3911ffde31)\" d=\"M 242.327045 224.64 \nL 243.848864 224.64 \nL 243.848864 138.025972 \nL 242.327045 138.025972 \nz\n\" style=\"fill:#1f77b4;\"/>\n   </g>\n   <g id=\"patch_123\">\n    <path clip-path=\"url(#p3911ffde31)\" d=\"M 243.848864 224.64 \nL 245.370682 224.64 \nL 245.370682 142.897505 \nL 243.848864 142.897505 \nz\n\" style=\"fill:#1f77b4;\"/>\n   </g>\n   <g id=\"patch_124\">\n    <path clip-path=\"url(#p3911ffde31)\" d=\"M 245.370682 224.64 \nL 246.8925 224.64 \nL 246.8925 150.007309 \nL 245.370682 150.007309 \nz\n\" style=\"fill:#1f77b4;\"/>\n   </g>\n   <g id=\"patch_125\">\n    <path clip-path=\"url(#p3911ffde31)\" d=\"M 246.8925 224.64 \nL 248.414318 224.64 \nL 248.414318 154.240783 \nL 246.8925 154.240783 \nz\n\" style=\"fill:#1f77b4;\"/>\n   </g>\n   <g id=\"patch_126\">\n    <path clip-path=\"url(#p3911ffde31)\" d=\"M 248.414318 224.64 \nL 249.936136 224.64 \nL 249.936136 160.317538 \nL 248.414318 160.317538 \nz\n\" style=\"fill:#1f77b4;\"/>\n   </g>\n   <g id=\"patch_127\">\n    <path clip-path=\"url(#p3911ffde31)\" d=\"M 249.936136 224.64 \nL 251.457955 224.64 \nL 251.457955 163.487579 \nL 249.936136 163.487579 \nz\n\" style=\"fill:#1f77b4;\"/>\n   </g>\n   <g id=\"patch_128\">\n    <path clip-path=\"url(#p3911ffde31)\" d=\"M 251.457955 224.64 \nL 252.979773 224.64 \nL 252.979773 170.445465 \nL 251.457955 170.445465 \nz\n\" style=\"fill:#1f77b4;\"/>\n   </g>\n   <g id=\"patch_129\">\n    <path clip-path=\"url(#p3911ffde31)\" d=\"M 252.979773 224.64 \nL 254.501591 224.64 \nL 254.501591 174.577659 \nL 252.979773 174.577659 \nz\n\" style=\"fill:#1f77b4;\"/>\n   </g>\n   <g id=\"patch_130\">\n    <path clip-path=\"url(#p3911ffde31)\" d=\"M 254.501591 224.64 \nL 256.023409 224.64 \nL 256.023409 179.155482 \nL 254.501591 179.155482 \nz\n\" style=\"fill:#1f77b4;\"/>\n   </g>\n   <g id=\"patch_131\">\n    <path clip-path=\"url(#p3911ffde31)\" d=\"M 256.023409 224.64 \nL 257.545227 224.64 \nL 257.545227 182.558465 \nL 256.023409 182.558465 \nz\n\" style=\"fill:#1f77b4;\"/>\n   </g>\n   <g id=\"patch_132\">\n    <path clip-path=\"url(#p3911ffde31)\" d=\"M 257.545227 224.64 \nL 259.067045 224.64 \nL 259.067045 185.961448 \nL 257.545227 185.961448 \nz\n\" style=\"fill:#1f77b4;\"/>\n   </g>\n   <g id=\"patch_133\">\n    <path clip-path=\"url(#p3911ffde31)\" d=\"M 259.067045 224.64 \nL 260.588864 224.64 \nL 260.588864 189.759421 \nL 259.067045 189.759421 \nz\n\" style=\"fill:#1f77b4;\"/>\n   </g>\n   <g id=\"patch_134\">\n    <path clip-path=\"url(#p3911ffde31)\" d=\"M 260.588864 224.64 \nL 262.110682 224.64 \nL 262.110682 192.554729 \nL 260.588864 192.554729 \nz\n\" style=\"fill:#1f77b4;\"/>\n   </g>\n   <g id=\"patch_135\">\n    <path clip-path=\"url(#p3911ffde31)\" d=\"M 262.110682 224.64 \nL 263.6325 224.64 \nL 263.6325 195.491827 \nL 262.110682 195.491827 \nz\n\" style=\"fill:#1f77b4;\"/>\n   </g>\n   <g id=\"patch_136\">\n    <path clip-path=\"url(#p3911ffde31)\" d=\"M 263.6325 224.64 \nL 265.154318 224.64 \nL 265.154318 199.198648 \nL 263.6325 199.198648 \nz\n\" style=\"fill:#1f77b4;\"/>\n   </g>\n   <g id=\"patch_137\">\n    <path clip-path=\"url(#p3911ffde31)\" d=\"M 265.154318 224.64 \nL 266.676136 224.64 \nL 266.676136 200.991291 \nL 265.154318 200.991291 \nz\n\" style=\"fill:#1f77b4;\"/>\n   </g>\n   <g id=\"patch_138\">\n    <path clip-path=\"url(#p3911ffde31)\" d=\"M 266.676136 224.64 \nL 268.197955 224.64 \nL 268.197955 203.270075 \nL 266.676136 203.270075 \nz\n\" style=\"fill:#1f77b4;\"/>\n   </g>\n   <g id=\"patch_139\">\n    <path clip-path=\"url(#p3911ffde31)\" d=\"M 268.197955 224.64 \nL 269.719773 224.64 \nL 269.719773 205.29566 \nL 268.197955 205.29566 \nz\n\" style=\"fill:#1f77b4;\"/>\n   </g>\n   <g id=\"patch_140\">\n    <path clip-path=\"url(#p3911ffde31)\" d=\"M 269.719773 224.64 \nL 271.241591 224.64 \nL 271.241591 208.485957 \nL 269.719773 208.485957 \nz\n\" style=\"fill:#1f77b4;\"/>\n   </g>\n   <g id=\"patch_141\">\n    <path clip-path=\"url(#p3911ffde31)\" d=\"M 271.241591 224.64 \nL 272.763409 224.64 \nL 272.763409 209.235424 \nL 271.241591 209.235424 \nz\n\" style=\"fill:#1f77b4;\"/>\n   </g>\n   <g id=\"patch_142\">\n    <path clip-path=\"url(#p3911ffde31)\" d=\"M 272.763409 224.64 \nL 274.285227 224.64 \nL 274.285227 211.098962 \nL 272.763409 211.098962 \nz\n\" style=\"fill:#1f77b4;\"/>\n   </g>\n   <g id=\"patch_143\">\n    <path clip-path=\"url(#p3911ffde31)\" d=\"M 274.285227 224.64 \nL 275.807045 224.64 \nL 275.807045 212.759942 \nL 274.285227 212.759942 \nz\n\" style=\"fill:#1f77b4;\"/>\n   </g>\n   <g id=\"patch_144\">\n    <path clip-path=\"url(#p3911ffde31)\" d=\"M 275.807045 224.64 \nL 277.328864 224.64 \nL 277.328864 214.015805 \nL 275.807045 214.015805 \nz\n\" style=\"fill:#1f77b4;\"/>\n   </g>\n   <g id=\"patch_145\">\n    <path clip-path=\"url(#p3911ffde31)\" d=\"M 277.328864 224.64 \nL 278.850682 224.64 \nL 278.850682 215.656529 \nL 277.328864 215.656529 \nz\n\" style=\"fill:#1f77b4;\"/>\n   </g>\n   <g id=\"patch_146\">\n    <path clip-path=\"url(#p3911ffde31)\" d=\"M 278.850682 224.64 \nL 280.3725 224.64 \nL 280.3725 215.869216 \nL 278.850682 215.869216 \nz\n\" style=\"fill:#1f77b4;\"/>\n   </g>\n   <g id=\"patch_147\">\n    <path clip-path=\"url(#p3911ffde31)\" d=\"M 280.3725 224.64 \nL 281.894318 224.64 \nL 281.894318 217.50994 \nL 280.3725 217.50994 \nz\n\" style=\"fill:#1f77b4;\"/>\n   </g>\n   <g id=\"patch_148\">\n    <path clip-path=\"url(#p3911ffde31)\" d=\"M 281.894318 224.64 \nL 283.416136 224.64 \nL 283.416136 218.229022 \nL 281.894318 218.229022 \nz\n\" style=\"fill:#1f77b4;\"/>\n   </g>\n   <g id=\"patch_149\">\n    <path clip-path=\"url(#p3911ffde31)\" d=\"M 283.416136 224.64 \nL 284.937955 224.64 \nL 284.937955 219.110152 \nL 283.416136 219.110152 \nz\n\" style=\"fill:#1f77b4;\"/>\n   </g>\n   <g id=\"patch_150\">\n    <path clip-path=\"url(#p3911ffde31)\" d=\"M 284.937955 224.64 \nL 286.459773 224.64 \nL 286.459773 219.646932 \nL 284.937955 219.646932 \nz\n\" style=\"fill:#1f77b4;\"/>\n   </g>\n   <g id=\"patch_151\">\n    <path clip-path=\"url(#p3911ffde31)\" d=\"M 286.459773 224.64 \nL 287.981591 224.64 \nL 287.981591 220.750876 \nL 286.459773 220.750876 \nz\n\" style=\"fill:#1f77b4;\"/>\n   </g>\n   <g id=\"patch_152\">\n    <path clip-path=\"url(#p3911ffde31)\" d=\"M 287.981591 224.64 \nL 289.503409 224.64 \nL 289.503409 220.862283 \nL 287.981591 220.862283 \nz\n\" style=\"fill:#1f77b4;\"/>\n   </g>\n   <g id=\"patch_153\">\n    <path clip-path=\"url(#p3911ffde31)\" d=\"M 289.503409 224.64 \nL 291.025227 224.64 \nL 291.025227 221.459831 \nL 289.503409 221.459831 \nz\n\" style=\"fill:#1f77b4;\"/>\n   </g>\n   <g id=\"patch_154\">\n    <path clip-path=\"url(#p3911ffde31)\" d=\"M 291.025227 224.64 \nL 292.547045 224.64 \nL 292.547045 221.824436 \nL 291.025227 221.824436 \nz\n\" style=\"fill:#1f77b4;\"/>\n   </g>\n   <g id=\"patch_155\">\n    <path clip-path=\"url(#p3911ffde31)\" d=\"M 292.547045 224.64 \nL 294.068864 224.64 \nL 294.068864 222.320705 \nL 292.547045 222.320705 \nz\n\" style=\"fill:#1f77b4;\"/>\n   </g>\n   <g id=\"patch_156\">\n    <path clip-path=\"url(#p3911ffde31)\" d=\"M 294.068864 224.64 \nL 295.590682 224.64 \nL 295.590682 222.432112 \nL 294.068864 222.432112 \nz\n\" style=\"fill:#1f77b4;\"/>\n   </g>\n   <g id=\"patch_157\">\n    <path clip-path=\"url(#p3911ffde31)\" d=\"M 295.590682 224.64 \nL 297.1125 224.64 \nL 297.1125 222.877741 \nL 295.590682 222.877741 \nz\n\" style=\"fill:#1f77b4;\"/>\n   </g>\n   <g id=\"patch_158\">\n    <path clip-path=\"url(#p3911ffde31)\" d=\"M 297.1125 224.64 \nL 298.634318 224.64 \nL 298.634318 223.161323 \nL 297.1125 223.161323 \nz\n\" style=\"fill:#1f77b4;\"/>\n   </g>\n   <g id=\"patch_159\">\n    <path clip-path=\"url(#p3911ffde31)\" d=\"M 298.634318 224.64 \nL 300.156136 224.64 \nL 300.156136 223.313242 \nL 298.634318 223.313242 \nz\n\" style=\"fill:#1f77b4;\"/>\n   </g>\n   <g id=\"patch_160\">\n    <path clip-path=\"url(#p3911ffde31)\" d=\"M 300.156136 224.64 \nL 301.677955 224.64 \nL 301.677955 223.414521 \nL 300.156136 223.414521 \nz\n\" style=\"fill:#1f77b4;\"/>\n   </g>\n   <g id=\"patch_161\">\n    <path clip-path=\"url(#p3911ffde31)\" d=\"M 301.677955 224.64 \nL 303.199773 224.64 \nL 303.199773 223.748742 \nL 301.677955 223.748742 \nz\n\" style=\"fill:#1f77b4;\"/>\n   </g>\n   <g id=\"patch_162\">\n    <path clip-path=\"url(#p3911ffde31)\" d=\"M 303.199773 224.64 \nL 304.721591 224.64 \nL 304.721591 223.931045 \nL 303.199773 223.931045 \nz\n\" style=\"fill:#1f77b4;\"/>\n   </g>\n   <g id=\"patch_163\">\n    <path clip-path=\"url(#p3911ffde31)\" d=\"M 304.721591 224.64 \nL 306.243409 224.64 \nL 306.243409 224.042452 \nL 304.721591 224.042452 \nz\n\" style=\"fill:#1f77b4;\"/>\n   </g>\n   <g id=\"patch_164\">\n    <path clip-path=\"url(#p3911ffde31)\" d=\"M 306.243409 224.64 \nL 307.765227 224.64 \nL 307.765227 224.082964 \nL 306.243409 224.082964 \nz\n\" style=\"fill:#1f77b4;\"/>\n   </g>\n   <g id=\"patch_165\">\n    <path clip-path=\"url(#p3911ffde31)\" d=\"M 307.765227 224.64 \nL 309.287045 224.64 \nL 309.287045 224.255139 \nL 307.765227 224.255139 \nz\n\" style=\"fill:#1f77b4;\"/>\n   </g>\n   <g id=\"patch_166\">\n    <path clip-path=\"url(#p3911ffde31)\" d=\"M 309.287045 224.64 \nL 310.808864 224.64 \nL 310.808864 224.356418 \nL 309.287045 224.356418 \nz\n\" style=\"fill:#1f77b4;\"/>\n   </g>\n   <g id=\"patch_167\">\n    <path clip-path=\"url(#p3911ffde31)\" d=\"M 310.808864 224.64 \nL 312.330682 224.64 \nL 312.330682 224.34629 \nL 310.808864 224.34629 \nz\n\" style=\"fill:#1f77b4;\"/>\n   </g>\n   <g id=\"patch_168\">\n    <path clip-path=\"url(#p3911ffde31)\" d=\"M 312.330682 224.64 \nL 313.8525 224.64 \nL 313.8525 224.437441 \nL 312.330682 224.437441 \nz\n\" style=\"fill:#1f77b4;\"/>\n   </g>\n   <g id=\"patch_169\">\n    <path clip-path=\"url(#p3911ffde31)\" d=\"M 313.8525 224.64 \nL 315.374318 224.64 \nL 315.374318 224.467825 \nL 313.8525 224.467825 \nz\n\" style=\"fill:#1f77b4;\"/>\n   </g>\n   <g id=\"patch_170\">\n    <path clip-path=\"url(#p3911ffde31)\" d=\"M 315.374318 224.64 \nL 316.896136 224.64 \nL 316.896136 224.498209 \nL 315.374318 224.498209 \nz\n\" style=\"fill:#1f77b4;\"/>\n   </g>\n   <g id=\"patch_171\">\n    <path clip-path=\"url(#p3911ffde31)\" d=\"M 316.896136 224.64 \nL 318.417955 224.64 \nL 318.417955 224.467825 \nL 316.896136 224.467825 \nz\n\" style=\"fill:#1f77b4;\"/>\n   </g>\n   <g id=\"patch_172\">\n    <path clip-path=\"url(#p3911ffde31)\" d=\"M 318.417955 224.64 \nL 319.939773 224.64 \nL 319.939773 224.467825 \nL 318.417955 224.467825 \nz\n\" style=\"fill:#1f77b4;\"/>\n   </g>\n   <g id=\"patch_173\">\n    <path clip-path=\"url(#p3911ffde31)\" d=\"M 319.939773 224.64 \nL 321.461591 224.64 \nL 321.461591 224.518465 \nL 319.939773 224.518465 \nz\n\" style=\"fill:#1f77b4;\"/>\n   </g>\n   <g id=\"patch_174\">\n    <path clip-path=\"url(#p3911ffde31)\" d=\"M 321.461591 224.64 \nL 322.983409 224.64 \nL 322.983409 224.528593 \nL 321.461591 224.528593 \nz\n\" style=\"fill:#1f77b4;\"/>\n   </g>\n   <g id=\"patch_175\">\n    <path clip-path=\"url(#p3911ffde31)\" d=\"M 322.983409 224.64 \nL 324.505227 224.64 \nL 324.505227 224.599488 \nL 322.983409 224.599488 \nz\n\" style=\"fill:#1f77b4;\"/>\n   </g>\n   <g id=\"patch_176\">\n    <path clip-path=\"url(#p3911ffde31)\" d=\"M 324.505227 224.64 \nL 326.027045 224.64 \nL 326.027045 224.579232 \nL 324.505227 224.579232 \nz\n\" style=\"fill:#1f77b4;\"/>\n   </g>\n   <g id=\"patch_177\">\n    <path clip-path=\"url(#p3911ffde31)\" d=\"M 326.027045 224.64 \nL 327.548864 224.64 \nL 327.548864 224.569105 \nL 326.027045 224.569105 \nz\n\" style=\"fill:#1f77b4;\"/>\n   </g>\n   <g id=\"patch_178\">\n    <path clip-path=\"url(#p3911ffde31)\" d=\"M 327.548864 224.64 \nL 329.070682 224.64 \nL 329.070682 224.64 \nL 327.548864 224.64 \nz\n\" style=\"fill:#1f77b4;\"/>\n   </g>\n   <g id=\"patch_179\">\n    <path clip-path=\"url(#p3911ffde31)\" d=\"M 329.070682 224.64 \nL 330.5925 224.64 \nL 330.5925 224.558977 \nL 329.070682 224.558977 \nz\n\" style=\"fill:#1f77b4;\"/>\n   </g>\n   <g id=\"patch_180\">\n    <path clip-path=\"url(#p3911ffde31)\" d=\"M 330.5925 224.64 \nL 332.114318 224.64 \nL 332.114318 224.619744 \nL 330.5925 224.619744 \nz\n\" style=\"fill:#1f77b4;\"/>\n   </g>\n   <g id=\"patch_181\">\n    <path clip-path=\"url(#p3911ffde31)\" d=\"M 332.114318 224.64 \nL 333.636136 224.64 \nL 333.636136 224.599488 \nL 332.114318 224.599488 \nz\n\" style=\"fill:#1f77b4;\"/>\n   </g>\n   <g id=\"patch_182\">\n    <path clip-path=\"url(#p3911ffde31)\" d=\"M 333.636136 224.64 \nL 335.157955 224.64 \nL 335.157955 224.609616 \nL 333.636136 224.609616 \nz\n\" style=\"fill:#1f77b4;\"/>\n   </g>\n   <g id=\"patch_183\">\n    <path clip-path=\"url(#p3911ffde31)\" d=\"M 335.157955 224.64 \nL 336.679773 224.64 \nL 336.679773 224.629872 \nL 335.157955 224.629872 \nz\n\" style=\"fill:#1f77b4;\"/>\n   </g>\n   <g id=\"patch_184\">\n    <path clip-path=\"url(#p3911ffde31)\" d=\"M 336.679773 224.64 \nL 338.201591 224.64 \nL 338.201591 224.629872 \nL 336.679773 224.629872 \nz\n\" style=\"fill:#1f77b4;\"/>\n   </g>\n   <g id=\"patch_185\">\n    <path clip-path=\"url(#p3911ffde31)\" d=\"M 338.201591 224.64 \nL 339.723409 224.64 \nL 339.723409 224.629872 \nL 338.201591 224.629872 \nz\n\" style=\"fill:#1f77b4;\"/>\n   </g>\n   <g id=\"patch_186\">\n    <path clip-path=\"url(#p3911ffde31)\" d=\"M 339.723409 224.64 \nL 341.245227 224.64 \nL 341.245227 224.629872 \nL 339.723409 224.629872 \nz\n\" style=\"fill:#1f77b4;\"/>\n   </g>\n   <g id=\"patch_187\">\n    <path clip-path=\"url(#p3911ffde31)\" d=\"M 341.245227 224.64 \nL 342.767045 224.64 \nL 342.767045 224.629872 \nL 341.245227 224.629872 \nz\n\" style=\"fill:#1f77b4;\"/>\n   </g>\n   <g id=\"patch_188\">\n    <path clip-path=\"url(#p3911ffde31)\" d=\"M 342.767045 224.64 \nL 344.288864 224.64 \nL 344.288864 224.64 \nL 342.767045 224.64 \nz\n\" style=\"fill:#1f77b4;\"/>\n   </g>\n   <g id=\"patch_189\">\n    <path clip-path=\"url(#p3911ffde31)\" d=\"M 344.288864 224.64 \nL 345.810682 224.64 \nL 345.810682 224.64 \nL 344.288864 224.64 \nz\n\" style=\"fill:#1f77b4;\"/>\n   </g>\n   <g id=\"patch_190\">\n    <path clip-path=\"url(#p3911ffde31)\" d=\"M 345.810682 224.64 \nL 347.3325 224.64 \nL 347.3325 224.64 \nL 345.810682 224.64 \nz\n\" style=\"fill:#1f77b4;\"/>\n   </g>\n   <g id=\"patch_191\">\n    <path clip-path=\"url(#p3911ffde31)\" d=\"M 347.3325 224.64 \nL 348.854318 224.64 \nL 348.854318 224.629872 \nL 347.3325 224.629872 \nz\n\" style=\"fill:#1f77b4;\"/>\n   </g>\n   <g id=\"patch_192\">\n    <path clip-path=\"url(#p3911ffde31)\" d=\"M 348.854318 224.64 \nL 350.376136 224.64 \nL 350.376136 224.64 \nL 348.854318 224.64 \nz\n\" style=\"fill:#1f77b4;\"/>\n   </g>\n   <g id=\"patch_193\">\n    <path clip-path=\"url(#p3911ffde31)\" d=\"M 350.376136 224.64 \nL 351.897955 224.64 \nL 351.897955 224.629872 \nL 350.376136 224.629872 \nz\n\" style=\"fill:#1f77b4;\"/>\n   </g>\n   <g id=\"patch_194\">\n    <path clip-path=\"url(#p3911ffde31)\" d=\"M 351.897955 224.64 \nL 353.419773 224.64 \nL 353.419773 224.64 \nL 351.897955 224.64 \nz\n\" style=\"fill:#1f77b4;\"/>\n   </g>\n   <g id=\"patch_195\">\n    <path clip-path=\"url(#p3911ffde31)\" d=\"M 353.419773 224.64 \nL 354.941591 224.64 \nL 354.941591 224.64 \nL 353.419773 224.64 \nz\n\" style=\"fill:#1f77b4;\"/>\n   </g>\n   <g id=\"patch_196\">\n    <path clip-path=\"url(#p3911ffde31)\" d=\"M 354.941591 224.64 \nL 356.463409 224.64 \nL 356.463409 224.629872 \nL 354.941591 224.629872 \nz\n\" style=\"fill:#1f77b4;\"/>\n   </g>\n   <g id=\"patch_197\">\n    <path clip-path=\"url(#p3911ffde31)\" d=\"M 356.463409 224.64 \nL 357.985227 224.64 \nL 357.985227 224.64 \nL 356.463409 224.64 \nz\n\" style=\"fill:#1f77b4;\"/>\n   </g>\n   <g id=\"patch_198\">\n    <path clip-path=\"url(#p3911ffde31)\" d=\"M 357.985227 224.64 \nL 359.507045 224.64 \nL 359.507045 224.64 \nL 357.985227 224.64 \nz\n\" style=\"fill:#1f77b4;\"/>\n   </g>\n   <g id=\"patch_199\">\n    <path clip-path=\"url(#p3911ffde31)\" d=\"M 359.507045 224.64 \nL 361.028864 224.64 \nL 361.028864 224.64 \nL 359.507045 224.64 \nz\n\" style=\"fill:#1f77b4;\"/>\n   </g>\n   <g id=\"patch_200\">\n    <path clip-path=\"url(#p3911ffde31)\" d=\"M 361.028864 224.64 \nL 362.550682 224.64 \nL 362.550682 224.64 \nL 361.028864 224.64 \nz\n\" style=\"fill:#1f77b4;\"/>\n   </g>\n   <g id=\"patch_201\">\n    <path clip-path=\"url(#p3911ffde31)\" d=\"M 362.550682 224.64 \nL 364.0725 224.64 \nL 364.0725 224.64 \nL 362.550682 224.64 \nz\n\" style=\"fill:#1f77b4;\"/>\n   </g>\n   <g id=\"patch_202\">\n    <path clip-path=\"url(#p3911ffde31)\" d=\"M 364.0725 224.64 \nL 365.594318 224.64 \nL 365.594318 224.629872 \nL 364.0725 224.629872 \nz\n\" style=\"fill:#1f77b4;\"/>\n   </g>\n   <g id=\"matplotlib.axis_1\">\n    <g id=\"xtick_1\">\n     <g id=\"line2d_1\">\n      <defs>\n       <path d=\"M 0 0 \nL 0 3.5 \n\" id=\"mf2c6164c18\" style=\"stroke:#000000;stroke-width:0.8;\"/>\n      </defs>\n      <g>\n       <use style=\"stroke:#000000;stroke-width:0.8;\" x=\"84.294889\" xlink:href=\"#mf2c6164c18\" y=\"224.64\"/>\n      </g>\n     </g>\n     <g id=\"text_1\">\n      <!-- −4 -->\n      <defs>\n       <path d=\"M 10.59375 35.5 \nL 73.1875 35.5 \nL 73.1875 27.203125 \nL 10.59375 27.203125 \nz\n\" id=\"DejaVuSans-8722\"/>\n       <path d=\"M 37.796875 64.3125 \nL 12.890625 25.390625 \nL 37.796875 25.390625 \nz\nM 35.203125 72.90625 \nL 47.609375 72.90625 \nL 47.609375 25.390625 \nL 58.015625 25.390625 \nL 58.015625 17.1875 \nL 47.609375 17.1875 \nL 47.609375 0 \nL 37.796875 0 \nL 37.796875 17.1875 \nL 4.890625 17.1875 \nL 4.890625 26.703125 \nz\n\" id=\"DejaVuSans-52\"/>\n      </defs>\n      <g transform=\"translate(76.923795 239.238437)scale(0.1 -0.1)\">\n       <use xlink:href=\"#DejaVuSans-8722\"/>\n       <use x=\"83.789062\" xlink:href=\"#DejaVuSans-52\"/>\n      </g>\n     </g>\n    </g>\n    <g id=\"xtick_2\">\n     <g id=\"line2d_2\">\n      <g>\n       <use style=\"stroke:#000000;stroke-width:0.8;\" x=\"144.02087\" xlink:href=\"#mf2c6164c18\" y=\"224.64\"/>\n      </g>\n     </g>\n     <g id=\"text_2\">\n      <!-- −2 -->\n      <defs>\n       <path d=\"M 19.1875 8.296875 \nL 53.609375 8.296875 \nL 53.609375 0 \nL 7.328125 0 \nL 7.328125 8.296875 \nQ 12.9375 14.109375 22.625 23.890625 \nQ 32.328125 33.6875 34.8125 36.53125 \nQ 39.546875 41.84375 41.421875 45.53125 \nQ 43.3125 49.21875 43.3125 52.78125 \nQ 43.3125 58.59375 39.234375 62.25 \nQ 35.15625 65.921875 28.609375 65.921875 \nQ 23.96875 65.921875 18.8125 64.3125 \nQ 13.671875 62.703125 7.8125 59.421875 \nL 7.8125 69.390625 \nQ 13.765625 71.78125 18.9375 73 \nQ 24.125 74.21875 28.421875 74.21875 \nQ 39.75 74.21875 46.484375 68.546875 \nQ 53.21875 62.890625 53.21875 53.421875 \nQ 53.21875 48.921875 51.53125 44.890625 \nQ 49.859375 40.875 45.40625 35.40625 \nQ 44.1875 33.984375 37.640625 27.21875 \nQ 31.109375 20.453125 19.1875 8.296875 \nz\n\" id=\"DejaVuSans-50\"/>\n      </defs>\n      <g transform=\"translate(136.649776 239.238437)scale(0.1 -0.1)\">\n       <use xlink:href=\"#DejaVuSans-8722\"/>\n       <use x=\"83.789062\" xlink:href=\"#DejaVuSans-50\"/>\n      </g>\n     </g>\n    </g>\n    <g id=\"xtick_3\">\n     <g id=\"line2d_3\">\n      <g>\n       <use style=\"stroke:#000000;stroke-width:0.8;\" x=\"203.746851\" xlink:href=\"#mf2c6164c18\" y=\"224.64\"/>\n      </g>\n     </g>\n     <g id=\"text_3\">\n      <!-- 0 -->\n      <defs>\n       <path d=\"M 31.78125 66.40625 \nQ 24.171875 66.40625 20.328125 58.90625 \nQ 16.5 51.421875 16.5 36.375 \nQ 16.5 21.390625 20.328125 13.890625 \nQ 24.171875 6.390625 31.78125 6.390625 \nQ 39.453125 6.390625 43.28125 13.890625 \nQ 47.125 21.390625 47.125 36.375 \nQ 47.125 51.421875 43.28125 58.90625 \nQ 39.453125 66.40625 31.78125 66.40625 \nz\nM 31.78125 74.21875 \nQ 44.046875 74.21875 50.515625 64.515625 \nQ 56.984375 54.828125 56.984375 36.375 \nQ 56.984375 17.96875 50.515625 8.265625 \nQ 44.046875 -1.421875 31.78125 -1.421875 \nQ 19.53125 -1.421875 13.0625 8.265625 \nQ 6.59375 17.96875 6.59375 36.375 \nQ 6.59375 54.828125 13.0625 64.515625 \nQ 19.53125 74.21875 31.78125 74.21875 \nz\n\" id=\"DejaVuSans-48\"/>\n      </defs>\n      <g transform=\"translate(200.565601 239.238437)scale(0.1 -0.1)\">\n       <use xlink:href=\"#DejaVuSans-48\"/>\n      </g>\n     </g>\n    </g>\n    <g id=\"xtick_4\">\n     <g id=\"line2d_4\">\n      <g>\n       <use style=\"stroke:#000000;stroke-width:0.8;\" x=\"263.472833\" xlink:href=\"#mf2c6164c18\" y=\"224.64\"/>\n      </g>\n     </g>\n     <g id=\"text_4\">\n      <!-- 2 -->\n      <g transform=\"translate(260.291583 239.238437)scale(0.1 -0.1)\">\n       <use xlink:href=\"#DejaVuSans-50\"/>\n      </g>\n     </g>\n    </g>\n    <g id=\"xtick_5\">\n     <g id=\"line2d_5\">\n      <g>\n       <use style=\"stroke:#000000;stroke-width:0.8;\" x=\"323.198814\" xlink:href=\"#mf2c6164c18\" y=\"224.64\"/>\n      </g>\n     </g>\n     <g id=\"text_5\">\n      <!-- 4 -->\n      <g transform=\"translate(320.017564 239.238437)scale(0.1 -0.1)\">\n       <use xlink:href=\"#DejaVuSans-52\"/>\n      </g>\n     </g>\n    </g>\n   </g>\n   <g id=\"matplotlib.axis_2\">\n    <g id=\"ytick_1\">\n     <g id=\"line2d_6\">\n      <defs>\n       <path d=\"M 0 0 \nL -3.5 0 \n\" id=\"m29dd1af426\" style=\"stroke:#000000;stroke-width:0.8;\"/>\n      </defs>\n      <g>\n       <use style=\"stroke:#000000;stroke-width:0.8;\" x=\"46.0125\" xlink:href=\"#m29dd1af426\" y=\"224.64\"/>\n      </g>\n     </g>\n     <g id=\"text_6\">\n      <!-- 0 -->\n      <g transform=\"translate(32.65 228.439219)scale(0.1 -0.1)\">\n       <use xlink:href=\"#DejaVuSans-48\"/>\n      </g>\n     </g>\n    </g>\n    <g id=\"ytick_2\">\n     <g id=\"line2d_7\">\n      <g>\n       <use style=\"stroke:#000000;stroke-width:0.8;\" x=\"46.0125\" xlink:href=\"#m29dd1af426\" y=\"199.320184\"/>\n      </g>\n     </g>\n     <g id=\"text_7\">\n      <!-- 2500 -->\n      <defs>\n       <path d=\"M 10.796875 72.90625 \nL 49.515625 72.90625 \nL 49.515625 64.59375 \nL 19.828125 64.59375 \nL 19.828125 46.734375 \nQ 21.96875 47.46875 24.109375 47.828125 \nQ 26.265625 48.1875 28.421875 48.1875 \nQ 40.625 48.1875 47.75 41.5 \nQ 54.890625 34.8125 54.890625 23.390625 \nQ 54.890625 11.625 47.5625 5.09375 \nQ 40.234375 -1.421875 26.90625 -1.421875 \nQ 22.3125 -1.421875 17.546875 -0.640625 \nQ 12.796875 0.140625 7.71875 1.703125 \nL 7.71875 11.625 \nQ 12.109375 9.234375 16.796875 8.0625 \nQ 21.484375 6.890625 26.703125 6.890625 \nQ 35.15625 6.890625 40.078125 11.328125 \nQ 45.015625 15.765625 45.015625 23.390625 \nQ 45.015625 31 40.078125 35.4375 \nQ 35.15625 39.890625 26.703125 39.890625 \nQ 22.75 39.890625 18.8125 39.015625 \nQ 14.890625 38.140625 10.796875 36.28125 \nz\n\" id=\"DejaVuSans-53\"/>\n      </defs>\n      <g transform=\"translate(13.5625 203.119402)scale(0.1 -0.1)\">\n       <use xlink:href=\"#DejaVuSans-50\"/>\n       <use x=\"63.623047\" xlink:href=\"#DejaVuSans-53\"/>\n       <use x=\"127.246094\" xlink:href=\"#DejaVuSans-48\"/>\n       <use x=\"190.869141\" xlink:href=\"#DejaVuSans-48\"/>\n      </g>\n     </g>\n    </g>\n    <g id=\"ytick_3\">\n     <g id=\"line2d_8\">\n      <g>\n       <use style=\"stroke:#000000;stroke-width:0.8;\" x=\"46.0125\" xlink:href=\"#m29dd1af426\" y=\"174.000367\"/>\n      </g>\n     </g>\n     <g id=\"text_8\">\n      <!-- 5000 -->\n      <g transform=\"translate(13.5625 177.799586)scale(0.1 -0.1)\">\n       <use xlink:href=\"#DejaVuSans-53\"/>\n       <use x=\"63.623047\" xlink:href=\"#DejaVuSans-48\"/>\n       <use x=\"127.246094\" xlink:href=\"#DejaVuSans-48\"/>\n       <use x=\"190.869141\" xlink:href=\"#DejaVuSans-48\"/>\n      </g>\n     </g>\n    </g>\n    <g id=\"ytick_4\">\n     <g id=\"line2d_9\">\n      <g>\n       <use style=\"stroke:#000000;stroke-width:0.8;\" x=\"46.0125\" xlink:href=\"#m29dd1af426\" y=\"148.680551\"/>\n      </g>\n     </g>\n     <g id=\"text_9\">\n      <!-- 7500 -->\n      <defs>\n       <path d=\"M 8.203125 72.90625 \nL 55.078125 72.90625 \nL 55.078125 68.703125 \nL 28.609375 0 \nL 18.3125 0 \nL 43.21875 64.59375 \nL 8.203125 64.59375 \nz\n\" id=\"DejaVuSans-55\"/>\n      </defs>\n      <g transform=\"translate(13.5625 152.47977)scale(0.1 -0.1)\">\n       <use xlink:href=\"#DejaVuSans-55\"/>\n       <use x=\"63.623047\" xlink:href=\"#DejaVuSans-53\"/>\n       <use x=\"127.246094\" xlink:href=\"#DejaVuSans-48\"/>\n       <use x=\"190.869141\" xlink:href=\"#DejaVuSans-48\"/>\n      </g>\n     </g>\n    </g>\n    <g id=\"ytick_5\">\n     <g id=\"line2d_10\">\n      <g>\n       <use style=\"stroke:#000000;stroke-width:0.8;\" x=\"46.0125\" xlink:href=\"#m29dd1af426\" y=\"123.360734\"/>\n      </g>\n     </g>\n     <g id=\"text_10\">\n      <!-- 10000 -->\n      <defs>\n       <path d=\"M 12.40625 8.296875 \nL 28.515625 8.296875 \nL 28.515625 63.921875 \nL 10.984375 60.40625 \nL 10.984375 69.390625 \nL 28.421875 72.90625 \nL 38.28125 72.90625 \nL 38.28125 8.296875 \nL 54.390625 8.296875 \nL 54.390625 0 \nL 12.40625 0 \nz\n\" id=\"DejaVuSans-49\"/>\n      </defs>\n      <g transform=\"translate(7.2 127.159953)scale(0.1 -0.1)\">\n       <use xlink:href=\"#DejaVuSans-49\"/>\n       <use x=\"63.623047\" xlink:href=\"#DejaVuSans-48\"/>\n       <use x=\"127.246094\" xlink:href=\"#DejaVuSans-48\"/>\n       <use x=\"190.869141\" xlink:href=\"#DejaVuSans-48\"/>\n       <use x=\"254.492188\" xlink:href=\"#DejaVuSans-48\"/>\n      </g>\n     </g>\n    </g>\n    <g id=\"ytick_6\">\n     <g id=\"line2d_11\">\n      <g>\n       <use style=\"stroke:#000000;stroke-width:0.8;\" x=\"46.0125\" xlink:href=\"#m29dd1af426\" y=\"98.040918\"/>\n      </g>\n     </g>\n     <g id=\"text_11\">\n      <!-- 12500 -->\n      <g transform=\"translate(7.2 101.840137)scale(0.1 -0.1)\">\n       <use xlink:href=\"#DejaVuSans-49\"/>\n       <use x=\"63.623047\" xlink:href=\"#DejaVuSans-50\"/>\n       <use x=\"127.246094\" xlink:href=\"#DejaVuSans-53\"/>\n       <use x=\"190.869141\" xlink:href=\"#DejaVuSans-48\"/>\n       <use x=\"254.492188\" xlink:href=\"#DejaVuSans-48\"/>\n      </g>\n     </g>\n    </g>\n    <g id=\"ytick_7\">\n     <g id=\"line2d_12\">\n      <g>\n       <use style=\"stroke:#000000;stroke-width:0.8;\" x=\"46.0125\" xlink:href=\"#m29dd1af426\" y=\"72.721102\"/>\n      </g>\n     </g>\n     <g id=\"text_12\">\n      <!-- 15000 -->\n      <g transform=\"translate(7.2 76.52032)scale(0.1 -0.1)\">\n       <use xlink:href=\"#DejaVuSans-49\"/>\n       <use x=\"63.623047\" xlink:href=\"#DejaVuSans-53\"/>\n       <use x=\"127.246094\" xlink:href=\"#DejaVuSans-48\"/>\n       <use x=\"190.869141\" xlink:href=\"#DejaVuSans-48\"/>\n       <use x=\"254.492188\" xlink:href=\"#DejaVuSans-48\"/>\n      </g>\n     </g>\n    </g>\n    <g id=\"ytick_8\">\n     <g id=\"line2d_13\">\n      <g>\n       <use style=\"stroke:#000000;stroke-width:0.8;\" x=\"46.0125\" xlink:href=\"#m29dd1af426\" y=\"47.401285\"/>\n      </g>\n     </g>\n     <g id=\"text_13\">\n      <!-- 17500 -->\n      <g transform=\"translate(7.2 51.200504)scale(0.1 -0.1)\">\n       <use xlink:href=\"#DejaVuSans-49\"/>\n       <use x=\"63.623047\" xlink:href=\"#DejaVuSans-55\"/>\n       <use x=\"127.246094\" xlink:href=\"#DejaVuSans-53\"/>\n       <use x=\"190.869141\" xlink:href=\"#DejaVuSans-48\"/>\n       <use x=\"254.492188\" xlink:href=\"#DejaVuSans-48\"/>\n      </g>\n     </g>\n    </g>\n    <g id=\"ytick_9\">\n     <g id=\"line2d_14\">\n      <g>\n       <use style=\"stroke:#000000;stroke-width:0.8;\" x=\"46.0125\" xlink:href=\"#m29dd1af426\" y=\"22.081469\"/>\n      </g>\n     </g>\n     <g id=\"text_14\">\n      <!-- 20000 -->\n      <g transform=\"translate(7.2 25.880688)scale(0.1 -0.1)\">\n       <use xlink:href=\"#DejaVuSans-50\"/>\n       <use x=\"63.623047\" xlink:href=\"#DejaVuSans-48\"/>\n       <use x=\"127.246094\" xlink:href=\"#DejaVuSans-48\"/>\n       <use x=\"190.869141\" xlink:href=\"#DejaVuSans-48\"/>\n       <use x=\"254.492188\" xlink:href=\"#DejaVuSans-48\"/>\n      </g>\n     </g>\n    </g>\n   </g>\n   <g id=\"patch_203\">\n    <path d=\"M 46.0125 224.64 \nL 46.0125 7.2 \n\" style=\"fill:none;stroke:#000000;stroke-linecap:square;stroke-linejoin:miter;stroke-width:0.8;\"/>\n   </g>\n   <g id=\"patch_204\">\n    <path d=\"M 380.8125 224.64 \nL 380.8125 7.2 \n\" style=\"fill:none;stroke:#000000;stroke-linecap:square;stroke-linejoin:miter;stroke-width:0.8;\"/>\n   </g>\n   <g id=\"patch_205\">\n    <path d=\"M 46.0125 224.64 \nL 380.8125 224.64 \n\" style=\"fill:none;stroke:#000000;stroke-linecap:square;stroke-linejoin:miter;stroke-width:0.8;\"/>\n   </g>\n   <g id=\"patch_206\">\n    <path d=\"M 46.0125 7.2 \nL 380.8125 7.2 \n\" style=\"fill:none;stroke:#000000;stroke-linecap:square;stroke-linejoin:miter;stroke-width:0.8;\"/>\n   </g>\n  </g>\n </g>\n <defs>\n  <clipPath id=\"p3911ffde31\">\n   <rect height=\"217.44\" width=\"334.8\" x=\"46.0125\" y=\"7.2\"/>\n  </clipPath>\n </defs>\n</svg>\n",
      "image/png": "[encoded data removed]"
     },
     "metadata": {
      "needs_background": "light"
     }
    }
   ],
   "source": [
    "%matplotlib inline\n",
    "import matplotlib.pyplot as plt\n",
    "\n",
    "c = np.random.randn(1000000)\n",
    "\n",
    "plt.hist(c, bins=200)\n",
    "plt.show()"
   ]
  },
  {
   "cell_type": "code",
   "execution_count": 17,
   "metadata": {},
   "outputs": [
    {
     "output_type": "execute_result",
     "data": {
      "text/plain": "array([[ 0.,  2.,  4.,  6.,  8.],\n       [ 1.,  3.,  5.,  7.,  9.],\n       [ 2.,  4.,  6.,  8., 10.]])"
     },
     "metadata": {},
     "execution_count": 17
    }
   ],
   "source": [
    "# Array initialization using a custom function\n",
    "def func(x, y):\n",
    "    return x + 2 * y\n",
    "\n",
    "np.fromfunction(func, (3, 5))"
   ]
  },
  {
   "cell_type": "markdown",
   "metadata": {},
   "source": [
    "## Access to the elements of an array\n",
    "\n",
    "### 1) One-dimensional array"
   ]
  },
  {
   "cell_type": "code",
   "execution_count": 18,
   "metadata": {},
   "outputs": [
    {
     "output_type": "stream",
     "name": "stdout",
     "text": "Shape: (6,)\nOne-dimensional Array: [ 1  3  5  7  9 11]\n"
    }
   ],
   "source": [
    "# Creating a one-dimensional array\n",
    "One_dimensional_array = np.array([1 , 3, 5, 7, 9, 11])\n",
    "print(\"Shape: {}\".format(One_dimensional_array.shape))\n",
    "print(\"One-dimensional Array: {}\".format(One_dimensional_array))"
   ]
  },
  {
   "cell_type": "code",
   "execution_count": 19,
   "metadata": {},
   "outputs": [
    {
     "output_type": "execute_result",
     "data": {
      "text/plain": "9"
     },
     "metadata": {},
     "execution_count": 19
    }
   ],
   "source": [
    "# Accessing the fifth element of the Array\n",
    "One_dimensional_array[4]"
   ]
  },
  {
   "cell_type": "code",
   "execution_count": 20,
   "metadata": {},
   "outputs": [
    {
     "output_type": "execute_result",
     "data": {
      "text/plain": "array([5, 7])"
     },
     "metadata": {},
     "execution_count": 20
    }
   ],
   "source": [
    "# Accessing the third and fourth elements of the Array\n",
    "One_dimensional_array[2:4]"
   ]
  },
  {
   "cell_type": "code",
   "execution_count": 21,
   "metadata": {},
   "outputs": [
    {
     "output_type": "execute_result",
     "data": {
      "text/plain": "array([1, 7])"
     },
     "metadata": {},
     "execution_count": 21
    }
   ],
   "source": [
    "# Accessing elements 0, 3 and 5 of the Array\n",
    "One_dimensional_array[0::3]"
   ]
  },
  {
   "cell_type": "markdown",
   "metadata": {},
   "source": [
    "### 2)  Multidimensional array\n"
   ]
  },
  {
   "cell_type": "code",
   "execution_count": 22,
   "metadata": {},
   "outputs": [
    {
     "output_type": "stream",
     "name": "stdout",
     "text": "Shape: (2, 4)\nMulti dimensional Array: [[1 2 3 4]\n [5 6 7 8]]\n"
    }
   ],
   "source": [
    "# Creation of a multidimensional Array\n",
    "Multi_dimensional_array = np.array([[ 1, 2, 3, 4], [ 5, 6, 7, 8]])\n",
    "print(\"Shape: {}\".format(Multi_dimensional_array.shape))\n",
    "print(\"Multi dimensional Array: {}\".format(Multi_dimensional_array))"
   ]
  },
  {
   "cell_type": "code",
   "execution_count": 23,
   "metadata": {},
   "outputs": [
    {
     "output_type": "execute_result",
     "data": {
      "text/plain": "4"
     },
     "metadata": {},
     "execution_count": 23
    }
   ],
   "source": [
    "# Accessing the fourth element of the Array\n",
    "Multi_dimensional_array[0, 3]"
   ]
  },
  {
   "cell_type": "code",
   "execution_count": 24,
   "metadata": {},
   "outputs": [
    {
     "output_type": "execute_result",
     "data": {
      "text/plain": "array([5, 6, 7, 8])"
     },
     "metadata": {},
     "execution_count": 24
    }
   ],
   "source": [
    "# Accessing the second row of the Array\n",
    "Multi_dimensional_array[1, :]"
   ]
  },
  {
   "cell_type": "code",
   "execution_count": 25,
   "metadata": {},
   "outputs": [
    {
     "output_type": "execute_result",
     "data": {
      "text/plain": "array([3, 7])"
     },
     "metadata": {},
     "execution_count": 25
    }
   ],
   "source": [
    "# Accessing the third element of the first two rows of the Array\n",
    "Multi_dimensional_array[0:2, 2]"
   ]
  },
  {
   "cell_type": "markdown",
   "metadata": {},
   "source": [
    "\n",
    "### 3) Modifying an Array\n",
    "\n"
   ]
  },
  {
   "cell_type": "code",
   "execution_count": 26,
   "metadata": {},
   "outputs": [
    {
     "output_type": "stream",
     "name": "stdout",
     "text": "Shape: (28,)\nArray 1: [ 0  1  2  3  4  5  6  7  8  9 10 11 12 13 14 15 16 17 18 19 20 21 22 23\n 24 25 26 27]\n"
    }
   ],
   "source": [
    "# Creation of a one-dimensional array initialized with the range of elements 0-27\n",
    "array1 = np.arange(28)\n",
    "print(f'Shape: {array1.shape}')\n",
    "print(f'Array 1: {array1}')"
   ]
  },
  {
   "cell_type": "code",
   "execution_count": 27,
   "metadata": {},
   "outputs": [
    {
     "output_type": "stream",
     "name": "stdout",
     "text": "Shape: (7, 4)\nArray 1: [[ 0  1  2  3]\n [ 4  5  6  7]\n [ 8  9 10 11]\n [12 13 14 15]\n [16 17 18 19]\n [20 21 22 23]\n [24 25 26 27]]\n"
    }
   ],
   "source": [
    "# Change the dimensions of the Array and its lengths\n",
    "array1.shape = (7,4)\n",
    "print(f'Shape: {array1.shape}')\n",
    "print(f'Array 1: {array1}')"
   ]
  },
  {
   "cell_type": "code",
   "execution_count": 28,
   "metadata": {},
   "outputs": [
    {
     "output_type": "stream",
     "name": "stdout",
     "text": "Shape: (4, 7)\nArray 2:\n [[ 0  1  2  3  4  5  6]\n [ 7  8  9 10 11 12 13]\n [14 15 16 17 18 19 20]\n [21 22 23 24 25 26 27]]\n"
    }
   ],
   "source": [
    "# The above example returns a new Array that points to the same data. \n",
    "# Important: Modifications in an Array, will modify the other Array\n",
    "array2 = array1.reshape(4, 7)\n",
    "print(f'Shape: {array2.shape}')\n",
    "print(f'Array 2:\\n {array2}')"
   ]
  },
  {
   "cell_type": "code",
   "execution_count": 29,
   "metadata": {},
   "outputs": [
    {
     "output_type": "stream",
     "name": "stdout",
     "text": "Array 2:\n [[ 0  1  2 20  4  5  6]\n [ 7  8  9 10 11 12 13]\n [14 15 16 17 18 19 20]\n [21 22 23 24 25 26 27]]\n"
    }
   ],
   "source": [
    "# Modification of the new returned Array\n",
    "array2[0, 3] = 20\n",
    "print(\"Array 2:\\n\", array2)"
   ]
  },
  {
   "cell_type": "code",
   "execution_count": 30,
   "metadata": {},
   "outputs": [
    {
     "output_type": "stream",
     "name": "stdout",
     "text": "Array 1:\n [[ 0  1  2 20]\n [ 4  5  6  7]\n [ 8  9 10 11]\n [12 13 14 15]\n [16 17 18 19]\n [20 21 22 23]\n [24 25 26 27]]\n"
    }
   ],
   "source": [
    "print(\"Array 1:\\n\", array1)"
   ]
  },
  {
   "cell_type": "code",
   "execution_count": 31,
   "metadata": {},
   "outputs": [
    {
     "output_type": "stream",
     "name": "stdout",
     "text": "Array 1: [ 0  1  2 20  4  5  6  7  8  9 10 11 12 13 14 15 16 17 18 19 20 21 22 23\n 24 25 26 27]\n"
    }
   ],
   "source": [
    "# Unwraps the Array, returning a new one-dimensional Array \n",
    "# Important: The new array points to the same data\n",
    "print(f'Array 1: {array1.ravel()}')"
   ]
  },
  {
   "cell_type": "markdown",
   "metadata": {},
   "source": [
    "### 4) Arithmetic operations with Arrays"
   ]
  },
  {
   "cell_type": "code",
   "execution_count": 32,
   "metadata": {},
   "outputs": [
    {
     "output_type": "stream",
     "name": "stdout",
     "text": "Array 1: [ 2  4  6  8 10 12 14 16]\nArray 2: [0 1 2 3 4 5 6 7]\n"
    }
   ],
   "source": [
    "# Creation of two one-dimensional arrays\n",
    "array1 = np.arange(2, 18, 2)\n",
    "array2 =np.arange(8)\n",
    "print(f'Array 1: {array1}')\n",
    "print(f'Array 2: {array2}')"
   ]
  },
  {
   "cell_type": "code",
   "execution_count": 33,
   "metadata": {},
   "outputs": [
    {
     "output_type": "stream",
     "name": "stdout",
     "text": "[ 2  5  8 11 14 17 20 23]\n"
    }
   ],
   "source": [
    "# Sum two arrays \n",
    "print(array1 + array2)"
   ]
  },
  {
   "cell_type": "code",
   "execution_count": 34,
   "metadata": {},
   "outputs": [
    {
     "output_type": "stream",
     "name": "stdout",
     "text": "[2 3 4 5 6 7 8 9]\n"
    }
   ],
   "source": [
    "# Substraction\n",
    "print(array1 - array2)"
   ]
  },
  {
   "cell_type": "code",
   "execution_count": 35,
   "metadata": {},
   "outputs": [
    {
     "output_type": "stream",
     "name": "stdout",
     "text": "[  0   4  12  24  40  60  84 112]\n"
    }
   ],
   "source": [
    "# Multiplication\n",
    "# Important: It is not a matrix multiplication\n",
    "print(array1 * array2)"
   ]
  },
  {
   "cell_type": "markdown",
   "metadata": {},
   "source": [
    "## Broadcasting \n",
    "\n",
    " - If arithmetic operations are applied to Arrays that do not have the same shape, Numpy applies a property called Broadcasting"
   ]
  },
  {
   "cell_type": "code",
   "execution_count": 36,
   "metadata": {},
   "outputs": [
    {
     "output_type": "stream",
     "name": "stdout",
     "text": "Shape Array 1: (5,)\nArray 1: [0 1 2 3 4]\n\nShape Array 2: (1,)\nArray 2: [3]\n"
    }
   ],
   "source": [
    "# Creation of two one-dimensional arrays\n",
    "array1 = np.arange(5)\n",
    "array2 = np.array([3])\n",
    "print(\"Shape Array 1:\", array1.shape)\n",
    "print(\"Array 1:\", array1)\n",
    "print()\n",
    "print(\"Shape Array 2:\", array2.shape)\n",
    "print(\"Array 2:\", array2)"
   ]
  },
  {
   "cell_type": "code",
   "execution_count": 37,
   "metadata": {},
   "outputs": [
    {
     "output_type": "execute_result",
     "data": {
      "text/plain": "array([3, 4, 5, 6, 7])"
     },
     "metadata": {},
     "execution_count": 37
    }
   ],
   "source": [
    "# Sum of both Arrays \n",
    "array1 + array2"
   ]
  },
  {
   "cell_type": "code",
   "execution_count": 38,
   "metadata": {},
   "outputs": [
    {
     "output_type": "stream",
     "name": "stdout",
     "text": "Shape Array 1: (2, 3)\nArray 1:\n [[0 1 2]\n [3 4 5]]\n\nShape Array 2: (3,)\nArray 2: [ 6 10 14]\n"
    }
   ],
   "source": [
    "# Creation of two multidimensional and one-dimensional Arrays\n",
    "array1 = np.arange(6)\n",
    "array1.shape = (2, 3)\n",
    "array2 = np.arange(6, 18, 4)\n",
    "print(\"Shape Array 1:\", array1.shape)\n",
    "print(\"Array 1:\\n\", array1)\n",
    "print()\n",
    "print(\"Shape Array 2:\", array2.shape)\n",
    "print(\"Array 2:\", array2)"
   ]
  },
  {
   "cell_type": "code",
   "execution_count": 39,
   "metadata": {},
   "outputs": [
    {
     "output_type": "execute_result",
     "data": {
      "text/plain": "array([[ 6, 11, 16],\n       [ 9, 14, 19]])"
     },
     "metadata": {},
     "execution_count": 39
    }
   ],
   "source": [
    "# Sum of both Arrays \n",
    "array1 + array2"
   ]
  },
  {
   "cell_type": "markdown",
   "metadata": {},
   "source": [
    "## Statistical functions on Arrays"
   ]
  },
  {
   "cell_type": "code",
   "execution_count": 40,
   "metadata": {},
   "outputs": [
    {
     "output_type": "stream",
     "name": "stdout",
     "text": "Array 1: [ 1  3  5  7  9 11 13 15 17 19]\n"
    }
   ],
   "source": [
    "# Creating a one-dimensional array\n",
    "array1 = np.arange(1, 20, 2)\n",
    "print(\"Array 1:\", array1)"
   ]
  },
  {
   "cell_type": "code",
   "execution_count": 41,
   "metadata": {},
   "outputs": [
    {
     "output_type": "execute_result",
     "data": {
      "text/plain": "10.0"
     },
     "metadata": {},
     "execution_count": 41
    }
   ],
   "source": [
    "# Average of the Array elements \n",
    "array1.mean ()"
   ]
  },
  {
   "cell_type": "code",
   "execution_count": 42,
   "metadata": {},
   "outputs": [
    {
     "output_type": "execute_result",
     "data": {
      "text/plain": "100"
     },
     "metadata": {},
     "execution_count": 42
    }
   ],
   "source": [
    "# Sum of Array elements \n",
    "array1.sum ()"
   ]
  },
  {
   "cell_type": "markdown",
   "metadata": {},
   "source": [
    "### Efficient universal functions provided by numpy: ufunc"
   ]
  },
  {
   "cell_type": "code",
   "execution_count": 43,
   "metadata": {},
   "outputs": [
    {
     "output_type": "execute_result",
     "data": {
      "text/plain": "array([  1,   9,  25,  49,  81, 121, 169, 225, 289, 361])"
     },
     "metadata": {},
     "execution_count": 43
    }
   ],
   "source": [
    "# Array elements square\n",
    "np.square(array1)"
   ]
  },
  {
   "cell_type": "code",
   "execution_count": 44,
   "metadata": {},
   "outputs": [
    {
     "output_type": "execute_result",
     "data": {
      "text/plain": "array([1.        , 1.73205081, 2.23606798, 2.64575131, 3.        ,\n       3.31662479, 3.60555128, 3.87298335, 4.12310563, 4.35889894])"
     },
     "metadata": {},
     "execution_count": 44
    }
   ],
   "source": [
    "# Square root of Array elements \n",
    "np.sqrt (array1)"
   ]
  },
  {
   "cell_type": "code",
   "execution_count": 45,
   "metadata": {},
   "outputs": [
    {
     "output_type": "execute_result",
     "data": {
      "text/plain": "array([2.71828183e+00, 2.00855369e+01, 1.48413159e+02, 1.09663316e+03,\n       8.10308393e+03, 5.98741417e+04, 4.42413392e+05, 3.26901737e+06,\n       2.41549528e+07, 1.78482301e+08])"
     },
     "metadata": {},
     "execution_count": 45
    }
   ],
   "source": [
    "# # Exponential of the Array elements\n",
    "np.exp(array1)"
   ]
  },
  {
   "cell_type": "code",
   "execution_count": 46,
   "metadata": {},
   "outputs": [
    {
     "output_type": "execute_result",
     "data": {
      "text/plain": "array([0.        , 1.09861229, 1.60943791, 1.94591015, 2.19722458,\n       2.39789527, 2.56494936, 2.7080502 , 2.83321334, 2.94443898])"
     },
     "metadata": {},
     "execution_count": 46
    }
   ],
   "source": [
    "# log of Array elements \n",
    "np.log (array1)"
   ]
  }
 ],
 "metadata": {
  "language_info": {
   "codemirror_mode": {
    "name": "ipython",
    "version": 3
   },
   "file_extension": ".py",
   "mimetype": "text/x-python",
   "name": "python",
   "nbconvert_exporter": "python",
   "pygments_lexer": "ipython3",
   "version": 3
  },
  "orig_nbformat": 2,
  "kernelspec": {
   "name": "python_defaultSpec_1601148082766",
   "display_name": "Python 3.7.3 64-bit ('base': conda)"
  }
 },
 "nbformat": 4,
 "nbformat_minor": 2
}