{
 "cells": [
  {
   "cell_type": "markdown",
   "metadata": {},
   "source": [
    "\n",
    "<h1><center> Pandas </<center></h2>\n",
    "\n",
    "\n",
    "## Introduction\n",
    "\n",
    "Pandas is a library that provides easy-to-use, high-performance data structures and data analysis tools.\n",
    "\n",
    " - The main data structure is the DataFrame, which can be thought of as a 2D table in memory (like a spreadsheet, with column names and row labels).\n",
    "\n",
    " - Many functions available in Excel are available programmatically, such as creating pivot tables, calculating columns based on other columns, plotting charts, and so on.\n",
    "\n",
    " - Provides high performance to manipulate (join, divide, modify ...) large data sets"
   ]
  },
  {
   "cell_type": "code",
   "execution_count": 3,
   "metadata": {},
   "outputs": [],
   "source": [
    "# Import Pnadas\n",
    "import pandas as pd"
   ]
  },
  {
   "cell_type": "markdown",
   "metadata": {},
   "source": [
    "## Data structures in Pandas\n",
    "\n",
    "\n",
    "The Pandas library, in a generic way, contains the following data structures:\n",
    " - Series: One-dimensional array \n",
    " \n",
    " - DataFrame: Corresponds to a 2-dimensional table \n",
    " \n",
    " - Panel: Similar to a DataFrames dictionary"
   ]
  },
  {
   "cell_type": "markdown",
   "metadata": {},
   "source": [
    "### 1) Create the Series object"
   ]
  },
  {
   "cell_type": "code",
   "execution_count": 5,
   "metadata": {},
   "outputs": [
    {
     "output_type": "stream",
     "name": "stdout",
     "text": "0     2\n1     4\n2     6\n3     8\n4    10\ndtype: int64\n"
    }
   ],
   "source": [
    "# Creating a Series object\n",
    "series = pd.Series([2, 4, 6, 8, 10])\n",
    "print(series)"
   ]
  },
  {
   "cell_type": "code",
   "execution_count": 6,
   "metadata": {},
   "outputs": [
    {
     "output_type": "stream",
     "name": "stdout",
     "text": "Santiago    187\nPedro       178\nJulia       170\nAna         165\ndtype: int64\n"
    }
   ],
   "source": [
    "# Creating a Series object by initializing it with a Python dictionary\n",
    "altura = {\"Santiago\": 187, \"Pedro\": 178, \"Julia\": 170, \"Ana\": 165}\n",
    "series = pd.Series(altura)\n",
    "print(series)"
   ]
  },
  {
   "cell_type": "code",
   "execution_count": 7,
   "metadata": {},
   "outputs": [
    {
     "output_type": "stream",
     "name": "stdout",
     "text": "test1    34\ntest2    34\ntest3    34\ndtype: int64\n"
    }
   ],
   "source": [
    "# Create a Series object by initializing it with some\n",
    "# of the elements of a Python dictionary\n",
    "series = pd.Series(34, [\"test1\", \"test2\", \"test3\"])\n",
    "print(series)"
   ]
  },
  {
   "cell_type": "markdown",
   "metadata": {},
   "source": [
    "### Accessing the elements of a Series object\n",
    "\n",
    " - Each element in a Series object has a unique identifier called an index label."
   ]
  },
  {
   "cell_type": "code",
   "execution_count": 8,
   "metadata": {},
   "outputs": [
    {
     "output_type": "stream",
     "name": "stdout",
     "text": "num1    2\nnum2    4\nnum3    6\nnum4    8\ndtype: int64\n"
    }
   ],
   "source": [
    "# Creation of an object Series\n",
    "series = pd.Series([2, 4, 6, 8], index=[\"num1\", \"num2\", \"num3\", \"num4\"])\n",
    "print(series)"
   ]
  },
  {
   "cell_type": "code",
   "execution_count": 9,
   "metadata": {},
   "outputs": [
    {
     "output_type": "execute_result",
     "data": {
      "text/plain": "6"
     },
     "metadata": {},
     "execution_count": 9
    }
   ],
   "source": [
    "# By accessing the third element of the object\n",
    "series['num3']"
   ]
  },
  {
   "cell_type": "code",
   "execution_count": 10,
   "metadata": {},
   "outputs": [
    {
     "output_type": "execute_result",
     "data": {
      "text/plain": "6"
     },
     "metadata": {},
     "execution_count": 10
    }
   ],
   "source": [
    "# You can also access the element by position\n",
    "series[2]"
   ]
  },
  {
   "cell_type": "code",
   "execution_count": 11,
   "metadata": {},
   "outputs": [
    {
     "output_type": "execute_result",
     "data": {
      "text/plain": "6"
     },
     "metadata": {},
     "execution_count": 11
    }
   ],
   "source": [
    "# loc is the standard way to access an element of a Series object by attribute\n",
    "series.loc['num3']"
   ]
  },
  {
   "cell_type": "code",
   "execution_count": 12,
   "metadata": {},
   "outputs": [
    {
     "output_type": "execute_result",
     "data": {
      "text/plain": "6"
     },
     "metadata": {},
     "execution_count": 12
    }
   ],
   "source": [
    "# iloc is the standard way to access an element of a Series object by position \n",
    "series.iloc[2]"
   ]
  },
  {
   "cell_type": "code",
   "execution_count": 13,
   "metadata": {},
   "outputs": [
    {
     "output_type": "execute_result",
     "data": {
      "text/plain": "num3    6\nnum4    8\ndtype: int64"
     },
     "metadata": {},
     "execution_count": 13
    }
   ],
   "source": [
    "# Accessing the second and third element by position\n",
    "series.iloc[2:4]"
   ]
  },
  {
   "cell_type": "markdown",
   "metadata": {},
   "source": [
    "### Arithmetic Operations with Series\n"
   ]
  },
  {
   "cell_type": "code",
   "execution_count": 14,
   "metadata": {},
   "outputs": [
    {
     "output_type": "stream",
     "name": "stdout",
     "text": "0     2\n1     4\n2     6\n3     8\n4    10\ndtype: int64\n"
    }
   ],
   "source": [
    "# Creating a Series object\n",
    "series = pd.Series([2, 4, 6, 8, 10])\n",
    "print(series)"
   ]
  },
  {
   "cell_type": "code",
   "execution_count": 15,
   "metadata": {},
   "outputs": [
    {
     "output_type": "execute_result",
     "data": {
      "text/plain": "30"
     },
     "metadata": {},
     "execution_count": 15
    }
   ],
   "source": [
    "# Series objects are similar and compatible with Numpy Arrays\n",
    "import numpy as np\n",
    "# Numpy Ufunc to sum the elements of an Array \n",
    "np.sum (series)"
   ]
  },
  {
   "cell_type": "code",
   "execution_count": 16,
   "metadata": {},
   "outputs": [
    {
     "output_type": "execute_result",
     "data": {
      "text/plain": "0     4\n1     8\n2    12\n3    16\n4    20\ndtype: int64"
     },
     "metadata": {},
     "execution_count": 16
    }
   ],
   "source": [
    "# The rest of Numpy arithmetic operations on Arrays are also possible \\\n",
    "# More information about it in the Introduction to Numpy\n",
    "series * 2"
   ]
  },
  {
   "cell_type": "markdown",
   "metadata": {},
   "source": [
    "### Graphical representation of a Series object"
   ]
  },
  {
   "cell_type": "code",
   "execution_count": 17,
   "metadata": {},
   "outputs": [
    {
     "output_type": "execute_result",
     "data": {
      "text/plain": "0     4.4\n1     5.1\n2     6.1\n3     6.2\n4     6.1\n5     6.1\n6     5.7\n7     5.2\n8     4.7\n9     4.1\n10    3.9\nName: Temperaturas, dtype: float64"
     },
     "metadata": {},
     "execution_count": 17
    }
   ],
   "source": [
    "# Create a Series object named Temperatures\n",
    "temperaturas = [4.4, 5.1, 6.1, 6.2, 6.1, 6.1, 5.7, 5.2, 4.7, 4.1, 3.9]\n",
    "series = pd.Series(temperaturas, name=\"Temperaturas\")\n",
    "series"
   ]
  },
  {
   "cell_type": "code",
   "execution_count": 18,
   "metadata": {},
   "outputs": [
    {
     "output_type": "display_data",
     "data": {
      "text/plain": "<Figure size 432x288 with 1 Axes>",
      "image/svg+xml": "<?xml version=\"1.0\" encoding=\"utf-8\" standalone=\"no\"?>\n<!DOCTYPE svg PUBLIC \"-//W3C//DTD SVG 1.1//EN\"\n  \"http://www.w3.org/Graphics/SVG/1.1/DTD/svg11.dtd\">\n<!-- Created with matplotlib (https://matplotlib.org/) -->\n<svg height=\"248.518125pt\" version=\"1.1\" viewBox=\"0 0 378.465625 248.518125\" width=\"378.465625pt\" xmlns=\"http://www.w3.org/2000/svg\" xmlns:xlink=\"http://www.w3.org/1999/xlink\">\n <defs>\n  <style type=\"text/css\">\n*{stroke-linecap:butt;stroke-linejoin:round;white-space:pre;}\n  </style>\n </defs>\n <g id=\"figure_1\">\n  <g id=\"patch_1\">\n   <path d=\"M 0 248.518125 \nL 378.465625 248.518125 \nL 378.465625 0 \nL 0 0 \nz\n\" style=\"fill:none;\"/>\n  </g>\n  <g id=\"axes_1\">\n   <g id=\"patch_2\">\n    <path d=\"M 30.103125 224.64 \nL 364.903125 224.64 \nL 364.903125 7.2 \nL 30.103125 7.2 \nz\n\" style=\"fill:#ffffff;\"/>\n   </g>\n   <g id=\"matplotlib.axis_1\">\n    <g id=\"xtick_1\">\n     <g id=\"line2d_1\">\n      <defs>\n       <path d=\"M 0 0 \nL 0 3.5 \n\" id=\"m8c05ec9878\" style=\"stroke:#000000;stroke-width:0.8;\"/>\n      </defs>\n      <g>\n       <use style=\"stroke:#000000;stroke-width:0.8;\" x=\"30.103125\" xlink:href=\"#m8c05ec9878\" y=\"224.64\"/>\n      </g>\n     </g>\n     <g id=\"text_1\">\n      <!-- 0 -->\n      <defs>\n       <path d=\"M 31.78125 66.40625 \nQ 24.171875 66.40625 20.328125 58.90625 \nQ 16.5 51.421875 16.5 36.375 \nQ 16.5 21.390625 20.328125 13.890625 \nQ 24.171875 6.390625 31.78125 6.390625 \nQ 39.453125 6.390625 43.28125 13.890625 \nQ 47.125 21.390625 47.125 36.375 \nQ 47.125 51.421875 43.28125 58.90625 \nQ 39.453125 66.40625 31.78125 66.40625 \nz\nM 31.78125 74.21875 \nQ 44.046875 74.21875 50.515625 64.515625 \nQ 56.984375 54.828125 56.984375 36.375 \nQ 56.984375 17.96875 50.515625 8.265625 \nQ 44.046875 -1.421875 31.78125 -1.421875 \nQ 19.53125 -1.421875 13.0625 8.265625 \nQ 6.59375 17.96875 6.59375 36.375 \nQ 6.59375 54.828125 13.0625 64.515625 \nQ 19.53125 74.21875 31.78125 74.21875 \nz\n\" id=\"DejaVuSans-48\"/>\n      </defs>\n      <g transform=\"translate(26.921875 239.238437)scale(0.1 -0.1)\">\n       <use xlink:href=\"#DejaVuSans-48\"/>\n      </g>\n     </g>\n    </g>\n    <g id=\"xtick_2\">\n     <g id=\"line2d_2\">\n      <g>\n       <use style=\"stroke:#000000;stroke-width:0.8;\" x=\"97.063125\" xlink:href=\"#m8c05ec9878\" y=\"224.64\"/>\n      </g>\n     </g>\n     <g id=\"text_2\">\n      <!-- 2 -->\n      <defs>\n       <path d=\"M 19.1875 8.296875 \nL 53.609375 8.296875 \nL 53.609375 0 \nL 7.328125 0 \nL 7.328125 8.296875 \nQ 12.9375 14.109375 22.625 23.890625 \nQ 32.328125 33.6875 34.8125 36.53125 \nQ 39.546875 41.84375 41.421875 45.53125 \nQ 43.3125 49.21875 43.3125 52.78125 \nQ 43.3125 58.59375 39.234375 62.25 \nQ 35.15625 65.921875 28.609375 65.921875 \nQ 23.96875 65.921875 18.8125 64.3125 \nQ 13.671875 62.703125 7.8125 59.421875 \nL 7.8125 69.390625 \nQ 13.765625 71.78125 18.9375 73 \nQ 24.125 74.21875 28.421875 74.21875 \nQ 39.75 74.21875 46.484375 68.546875 \nQ 53.21875 62.890625 53.21875 53.421875 \nQ 53.21875 48.921875 51.53125 44.890625 \nQ 49.859375 40.875 45.40625 35.40625 \nQ 44.1875 33.984375 37.640625 27.21875 \nQ 31.109375 20.453125 19.1875 8.296875 \nz\n\" id=\"DejaVuSans-50\"/>\n      </defs>\n      <g transform=\"translate(93.881875 239.238437)scale(0.1 -0.1)\">\n       <use xlink:href=\"#DejaVuSans-50\"/>\n      </g>\n     </g>\n    </g>\n    <g id=\"xtick_3\">\n     <g id=\"line2d_3\">\n      <g>\n       <use style=\"stroke:#000000;stroke-width:0.8;\" x=\"164.023125\" xlink:href=\"#m8c05ec9878\" y=\"224.64\"/>\n      </g>\n     </g>\n     <g id=\"text_3\">\n      <!-- 4 -->\n      <defs>\n       <path d=\"M 37.796875 64.3125 \nL 12.890625 25.390625 \nL 37.796875 25.390625 \nz\nM 35.203125 72.90625 \nL 47.609375 72.90625 \nL 47.609375 25.390625 \nL 58.015625 25.390625 \nL 58.015625 17.1875 \nL 47.609375 17.1875 \nL 47.609375 0 \nL 37.796875 0 \nL 37.796875 17.1875 \nL 4.890625 17.1875 \nL 4.890625 26.703125 \nz\n\" id=\"DejaVuSans-52\"/>\n      </defs>\n      <g transform=\"translate(160.841875 239.238437)scale(0.1 -0.1)\">\n       <use xlink:href=\"#DejaVuSans-52\"/>\n      </g>\n     </g>\n    </g>\n    <g id=\"xtick_4\">\n     <g id=\"line2d_4\">\n      <g>\n       <use style=\"stroke:#000000;stroke-width:0.8;\" x=\"230.983125\" xlink:href=\"#m8c05ec9878\" y=\"224.64\"/>\n      </g>\n     </g>\n     <g id=\"text_4\">\n      <!-- 6 -->\n      <defs>\n       <path d=\"M 33.015625 40.375 \nQ 26.375 40.375 22.484375 35.828125 \nQ 18.609375 31.296875 18.609375 23.390625 \nQ 18.609375 15.53125 22.484375 10.953125 \nQ 26.375 6.390625 33.015625 6.390625 \nQ 39.65625 6.390625 43.53125 10.953125 \nQ 47.40625 15.53125 47.40625 23.390625 \nQ 47.40625 31.296875 43.53125 35.828125 \nQ 39.65625 40.375 33.015625 40.375 \nz\nM 52.59375 71.296875 \nL 52.59375 62.3125 \nQ 48.875 64.0625 45.09375 64.984375 \nQ 41.3125 65.921875 37.59375 65.921875 \nQ 27.828125 65.921875 22.671875 59.328125 \nQ 17.53125 52.734375 16.796875 39.40625 \nQ 19.671875 43.65625 24.015625 45.921875 \nQ 28.375 48.1875 33.59375 48.1875 \nQ 44.578125 48.1875 50.953125 41.515625 \nQ 57.328125 34.859375 57.328125 23.390625 \nQ 57.328125 12.15625 50.6875 5.359375 \nQ 44.046875 -1.421875 33.015625 -1.421875 \nQ 20.359375 -1.421875 13.671875 8.265625 \nQ 6.984375 17.96875 6.984375 36.375 \nQ 6.984375 53.65625 15.1875 63.9375 \nQ 23.390625 74.21875 37.203125 74.21875 \nQ 40.921875 74.21875 44.703125 73.484375 \nQ 48.484375 72.75 52.59375 71.296875 \nz\n\" id=\"DejaVuSans-54\"/>\n      </defs>\n      <g transform=\"translate(227.801875 239.238437)scale(0.1 -0.1)\">\n       <use xlink:href=\"#DejaVuSans-54\"/>\n      </g>\n     </g>\n    </g>\n    <g id=\"xtick_5\">\n     <g id=\"line2d_5\">\n      <g>\n       <use style=\"stroke:#000000;stroke-width:0.8;\" x=\"297.943125\" xlink:href=\"#m8c05ec9878\" y=\"224.64\"/>\n      </g>\n     </g>\n     <g id=\"text_5\">\n      <!-- 8 -->\n      <defs>\n       <path d=\"M 31.78125 34.625 \nQ 24.75 34.625 20.71875 30.859375 \nQ 16.703125 27.09375 16.703125 20.515625 \nQ 16.703125 13.921875 20.71875 10.15625 \nQ 24.75 6.390625 31.78125 6.390625 \nQ 38.8125 6.390625 42.859375 10.171875 \nQ 46.921875 13.96875 46.921875 20.515625 \nQ 46.921875 27.09375 42.890625 30.859375 \nQ 38.875 34.625 31.78125 34.625 \nz\nM 21.921875 38.8125 \nQ 15.578125 40.375 12.03125 44.71875 \nQ 8.5 49.078125 8.5 55.328125 \nQ 8.5 64.0625 14.71875 69.140625 \nQ 20.953125 74.21875 31.78125 74.21875 \nQ 42.671875 74.21875 48.875 69.140625 \nQ 55.078125 64.0625 55.078125 55.328125 \nQ 55.078125 49.078125 51.53125 44.71875 \nQ 48 40.375 41.703125 38.8125 \nQ 48.828125 37.15625 52.796875 32.3125 \nQ 56.78125 27.484375 56.78125 20.515625 \nQ 56.78125 9.90625 50.3125 4.234375 \nQ 43.84375 -1.421875 31.78125 -1.421875 \nQ 19.734375 -1.421875 13.25 4.234375 \nQ 6.78125 9.90625 6.78125 20.515625 \nQ 6.78125 27.484375 10.78125 32.3125 \nQ 14.796875 37.15625 21.921875 38.8125 \nz\nM 18.3125 54.390625 \nQ 18.3125 48.734375 21.84375 45.5625 \nQ 25.390625 42.390625 31.78125 42.390625 \nQ 38.140625 42.390625 41.71875 45.5625 \nQ 45.3125 48.734375 45.3125 54.390625 \nQ 45.3125 60.0625 41.71875 63.234375 \nQ 38.140625 66.40625 31.78125 66.40625 \nQ 25.390625 66.40625 21.84375 63.234375 \nQ 18.3125 60.0625 18.3125 54.390625 \nz\n\" id=\"DejaVuSans-56\"/>\n      </defs>\n      <g transform=\"translate(294.761875 239.238437)scale(0.1 -0.1)\">\n       <use xlink:href=\"#DejaVuSans-56\"/>\n      </g>\n     </g>\n    </g>\n    <g id=\"xtick_6\">\n     <g id=\"line2d_6\">\n      <g>\n       <use style=\"stroke:#000000;stroke-width:0.8;\" x=\"364.903125\" xlink:href=\"#m8c05ec9878\" y=\"224.64\"/>\n      </g>\n     </g>\n     <g id=\"text_6\">\n      <!-- 10 -->\n      <defs>\n       <path d=\"M 12.40625 8.296875 \nL 28.515625 8.296875 \nL 28.515625 63.921875 \nL 10.984375 60.40625 \nL 10.984375 69.390625 \nL 28.421875 72.90625 \nL 38.28125 72.90625 \nL 38.28125 8.296875 \nL 54.390625 8.296875 \nL 54.390625 0 \nL 12.40625 0 \nz\n\" id=\"DejaVuSans-49\"/>\n      </defs>\n      <g transform=\"translate(358.540625 239.238437)scale(0.1 -0.1)\">\n       <use xlink:href=\"#DejaVuSans-49\"/>\n       <use x=\"63.623047\" xlink:href=\"#DejaVuSans-48\"/>\n      </g>\n     </g>\n    </g>\n   </g>\n   <g id=\"matplotlib.axis_2\">\n    <g id=\"ytick_1\">\n     <g id=\"line2d_7\">\n      <defs>\n       <path d=\"M 0 0 \nL -3.5 0 \n\" id=\"m5ed0d7040a\" style=\"stroke:#000000;stroke-width:0.8;\"/>\n      </defs>\n      <g>\n       <use style=\"stroke:#000000;stroke-width:0.8;\" x=\"30.103125\" xlink:href=\"#m5ed0d7040a\" y=\"206.161897\"/>\n      </g>\n     </g>\n     <g id=\"text_7\">\n      <!-- 4.0 -->\n      <defs>\n       <path d=\"M 10.6875 12.40625 \nL 21 12.40625 \nL 21 0 \nL 10.6875 0 \nz\n\" id=\"DejaVuSans-46\"/>\n      </defs>\n      <g transform=\"translate(7.2 209.961116)scale(0.1 -0.1)\">\n       <use xlink:href=\"#DejaVuSans-52\"/>\n       <use x=\"63.623047\" xlink:href=\"#DejaVuSans-46\"/>\n       <use x=\"95.410156\" xlink:href=\"#DejaVuSans-48\"/>\n      </g>\n     </g>\n    </g>\n    <g id=\"ytick_2\">\n     <g id=\"line2d_8\">\n      <g>\n       <use style=\"stroke:#000000;stroke-width:0.8;\" x=\"30.103125\" xlink:href=\"#m5ed0d7040a\" y=\"163.189565\"/>\n      </g>\n     </g>\n     <g id=\"text_8\">\n      <!-- 4.5 -->\n      <defs>\n       <path d=\"M 10.796875 72.90625 \nL 49.515625 72.90625 \nL 49.515625 64.59375 \nL 19.828125 64.59375 \nL 19.828125 46.734375 \nQ 21.96875 47.46875 24.109375 47.828125 \nQ 26.265625 48.1875 28.421875 48.1875 \nQ 40.625 48.1875 47.75 41.5 \nQ 54.890625 34.8125 54.890625 23.390625 \nQ 54.890625 11.625 47.5625 5.09375 \nQ 40.234375 -1.421875 26.90625 -1.421875 \nQ 22.3125 -1.421875 17.546875 -0.640625 \nQ 12.796875 0.140625 7.71875 1.703125 \nL 7.71875 11.625 \nQ 12.109375 9.234375 16.796875 8.0625 \nQ 21.484375 6.890625 26.703125 6.890625 \nQ 35.15625 6.890625 40.078125 11.328125 \nQ 45.015625 15.765625 45.015625 23.390625 \nQ 45.015625 31 40.078125 35.4375 \nQ 35.15625 39.890625 26.703125 39.890625 \nQ 22.75 39.890625 18.8125 39.015625 \nQ 14.890625 38.140625 10.796875 36.28125 \nz\n\" id=\"DejaVuSans-53\"/>\n      </defs>\n      <g transform=\"translate(7.2 166.988784)scale(0.1 -0.1)\">\n       <use xlink:href=\"#DejaVuSans-52\"/>\n       <use x=\"63.623047\" xlink:href=\"#DejaVuSans-46\"/>\n       <use x=\"95.410156\" xlink:href=\"#DejaVuSans-53\"/>\n      </g>\n     </g>\n    </g>\n    <g id=\"ytick_3\">\n     <g id=\"line2d_9\">\n      <g>\n       <use style=\"stroke:#000000;stroke-width:0.8;\" x=\"30.103125\" xlink:href=\"#m5ed0d7040a\" y=\"120.217233\"/>\n      </g>\n     </g>\n     <g id=\"text_9\">\n      <!-- 5.0 -->\n      <g transform=\"translate(7.2 124.016452)scale(0.1 -0.1)\">\n       <use xlink:href=\"#DejaVuSans-53\"/>\n       <use x=\"63.623047\" xlink:href=\"#DejaVuSans-46\"/>\n       <use x=\"95.410156\" xlink:href=\"#DejaVuSans-48\"/>\n      </g>\n     </g>\n    </g>\n    <g id=\"ytick_4\">\n     <g id=\"line2d_10\">\n      <g>\n       <use style=\"stroke:#000000;stroke-width:0.8;\" x=\"30.103125\" xlink:href=\"#m5ed0d7040a\" y=\"77.244901\"/>\n      </g>\n     </g>\n     <g id=\"text_10\">\n      <!-- 5.5 -->\n      <g transform=\"translate(7.2 81.04412)scale(0.1 -0.1)\">\n       <use xlink:href=\"#DejaVuSans-53\"/>\n       <use x=\"63.623047\" xlink:href=\"#DejaVuSans-46\"/>\n       <use x=\"95.410156\" xlink:href=\"#DejaVuSans-53\"/>\n      </g>\n     </g>\n    </g>\n    <g id=\"ytick_5\">\n     <g id=\"line2d_11\">\n      <g>\n       <use style=\"stroke:#000000;stroke-width:0.8;\" x=\"30.103125\" xlink:href=\"#m5ed0d7040a\" y=\"34.272569\"/>\n      </g>\n     </g>\n     <g id=\"text_11\">\n      <!-- 6.0 -->\n      <g transform=\"translate(7.2 38.071788)scale(0.1 -0.1)\">\n       <use xlink:href=\"#DejaVuSans-54\"/>\n       <use x=\"63.623047\" xlink:href=\"#DejaVuSans-46\"/>\n       <use x=\"95.410156\" xlink:href=\"#DejaVuSans-48\"/>\n      </g>\n     </g>\n    </g>\n   </g>\n   <g id=\"line2d_12\">\n    <path clip-path=\"url(#pdf6a9383ba)\" d=\"M 30.103125 171.784032 \nL 63.583125 111.622767 \nL 97.063125 25.678103 \nL 130.543125 17.083636 \nL 164.023125 25.678103 \nL 197.503125 25.678103 \nL 230.983125 60.055968 \nL 264.463125 103.0283 \nL 297.943125 146.000632 \nL 331.423125 197.567431 \nL 364.903125 214.756364 \n\" style=\"fill:none;stroke:#1f77b4;stroke-linecap:square;stroke-width:1.5;\"/>\n   </g>\n   <g id=\"patch_3\">\n    <path d=\"M 30.103125 224.64 \nL 30.103125 7.2 \n\" style=\"fill:none;stroke:#000000;stroke-linecap:square;stroke-linejoin:miter;stroke-width:0.8;\"/>\n   </g>\n   <g id=\"patch_4\">\n    <path d=\"M 364.903125 224.64 \nL 364.903125 7.2 \n\" style=\"fill:none;stroke:#000000;stroke-linecap:square;stroke-linejoin:miter;stroke-width:0.8;\"/>\n   </g>\n   <g id=\"patch_5\">\n    <path d=\"M 30.103125 224.64 \nL 364.903125 224.64 \n\" style=\"fill:none;stroke:#000000;stroke-linecap:square;stroke-linejoin:miter;stroke-width:0.8;\"/>\n   </g>\n   <g id=\"patch_6\">\n    <path d=\"M 30.103125 7.2 \nL 364.903125 7.2 \n\" style=\"fill:none;stroke:#000000;stroke-linecap:square;stroke-linejoin:miter;stroke-width:0.8;\"/>\n   </g>\n  </g>\n </g>\n <defs>\n  <clipPath id=\"pdf6a9383ba\">\n   <rect height=\"217.44\" width=\"334.8\" x=\"30.103125\" y=\"7.2\"/>\n  </clipPath>\n </defs>\n</svg>\n",
      "image/png": "[encoded data removed]"
     },
     "metadata": {
      "needs_background": "light"
     }
    }
   ],
   "source": [
    "# Graphic representation of the Series object\n",
    "%matplotlib inline\n",
    "import matplotlib.pyplot as plt\n",
    "\n",
    "series.plot()\n",
    "plt.show()"
   ]
  },
  {
   "cell_type": "markdown",
   "metadata": {},
   "source": [
    "### 2) Create a DataFrame object"
   ]
  },
  {
   "cell_type": "code",
   "execution_count": 19,
   "metadata": {},
   "outputs": [
    {
     "output_type": "execute_result",
     "data": {
      "text/plain": "          weight  height  children\nAna           56     165       NaN\nJulia         64     170       3.0\nPedro         90     178       2.0\nSantiago      84     187       NaN",
      "text/html": "<div>\n<style scoped>\n    .dataframe tbody tr th:only-of-type {\n        vertical-align: middle;\n    }\n\n    .dataframe tbody tr th {\n        vertical-align: top;\n    }\n\n    .dataframe thead th {\n        text-align: right;\n    }\n</style>\n<table border=\"1\" class=\"dataframe\">\n  <thead>\n    <tr style=\"text-align: right;\">\n      <th></th>\n      <th>weight</th>\n      <th>height</th>\n      <th>children</th>\n    </tr>\n  </thead>\n  <tbody>\n    <tr>\n      <th>Ana</th>\n      <td>56</td>\n      <td>165</td>\n      <td>NaN</td>\n    </tr>\n    <tr>\n      <th>Julia</th>\n      <td>64</td>\n      <td>170</td>\n      <td>3.0</td>\n    </tr>\n    <tr>\n      <th>Pedro</th>\n      <td>90</td>\n      <td>178</td>\n      <td>2.0</td>\n    </tr>\n    <tr>\n      <th>Santiago</th>\n      <td>84</td>\n      <td>187</td>\n      <td>NaN</td>\n    </tr>\n  </tbody>\n</table>\n</div>"
     },
     "metadata": {},
     "execution_count": 19
    }
   ],
   "source": [
    "# Create a DataFrame by initializing it with a dictionary of Series objects\n",
    "\n",
    "people = {\n",
    "     \"weight\": pd.Series ([84, 90, 56, 64], [\"Santiago\", \"Pedro\", \"Ana\", \"Julia\"]),\n",
    "     \"height\": pd.Series ({\"Santiago\": 187, \"Pedro\": 178, \"Julia\": 170, \"Ana\": 165}),\n",
    "     \"children\": pd.Series ([2, 3], [\"Pedro\", \"Julia\"])\n",
    "}\n",
    "\n",
    "df = pd.DataFrame (people)\n",
    "df"
   ]
  },
  {
   "cell_type": "markdown",
   "metadata": {},
   "source": [
    " - The DataFrame can be forced to present certain columns and in a certain order"
   ]
  },
  {
   "cell_type": "code",
   "execution_count": 20,
   "metadata": {},
   "outputs": [
    {
     "output_type": "execute_result",
     "data": {
      "text/plain": "          height  weight\nAna          165      56\nJulia        170      64\nSantiago     187      84",
      "text/html": "<div>\n<style scoped>\n    .dataframe tbody tr th:only-of-type {\n        vertical-align: middle;\n    }\n\n    .dataframe tbody tr th {\n        vertical-align: top;\n    }\n\n    .dataframe thead th {\n        text-align: right;\n    }\n</style>\n<table border=\"1\" class=\"dataframe\">\n  <thead>\n    <tr style=\"text-align: right;\">\n      <th></th>\n      <th>height</th>\n      <th>weight</th>\n    </tr>\n  </thead>\n  <tbody>\n    <tr>\n      <th>Ana</th>\n      <td>165</td>\n      <td>56</td>\n    </tr>\n    <tr>\n      <th>Julia</th>\n      <td>170</td>\n      <td>64</td>\n    </tr>\n    <tr>\n      <th>Santiago</th>\n      <td>187</td>\n      <td>84</td>\n    </tr>\n  </tbody>\n</table>\n</div>"
     },
     "metadata": {},
     "execution_count": 20
    }
   ],
   "source": [
    "# Create a DataFrame by initializing it with some elements from a dictionary\n",
    "# of Series objects\n",
    "people = {\n",
    "     \"weight\": pd.Series ([84, 90, 56, 64], [\"Santiago\", \"Pedro\", \"Ana\", \"Julia\"]),\n",
    "     \"height\": pd.Series ({\"Santiago\": 187, \"Pedro\": 178, \"Julia\": 170, \"Ana\": 165}),\n",
    "     \"children\": pd.Series ([2, 3], [\"Pedro\", \"Julia\"])\n",
    "}\n",
    "\n",
    "df = pd.DataFrame (\n",
    "         people,\n",
    "         columns = [\"height\", \"weight\"],\n",
    "         index = [\"Ana\", \"Julia\", \"Santiago\"])\n",
    "df"
   ]
  },
  {
   "cell_type": "code",
   "execution_count": 21,
   "metadata": {},
   "outputs": [
    {
     "output_type": "execute_result",
     "data": {
      "text/plain": "       height  children  weight\nPedro     185         4      76\nAna       170         0      65\nJuan      190         1      89",
      "text/html": "<div>\n<style scoped>\n    .dataframe tbody tr th:only-of-type {\n        vertical-align: middle;\n    }\n\n    .dataframe tbody tr th {\n        vertical-align: top;\n    }\n\n    .dataframe thead th {\n        text-align: right;\n    }\n</style>\n<table border=\"1\" class=\"dataframe\">\n  <thead>\n    <tr style=\"text-align: right;\">\n      <th></th>\n      <th>height</th>\n      <th>children</th>\n      <th>weight</th>\n    </tr>\n  </thead>\n  <tbody>\n    <tr>\n      <th>Pedro</th>\n      <td>185</td>\n      <td>4</td>\n      <td>76</td>\n    </tr>\n    <tr>\n      <th>Ana</th>\n      <td>170</td>\n      <td>0</td>\n      <td>65</td>\n    </tr>\n    <tr>\n      <th>Juan</th>\n      <td>190</td>\n      <td>1</td>\n      <td>89</td>\n    </tr>\n  </tbody>\n</table>\n</div>"
     },
     "metadata": {},
     "execution_count": 21
    }
   ],
   "source": [
    "# Creating a DataFrame by initializing it with a list of Python lists\n",
    "# Important: Columns and indices must be specified separately\n",
    "values = [\n",
    "     [185, 4, 76],\n",
    "     [170, 0, 65],\n",
    "     [190, 1, 89]\n",
    "]\n",
    "\n",
    "df = pd.DataFrame (\n",
    "         values,\n",
    "         columns = [\"height\", \"children\", \"weight\"],\n",
    "         index = [\"Pedro\", \"Ana\", \"Juan\"])\n",
    "df"
   ]
  },
  {
   "cell_type": "code",
   "execution_count": 22,
   "metadata": {},
   "outputs": [
    {
     "output_type": "execute_result",
     "data": {
      "text/plain": "          height  weight\nAna          165      65\nJulia        170      70\nPedro        178      78\nSantiago     187      87",
      "text/html": "<div>\n<style scoped>\n    .dataframe tbody tr th:only-of-type {\n        vertical-align: middle;\n    }\n\n    .dataframe tbody tr th {\n        vertical-align: top;\n    }\n\n    .dataframe thead th {\n        text-align: right;\n    }\n</style>\n<table border=\"1\" class=\"dataframe\">\n  <thead>\n    <tr style=\"text-align: right;\">\n      <th></th>\n      <th>height</th>\n      <th>weight</th>\n    </tr>\n  </thead>\n  <tbody>\n    <tr>\n      <th>Ana</th>\n      <td>165</td>\n      <td>65</td>\n    </tr>\n    <tr>\n      <th>Julia</th>\n      <td>170</td>\n      <td>70</td>\n    </tr>\n    <tr>\n      <th>Pedro</th>\n      <td>178</td>\n      <td>78</td>\n    </tr>\n    <tr>\n      <th>Santiago</th>\n      <td>187</td>\n      <td>87</td>\n    </tr>\n  </tbody>\n</table>\n</div>"
     },
     "metadata": {},
     "execution_count": 22
    }
   ],
   "source": [
    "# Creating a DataFrame by initializing it with a Python dictionary\n",
    "people = {\n",
    "     \"height\": {\"Santiago\": 187, \"Pedro\": 178, \"Julia\": 170, \"Ana\": 165},\n",
    "     \"weight\": {\"Santiago\": 87, \"Pedro\": 78, \"Julia\": 70, \"Ana\": 65}}\n",
    "\n",
    "df = pd.DataFrame (people)\n",
    "df"
   ]
  },
  {
   "cell_type": "markdown",
   "metadata": {},
   "source": [
    "### Access to the elements of a DataFrame"
   ]
  },
  {
   "cell_type": "code",
   "execution_count": 23,
   "metadata": {},
   "outputs": [
    {
     "output_type": "execute_result",
     "data": {
      "text/plain": "          weight  height  children\nAna           56     165       NaN\nJulia         64     170       3.0\nPedro         90     178       2.0\nSantiago      84     187       NaN",
      "text/html": "<div>\n<style scoped>\n    .dataframe tbody tr th:only-of-type {\n        vertical-align: middle;\n    }\n\n    .dataframe tbody tr th {\n        vertical-align: top;\n    }\n\n    .dataframe thead th {\n        text-align: right;\n    }\n</style>\n<table border=\"1\" class=\"dataframe\">\n  <thead>\n    <tr style=\"text-align: right;\">\n      <th></th>\n      <th>weight</th>\n      <th>height</th>\n      <th>children</th>\n    </tr>\n  </thead>\n  <tbody>\n    <tr>\n      <th>Ana</th>\n      <td>56</td>\n      <td>165</td>\n      <td>NaN</td>\n    </tr>\n    <tr>\n      <th>Julia</th>\n      <td>64</td>\n      <td>170</td>\n      <td>3.0</td>\n    </tr>\n    <tr>\n      <th>Pedro</th>\n      <td>90</td>\n      <td>178</td>\n      <td>2.0</td>\n    </tr>\n    <tr>\n      <th>Santiago</th>\n      <td>84</td>\n      <td>187</td>\n      <td>NaN</td>\n    </tr>\n  </tbody>\n</table>\n</div>"
     },
     "metadata": {},
     "execution_count": 23
    }
   ],
   "source": [
    "# Create a DataFrame by initializing it with a dictionary of Series objects\n",
    "people = {\n",
    "     \"weight\": pd.Series ([84, 90, 56, 64], [\"Santiago\", \"Pedro\", \"Ana\", \"Julia\"]),\n",
    "     \"height\": pd.Series ({\"Santiago\": 187, \"Pedro\": 178, \"Julia\": 170, \"Ana\": 165}),\n",
    "     \"children\": pd.Series ([2, 3], [\"Pedro\", \"Julia\"])\n",
    "}\n",
    "\n",
    "df = pd.DataFrame (people)\n",
    "df"
   ]
  },
  {
   "cell_type": "code",
   "execution_count": 24,
   "metadata": {},
   "outputs": [
    {
     "output_type": "execute_result",
     "data": {
      "text/plain": "Ana         56\nJulia       64\nPedro       90\nSantiago    84\nName: weight, dtype: int64"
     },
     "metadata": {},
     "execution_count": 24
    }
   ],
   "source": [
    "# Access to the elements of the DataFrame columns\n",
    "df['weight']"
   ]
  },
  {
   "cell_type": "code",
   "execution_count": 25,
   "metadata": {},
   "outputs": [
    {
     "output_type": "execute_result",
     "data": {
      "text/plain": "          weight  height\nAna           56     165\nJulia         64     170\nPedro         90     178\nSantiago      84     187",
      "text/html": "<div>\n<style scoped>\n    .dataframe tbody tr th:only-of-type {\n        vertical-align: middle;\n    }\n\n    .dataframe tbody tr th {\n        vertical-align: top;\n    }\n\n    .dataframe thead th {\n        text-align: right;\n    }\n</style>\n<table border=\"1\" class=\"dataframe\">\n  <thead>\n    <tr style=\"text-align: right;\">\n      <th></th>\n      <th>weight</th>\n      <th>height</th>\n    </tr>\n  </thead>\n  <tbody>\n    <tr>\n      <th>Ana</th>\n      <td>56</td>\n      <td>165</td>\n    </tr>\n    <tr>\n      <th>Julia</th>\n      <td>64</td>\n      <td>170</td>\n    </tr>\n    <tr>\n      <th>Pedro</th>\n      <td>90</td>\n      <td>178</td>\n    </tr>\n    <tr>\n      <th>Santiago</th>\n      <td>84</td>\n      <td>187</td>\n    </tr>\n  </tbody>\n</table>\n</div>"
     },
     "metadata": {},
     "execution_count": 25
    }
   ],
   "source": [
    "df[['weight','height']]"
   ]
  },
  {
   "cell_type": "code",
   "execution_count": 26,
   "metadata": {},
   "outputs": [
    {
     "output_type": "execute_result",
     "data": {
      "text/plain": "Ana         False\nJulia       False\nPedro        True\nSantiago     True\nName: weight, dtype: bool"
     },
     "metadata": {},
     "execution_count": 26
    }
   ],
   "source": [
    "# The above methods can be combined with Boolean expressions\n",
    "df['weight'] > 80"
   ]
  },
  {
   "cell_type": "code",
   "execution_count": 27,
   "metadata": {},
   "outputs": [
    {
     "output_type": "execute_result",
     "data": {
      "text/plain": "          weight  height  children\nPedro         90     178       2.0\nSantiago      84     187       NaN",
      "text/html": "<div>\n<style scoped>\n    .dataframe tbody tr th:only-of-type {\n        vertical-align: middle;\n    }\n\n    .dataframe tbody tr th {\n        vertical-align: top;\n    }\n\n    .dataframe thead th {\n        text-align: right;\n    }\n</style>\n<table border=\"1\" class=\"dataframe\">\n  <thead>\n    <tr style=\"text-align: right;\">\n      <th></th>\n      <th>weight</th>\n      <th>height</th>\n      <th>children</th>\n    </tr>\n  </thead>\n  <tbody>\n    <tr>\n      <th>Pedro</th>\n      <td>90</td>\n      <td>178</td>\n      <td>2.0</td>\n    </tr>\n    <tr>\n      <th>Santiago</th>\n      <td>84</td>\n      <td>187</td>\n      <td>NaN</td>\n    </tr>\n  </tbody>\n</table>\n</div>"
     },
     "metadata": {},
     "execution_count": 27
    }
   ],
   "source": [
    "#  The above methods can be combined with Boolean expressions\n",
    "df[df['weight'] > 80]"
   ]
  },
  {
   "cell_type": "markdown",
   "metadata": {},
   "source": [
    "### Access to the elements of the rows of the DataFrame"
   ]
  },
  {
   "cell_type": "code",
   "execution_count": 28,
   "metadata": {},
   "outputs": [
    {
     "output_type": "execute_result",
     "data": {
      "text/plain": "          weight  height  children\nAna           56     165       NaN\nJulia         64     170       3.0\nPedro         90     178       2.0\nSantiago      84     187       NaN",
      "text/html": "<div>\n<style scoped>\n    .dataframe tbody tr th:only-of-type {\n        vertical-align: middle;\n    }\n\n    .dataframe tbody tr th {\n        vertical-align: top;\n    }\n\n    .dataframe thead th {\n        text-align: right;\n    }\n</style>\n<table border=\"1\" class=\"dataframe\">\n  <thead>\n    <tr style=\"text-align: right;\">\n      <th></th>\n      <th>weight</th>\n      <th>height</th>\n      <th>children</th>\n    </tr>\n  </thead>\n  <tbody>\n    <tr>\n      <th>Ana</th>\n      <td>56</td>\n      <td>165</td>\n      <td>NaN</td>\n    </tr>\n    <tr>\n      <th>Julia</th>\n      <td>64</td>\n      <td>170</td>\n      <td>3.0</td>\n    </tr>\n    <tr>\n      <th>Pedro</th>\n      <td>90</td>\n      <td>178</td>\n      <td>2.0</td>\n    </tr>\n    <tr>\n      <th>Santiago</th>\n      <td>84</td>\n      <td>187</td>\n      <td>NaN</td>\n    </tr>\n  </tbody>\n</table>\n</div>"
     },
     "metadata": {},
     "execution_count": 28
    }
   ],
   "source": [
    "# Show the DataFrame\n",
    "df"
   ]
  },
  {
   "cell_type": "code",
   "execution_count": 29,
   "metadata": {},
   "outputs": [
    {
     "output_type": "execute_result",
     "data": {
      "text/plain": "weight       90.0\nheight      178.0\nchildren      2.0\nName: Pedro, dtype: float64"
     },
     "metadata": {},
     "execution_count": 29
    }
   ],
   "source": [
    "df.loc['Pedro']"
   ]
  },
  {
   "cell_type": "code",
   "execution_count": 30,
   "metadata": {},
   "outputs": [
    {
     "output_type": "execute_result",
     "data": {
      "text/plain": "       weight  height  children\nJulia      64     170       3.0\nPedro      90     178       2.0",
      "text/html": "<div>\n<style scoped>\n    .dataframe tbody tr th:only-of-type {\n        vertical-align: middle;\n    }\n\n    .dataframe tbody tr th {\n        vertical-align: top;\n    }\n\n    .dataframe thead th {\n        text-align: right;\n    }\n</style>\n<table border=\"1\" class=\"dataframe\">\n  <thead>\n    <tr style=\"text-align: right;\">\n      <th></th>\n      <th>weight</th>\n      <th>height</th>\n      <th>children</th>\n    </tr>\n  </thead>\n  <tbody>\n    <tr>\n      <th>Julia</th>\n      <td>64</td>\n      <td>170</td>\n      <td>3.0</td>\n    </tr>\n    <tr>\n      <th>Pedro</th>\n      <td>90</td>\n      <td>178</td>\n      <td>2.0</td>\n    </tr>\n  </tbody>\n</table>\n</div>"
     },
     "metadata": {},
     "execution_count": 30
    }
   ],
   "source": [
    "df.iloc[1:3]"
   ]
  },
  {
   "cell_type": "markdown",
   "metadata": {},
   "source": [
    "### Advanced query of the elements of a DataFrame\n"
   ]
  },
  {
   "cell_type": "code",
   "execution_count": 32,
   "metadata": {},
   "outputs": [
    {
     "output_type": "execute_result",
     "data": {
      "text/plain": "          weight  height  children\nAna           56     165       NaN\nJulia         64     170       3.0\nPedro         90     178       2.0\nSantiago      84     187       NaN",
      "text/html": "<div>\n<style scoped>\n    .dataframe tbody tr th:only-of-type {\n        vertical-align: middle;\n    }\n\n    .dataframe tbody tr th {\n        vertical-align: top;\n    }\n\n    .dataframe thead th {\n        text-align: right;\n    }\n</style>\n<table border=\"1\" class=\"dataframe\">\n  <thead>\n    <tr style=\"text-align: right;\">\n      <th></th>\n      <th>weight</th>\n      <th>height</th>\n      <th>children</th>\n    </tr>\n  </thead>\n  <tbody>\n    <tr>\n      <th>Ana</th>\n      <td>56</td>\n      <td>165</td>\n      <td>NaN</td>\n    </tr>\n    <tr>\n      <th>Julia</th>\n      <td>64</td>\n      <td>170</td>\n      <td>3.0</td>\n    </tr>\n    <tr>\n      <th>Pedro</th>\n      <td>90</td>\n      <td>178</td>\n      <td>2.0</td>\n    </tr>\n    <tr>\n      <th>Santiago</th>\n      <td>84</td>\n      <td>187</td>\n      <td>NaN</td>\n    </tr>\n  </tbody>\n</table>\n</div>"
     },
     "metadata": {},
     "execution_count": 32
    }
   ],
   "source": [
    "# Show the DataFrame\n",
    "df"
   ]
  },
  {
   "cell_type": "code",
   "execution_count": 34,
   "metadata": {},
   "outputs": [
    {
     "output_type": "execute_result",
     "data": {
      "text/plain": "          weight  height  children\nJulia         64     170       3.0\nPedro         90     178       2.0\nSantiago      84     187       NaN",
      "text/html": "<div>\n<style scoped>\n    .dataframe tbody tr th:only-of-type {\n        vertical-align: middle;\n    }\n\n    .dataframe tbody tr th {\n        vertical-align: top;\n    }\n\n    .dataframe thead th {\n        text-align: right;\n    }\n</style>\n<table border=\"1\" class=\"dataframe\">\n  <thead>\n    <tr style=\"text-align: right;\">\n      <th></th>\n      <th>weight</th>\n      <th>height</th>\n      <th>children</th>\n    </tr>\n  </thead>\n  <tbody>\n    <tr>\n      <th>Julia</th>\n      <td>64</td>\n      <td>170</td>\n      <td>3.0</td>\n    </tr>\n    <tr>\n      <th>Pedro</th>\n      <td>90</td>\n      <td>178</td>\n      <td>2.0</td>\n    </tr>\n    <tr>\n      <th>Santiago</th>\n      <td>84</td>\n      <td>187</td>\n      <td>NaN</td>\n    </tr>\n  </tbody>\n</table>\n</div>"
     },
     "metadata": {},
     "execution_count": 34
    }
   ],
   "source": [
    "df.query (\"height> = 170 and weight> 60\")"
   ]
  },
  {
   "cell_type": "markdown",
   "metadata": {},
   "source": [
    "### Copy a DataFrame"
   ]
  },
  {
   "cell_type": "code",
   "execution_count": 36,
   "metadata": {},
   "outputs": [
    {
     "output_type": "execute_result",
     "data": {
      "text/plain": "          weight  height  children\nAna           56     165       NaN\nJulia         64     170       3.0\nPedro         90     178       2.0\nSantiago      84     187       NaN",
      "text/html": "<div>\n<style scoped>\n    .dataframe tbody tr th:only-of-type {\n        vertical-align: middle;\n    }\n\n    .dataframe tbody tr th {\n        vertical-align: top;\n    }\n\n    .dataframe thead th {\n        text-align: right;\n    }\n</style>\n<table border=\"1\" class=\"dataframe\">\n  <thead>\n    <tr style=\"text-align: right;\">\n      <th></th>\n      <th>weight</th>\n      <th>height</th>\n      <th>children</th>\n    </tr>\n  </thead>\n  <tbody>\n    <tr>\n      <th>Ana</th>\n      <td>56</td>\n      <td>165</td>\n      <td>NaN</td>\n    </tr>\n    <tr>\n      <th>Julia</th>\n      <td>64</td>\n      <td>170</td>\n      <td>3.0</td>\n    </tr>\n    <tr>\n      <th>Pedro</th>\n      <td>90</td>\n      <td>178</td>\n      <td>2.0</td>\n    </tr>\n    <tr>\n      <th>Santiago</th>\n      <td>84</td>\n      <td>187</td>\n      <td>NaN</td>\n    </tr>\n  </tbody>\n</table>\n</div>"
     },
     "metadata": {},
     "execution_count": 36
    }
   ],
   "source": [
    "# Create a DataFrame by initializing it with a Series object dictionary\n",
    "people = {\n",
    "     \"weight\": pd.Series ([84, 90, 56, 64], [\"Santiago\", \"Pedro\", \"Ana\", \"Julia\"]),\n",
    "     \"height\": pd.Series ({\"Santiago\": 187, \"Pedro\": 178, \"Julia\": 170, \"Ana\": 165}),\n",
    "     \"children\": pd.Series ([2, 3], [\"Pedro\", \"Julia\"])\n",
    "}\n",
    "\n",
    "df = pd.DataFrame (people)\n",
    "df"
   ]
  },
  {
   "cell_type": "code",
   "execution_count": 37,
   "metadata": {},
   "outputs": [],
   "source": [
    "# Copy the DataFrame df into df_copy \n",
    "# Important: Modifying an element of df_copy does not modify df \n",
    "df_copy = df.copy ()"
   ]
  },
  {
   "cell_type": "markdown",
   "metadata": {},
   "source": [
    "### Modifying a DataFrame"
   ]
  },
  {
   "cell_type": "code",
   "execution_count": 38,
   "metadata": {},
   "outputs": [
    {
     "output_type": "execute_result",
     "data": {
      "text/plain": "          weight  height  children\nAna           56     165       NaN\nJulia         64     170       3.0\nPedro         90     178       2.0\nSantiago      84     187       NaN",
      "text/html": "<div>\n<style scoped>\n    .dataframe tbody tr th:only-of-type {\n        vertical-align: middle;\n    }\n\n    .dataframe tbody tr th {\n        vertical-align: top;\n    }\n\n    .dataframe thead th {\n        text-align: right;\n    }\n</style>\n<table border=\"1\" class=\"dataframe\">\n  <thead>\n    <tr style=\"text-align: right;\">\n      <th></th>\n      <th>weight</th>\n      <th>height</th>\n      <th>children</th>\n    </tr>\n  </thead>\n  <tbody>\n    <tr>\n      <th>Ana</th>\n      <td>56</td>\n      <td>165</td>\n      <td>NaN</td>\n    </tr>\n    <tr>\n      <th>Julia</th>\n      <td>64</td>\n      <td>170</td>\n      <td>3.0</td>\n    </tr>\n    <tr>\n      <th>Pedro</th>\n      <td>90</td>\n      <td>178</td>\n      <td>2.0</td>\n    </tr>\n    <tr>\n      <th>Santiago</th>\n      <td>84</td>\n      <td>187</td>\n      <td>NaN</td>\n    </tr>\n  </tbody>\n</table>\n</div>"
     },
     "metadata": {},
     "execution_count": 38
    }
   ],
   "source": [
    "# Create a DataFrame by initializing it with a dictionary of Series objects\n",
    "people = {\n",
    "     \"weight\": pd.Series ([84, 90, 56, 64], [\"Santiago\", \"Pedro\", \"Ana\", \"Julia\"]),\n",
    "     \"height\": pd.Series ({\"Santiago\": 187, \"Pedro\": 178, \"Julia\": 170, \"Ana\": 165}),\n",
    "     \"children\": pd.Series ([2, 3], [\"Pedro\", \"Julia\"])\n",
    "}\n",
    "\n",
    "df = pd.DataFrame (people)\n",
    "df"
   ]
  },
  {
   "cell_type": "code",
   "execution_count": 39,
   "metadata": {},
   "outputs": [
    {
     "output_type": "execute_result",
     "data": {
      "text/plain": "          weight  height  children  birthday\nAna           56     165       NaN      1990\nJulia         64     170       3.0      1987\nPedro         90     178       2.0      1980\nSantiago      84     187       NaN      1994",
      "text/html": "<div>\n<style scoped>\n    .dataframe tbody tr th:only-of-type {\n        vertical-align: middle;\n    }\n\n    .dataframe tbody tr th {\n        vertical-align: top;\n    }\n\n    .dataframe thead th {\n        text-align: right;\n    }\n</style>\n<table border=\"1\" class=\"dataframe\">\n  <thead>\n    <tr style=\"text-align: right;\">\n      <th></th>\n      <th>weight</th>\n      <th>height</th>\n      <th>children</th>\n      <th>birthday</th>\n    </tr>\n  </thead>\n  <tbody>\n    <tr>\n      <th>Ana</th>\n      <td>56</td>\n      <td>165</td>\n      <td>NaN</td>\n      <td>1990</td>\n    </tr>\n    <tr>\n      <th>Julia</th>\n      <td>64</td>\n      <td>170</td>\n      <td>3.0</td>\n      <td>1987</td>\n    </tr>\n    <tr>\n      <th>Pedro</th>\n      <td>90</td>\n      <td>178</td>\n      <td>2.0</td>\n      <td>1980</td>\n    </tr>\n    <tr>\n      <th>Santiago</th>\n      <td>84</td>\n      <td>187</td>\n      <td>NaN</td>\n      <td>1994</td>\n    </tr>\n  </tbody>\n</table>\n</div>"
     },
     "metadata": {},
     "execution_count": 39
    }
   ],
   "source": [
    "# Add a new column to the DataFrame \n",
    "df[\"birthday\"] = [1990, 1987, 1980, 1994] \n",
    "df"
   ]
  },
  {
   "cell_type": "code",
   "execution_count": 40,
   "metadata": {},
   "outputs": [
    {
     "output_type": "execute_result",
     "data": {
      "text/plain": "          weight  height  children  birthday  years\nAna           56     165       NaN      1990     30\nJulia         64     170       3.0      1987     33\nPedro         90     178       2.0      1980     40\nSantiago      84     187       NaN      1994     26",
      "text/html": "<div>\n<style scoped>\n    .dataframe tbody tr th:only-of-type {\n        vertical-align: middle;\n    }\n\n    .dataframe tbody tr th {\n        vertical-align: top;\n    }\n\n    .dataframe thead th {\n        text-align: right;\n    }\n</style>\n<table border=\"1\" class=\"dataframe\">\n  <thead>\n    <tr style=\"text-align: right;\">\n      <th></th>\n      <th>weight</th>\n      <th>height</th>\n      <th>children</th>\n      <th>birthday</th>\n      <th>years</th>\n    </tr>\n  </thead>\n  <tbody>\n    <tr>\n      <th>Ana</th>\n      <td>56</td>\n      <td>165</td>\n      <td>NaN</td>\n      <td>1990</td>\n      <td>30</td>\n    </tr>\n    <tr>\n      <th>Julia</th>\n      <td>64</td>\n      <td>170</td>\n      <td>3.0</td>\n      <td>1987</td>\n      <td>33</td>\n    </tr>\n    <tr>\n      <th>Pedro</th>\n      <td>90</td>\n      <td>178</td>\n      <td>2.0</td>\n      <td>1980</td>\n      <td>40</td>\n    </tr>\n    <tr>\n      <th>Santiago</th>\n      <td>84</td>\n      <td>187</td>\n      <td>NaN</td>\n      <td>1994</td>\n      <td>26</td>\n    </tr>\n  </tbody>\n</table>\n</div>"
     },
     "metadata": {},
     "execution_count": 40
    }
   ],
   "source": [
    "# Add a new calculated column to the DataFrame \n",
    "df[\"years\"] = 2020 - df [\"birthday\"] \n",
    "df"
   ]
  },
  {
   "cell_type": "code",
   "execution_count": 41,
   "metadata": {},
   "outputs": [
    {
     "output_type": "execute_result",
     "data": {
      "text/plain": "          weight  height  children  birthday  years\nAna           56     165       NaN      1990     30\nJulia         64     170       3.0      1987     33\nPedro         90     178       2.0      1980     40\nSantiago      84     187       NaN      1994     26",
      "text/html": "<div>\n<style scoped>\n    .dataframe tbody tr th:only-of-type {\n        vertical-align: middle;\n    }\n\n    .dataframe tbody tr th {\n        vertical-align: top;\n    }\n\n    .dataframe thead th {\n        text-align: right;\n    }\n</style>\n<table border=\"1\" class=\"dataframe\">\n  <thead>\n    <tr style=\"text-align: right;\">\n      <th></th>\n      <th>weight</th>\n      <th>height</th>\n      <th>children</th>\n      <th>birthday</th>\n      <th>years</th>\n    </tr>\n  </thead>\n  <tbody>\n    <tr>\n      <th>Ana</th>\n      <td>56</td>\n      <td>165</td>\n      <td>NaN</td>\n      <td>1990</td>\n      <td>30</td>\n    </tr>\n    <tr>\n      <th>Julia</th>\n      <td>64</td>\n      <td>170</td>\n      <td>3.0</td>\n      <td>1987</td>\n      <td>33</td>\n    </tr>\n    <tr>\n      <th>Pedro</th>\n      <td>90</td>\n      <td>178</td>\n      <td>2.0</td>\n      <td>1980</td>\n      <td>40</td>\n    </tr>\n    <tr>\n      <th>Santiago</th>\n      <td>84</td>\n      <td>187</td>\n      <td>NaN</td>\n      <td>1994</td>\n      <td>26</td>\n    </tr>\n  </tbody>\n</table>\n</div>"
     },
     "metadata": {},
     "execution_count": 41
    }
   ],
   "source": [
    "# Add a new calculated column to the DataFrame \n",
    "df[\"years\"] = 2020 - df[\"birthday\"] \n",
    "df"
   ]
  },
  {
   "cell_type": "code",
   "execution_count": 42,
   "metadata": {},
   "outputs": [
    {
     "output_type": "execute_result",
     "data": {
      "text/plain": "          weight  height  children  birthday  years  pets\nAna           56     165       NaN      1990     30     1\nJulia         64     170       3.0      1987     33     3\nPedro         90     178       2.0      1980     40     0\nSantiago      84     187       NaN      1994     26     0",
      "text/html": "<div>\n<style scoped>\n    .dataframe tbody tr th:only-of-type {\n        vertical-align: middle;\n    }\n\n    .dataframe tbody tr th {\n        vertical-align: top;\n    }\n\n    .dataframe thead th {\n        text-align: right;\n    }\n</style>\n<table border=\"1\" class=\"dataframe\">\n  <thead>\n    <tr style=\"text-align: right;\">\n      <th></th>\n      <th>weight</th>\n      <th>height</th>\n      <th>children</th>\n      <th>birthday</th>\n      <th>years</th>\n      <th>pets</th>\n    </tr>\n  </thead>\n  <tbody>\n    <tr>\n      <th>Ana</th>\n      <td>56</td>\n      <td>165</td>\n      <td>NaN</td>\n      <td>1990</td>\n      <td>30</td>\n      <td>1</td>\n    </tr>\n    <tr>\n      <th>Julia</th>\n      <td>64</td>\n      <td>170</td>\n      <td>3.0</td>\n      <td>1987</td>\n      <td>33</td>\n      <td>3</td>\n    </tr>\n    <tr>\n      <th>Pedro</th>\n      <td>90</td>\n      <td>178</td>\n      <td>2.0</td>\n      <td>1980</td>\n      <td>40</td>\n      <td>0</td>\n    </tr>\n    <tr>\n      <th>Santiago</th>\n      <td>84</td>\n      <td>187</td>\n      <td>NaN</td>\n      <td>1994</td>\n      <td>26</td>\n      <td>0</td>\n    </tr>\n  </tbody>\n</table>\n</div>"
     },
     "metadata": {},
     "execution_count": 42
    }
   ],
   "source": [
    "# Add a new column creating a new DataFrame \n",
    "df_mod = df.assign(pets = [1, 3, 0, 0]) \n",
    "df_mod"
   ]
  },
  {
   "cell_type": "code",
   "execution_count": 43,
   "metadata": {},
   "outputs": [
    {
     "output_type": "execute_result",
     "data": {
      "text/plain": "          weight  height  children  birthday  years\nAna           56     165       NaN      1990     30\nJulia         64     170       3.0      1987     33\nPedro         90     178       2.0      1980     40\nSantiago      84     187       NaN      1994     26",
      "text/html": "<div>\n<style scoped>\n    .dataframe tbody tr th:only-of-type {\n        vertical-align: middle;\n    }\n\n    .dataframe tbody tr th {\n        vertical-align: top;\n    }\n\n    .dataframe thead th {\n        text-align: right;\n    }\n</style>\n<table border=\"1\" class=\"dataframe\">\n  <thead>\n    <tr style=\"text-align: right;\">\n      <th></th>\n      <th>weight</th>\n      <th>height</th>\n      <th>children</th>\n      <th>birthday</th>\n      <th>years</th>\n    </tr>\n  </thead>\n  <tbody>\n    <tr>\n      <th>Ana</th>\n      <td>56</td>\n      <td>165</td>\n      <td>NaN</td>\n      <td>1990</td>\n      <td>30</td>\n    </tr>\n    <tr>\n      <th>Julia</th>\n      <td>64</td>\n      <td>170</td>\n      <td>3.0</td>\n      <td>1987</td>\n      <td>33</td>\n    </tr>\n    <tr>\n      <th>Pedro</th>\n      <td>90</td>\n      <td>178</td>\n      <td>2.0</td>\n      <td>1980</td>\n      <td>40</td>\n    </tr>\n    <tr>\n      <th>Santiago</th>\n      <td>84</td>\n      <td>187</td>\n      <td>NaN</td>\n      <td>1994</td>\n      <td>26</td>\n    </tr>\n  </tbody>\n</table>\n</div>"
     },
     "metadata": {},
     "execution_count": 43
    }
   ],
   "source": [
    "df"
   ]
  },
  {
   "cell_type": "code",
   "execution_count": 44,
   "metadata": {},
   "outputs": [
    {
     "output_type": "execute_result",
     "data": {
      "text/plain": "          height  children  birthday  years\nAna          165       NaN      1990     30\nJulia        170       3.0      1987     33\nPedro        178       2.0      1980     40\nSantiago     187       NaN      1994     26",
      "text/html": "<div>\n<style scoped>\n    .dataframe tbody tr th:only-of-type {\n        vertical-align: middle;\n    }\n\n    .dataframe tbody tr th {\n        vertical-align: top;\n    }\n\n    .dataframe thead th {\n        text-align: right;\n    }\n</style>\n<table border=\"1\" class=\"dataframe\">\n  <thead>\n    <tr style=\"text-align: right;\">\n      <th></th>\n      <th>height</th>\n      <th>children</th>\n      <th>birthday</th>\n      <th>years</th>\n    </tr>\n  </thead>\n  <tbody>\n    <tr>\n      <th>Ana</th>\n      <td>165</td>\n      <td>NaN</td>\n      <td>1990</td>\n      <td>30</td>\n    </tr>\n    <tr>\n      <th>Julia</th>\n      <td>170</td>\n      <td>3.0</td>\n      <td>1987</td>\n      <td>33</td>\n    </tr>\n    <tr>\n      <th>Pedro</th>\n      <td>178</td>\n      <td>2.0</td>\n      <td>1980</td>\n      <td>40</td>\n    </tr>\n    <tr>\n      <th>Santiago</th>\n      <td>187</td>\n      <td>NaN</td>\n      <td>1994</td>\n      <td>26</td>\n    </tr>\n  </tbody>\n</table>\n</div>"
     },
     "metadata": {},
     "execution_count": 44
    }
   ],
   "source": [
    "# Delete an existing column from the DataFrame \n",
    "del df[\"weight\"] \n",
    "df"
   ]
  },
  {
   "cell_type": "code",
   "execution_count": 45,
   "metadata": {},
   "outputs": [
    {
     "output_type": "execute_result",
     "data": {
      "text/plain": "          height  birthday  years\nAna          165      1990     30\nJulia        170      1987     33\nPedro        178      1980     40\nSantiago     187      1994     26",
      "text/html": "<div>\n<style scoped>\n    .dataframe tbody tr th:only-of-type {\n        vertical-align: middle;\n    }\n\n    .dataframe tbody tr th {\n        vertical-align: top;\n    }\n\n    .dataframe thead th {\n        text-align: right;\n    }\n</style>\n<table border=\"1\" class=\"dataframe\">\n  <thead>\n    <tr style=\"text-align: right;\">\n      <th></th>\n      <th>height</th>\n      <th>birthday</th>\n      <th>years</th>\n    </tr>\n  </thead>\n  <tbody>\n    <tr>\n      <th>Ana</th>\n      <td>165</td>\n      <td>1990</td>\n      <td>30</td>\n    </tr>\n    <tr>\n      <th>Julia</th>\n      <td>170</td>\n      <td>1987</td>\n      <td>33</td>\n    </tr>\n    <tr>\n      <th>Pedro</th>\n      <td>178</td>\n      <td>1980</td>\n      <td>40</td>\n    </tr>\n    <tr>\n      <th>Santiago</th>\n      <td>187</td>\n      <td>1994</td>\n      <td>26</td>\n    </tr>\n  </tbody>\n</table>\n</div>"
     },
     "metadata": {},
     "execution_count": 45
    }
   ],
   "source": [
    "# Delete an existing column by returning a copy of the resulting DataFrame \n",
    "df_mod = df.drop([\"children\"], axis = 1) \n",
    "df_mod"
   ]
  },
  {
   "cell_type": "code",
   "execution_count": 46,
   "metadata": {},
   "outputs": [
    {
     "output_type": "execute_result",
     "data": {
      "text/plain": "          height  children  birthday  years\nAna          165       NaN      1990     30\nJulia        170       3.0      1987     33\nPedro        178       2.0      1980     40\nSantiago     187       NaN      1994     26",
      "text/html": "<div>\n<style scoped>\n    .dataframe tbody tr th:only-of-type {\n        vertical-align: middle;\n    }\n\n    .dataframe tbody tr th {\n        vertical-align: top;\n    }\n\n    .dataframe thead th {\n        text-align: right;\n    }\n</style>\n<table border=\"1\" class=\"dataframe\">\n  <thead>\n    <tr style=\"text-align: right;\">\n      <th></th>\n      <th>height</th>\n      <th>children</th>\n      <th>birthday</th>\n      <th>years</th>\n    </tr>\n  </thead>\n  <tbody>\n    <tr>\n      <th>Ana</th>\n      <td>165</td>\n      <td>NaN</td>\n      <td>1990</td>\n      <td>30</td>\n    </tr>\n    <tr>\n      <th>Julia</th>\n      <td>170</td>\n      <td>3.0</td>\n      <td>1987</td>\n      <td>33</td>\n    </tr>\n    <tr>\n      <th>Pedro</th>\n      <td>178</td>\n      <td>2.0</td>\n      <td>1980</td>\n      <td>40</td>\n    </tr>\n    <tr>\n      <th>Santiago</th>\n      <td>187</td>\n      <td>NaN</td>\n      <td>1994</td>\n      <td>26</td>\n    </tr>\n  </tbody>\n</table>\n</div>"
     },
     "metadata": {},
     "execution_count": 46
    }
   ],
   "source": [
    "df"
   ]
  },
  {
   "cell_type": "markdown",
   "metadata": {},
   "source": [
    "### Evaluating expressions on a DataFrame"
   ]
  },
  {
   "cell_type": "code",
   "execution_count": 48,
   "metadata": {},
   "outputs": [
    {
     "output_type": "execute_result",
     "data": {
      "text/plain": "          weight  height  children\nAna           56     165       NaN\nJulia         64     170       3.0\nPedro         90     178       2.0\nSantiago      84     187       NaN",
      "text/html": "<div>\n<style scoped>\n    .dataframe tbody tr th:only-of-type {\n        vertical-align: middle;\n    }\n\n    .dataframe tbody tr th {\n        vertical-align: top;\n    }\n\n    .dataframe thead th {\n        text-align: right;\n    }\n</style>\n<table border=\"1\" class=\"dataframe\">\n  <thead>\n    <tr style=\"text-align: right;\">\n      <th></th>\n      <th>weight</th>\n      <th>height</th>\n      <th>children</th>\n    </tr>\n  </thead>\n  <tbody>\n    <tr>\n      <th>Ana</th>\n      <td>56</td>\n      <td>165</td>\n      <td>NaN</td>\n    </tr>\n    <tr>\n      <th>Julia</th>\n      <td>64</td>\n      <td>170</td>\n      <td>3.0</td>\n    </tr>\n    <tr>\n      <th>Pedro</th>\n      <td>90</td>\n      <td>178</td>\n      <td>2.0</td>\n    </tr>\n    <tr>\n      <th>Santiago</th>\n      <td>84</td>\n      <td>187</td>\n      <td>NaN</td>\n    </tr>\n  </tbody>\n</table>\n</div>"
     },
     "metadata": {},
     "execution_count": 48
    }
   ],
   "source": [
    "# Create a DataFrame by initializing it with a dictionary of Series objects\n",
    "people = {\n",
    "     \"weight\": pd.Series ([84, 90, 56, 64], [\"Santiago\", \"Pedro\", \"Ana\", \"Julia\"]),\n",
    "     \"height\": pd.Series ({\"Santiago\": 187, \"Pedro\": 178, \"Julia\": 170, \"Ana\": 165}),\n",
    "     \"children\": pd.Series ([2, 3], [\"Pedro\", \"Julia\"])\n",
    "}\n",
    "\n",
    "df = pd.DataFrame (people)\n",
    "df"
   ]
  },
  {
   "cell_type": "code",
   "execution_count": 49,
   "metadata": {},
   "outputs": [
    {
     "output_type": "execute_result",
     "data": {
      "text/plain": "Ana         82.5\nJulia       85.0\nPedro       89.0\nSantiago    93.5\ndtype: float64"
     },
     "metadata": {},
     "execution_count": 49
    }
   ],
   "source": [
    "# Evaluate a function on a column of the DataFrame \n",
    "df.eval(\"height / 2\")"
   ]
  },
  {
   "cell_type": "code",
   "execution_count": 50,
   "metadata": {},
   "outputs": [
    {
     "output_type": "execute_result",
     "data": {
      "text/plain": "          weight  height  children  mean_height\nAna           56     165       NaN         82.5\nJulia         64     170       3.0         85.0\nPedro         90     178       2.0         89.0\nSantiago      84     187       NaN         93.5",
      "text/html": "<div>\n<style scoped>\n    .dataframe tbody tr th:only-of-type {\n        vertical-align: middle;\n    }\n\n    .dataframe tbody tr th {\n        vertical-align: top;\n    }\n\n    .dataframe thead th {\n        text-align: right;\n    }\n</style>\n<table border=\"1\" class=\"dataframe\">\n  <thead>\n    <tr style=\"text-align: right;\">\n      <th></th>\n      <th>weight</th>\n      <th>height</th>\n      <th>children</th>\n      <th>mean_height</th>\n    </tr>\n  </thead>\n  <tbody>\n    <tr>\n      <th>Ana</th>\n      <td>56</td>\n      <td>165</td>\n      <td>NaN</td>\n      <td>82.5</td>\n    </tr>\n    <tr>\n      <th>Julia</th>\n      <td>64</td>\n      <td>170</td>\n      <td>3.0</td>\n      <td>85.0</td>\n    </tr>\n    <tr>\n      <th>Pedro</th>\n      <td>90</td>\n      <td>178</td>\n      <td>2.0</td>\n      <td>89.0</td>\n    </tr>\n    <tr>\n      <th>Santiago</th>\n      <td>84</td>\n      <td>187</td>\n      <td>NaN</td>\n      <td>93.5</td>\n    </tr>\n  </tbody>\n</table>\n</div>"
     },
     "metadata": {},
     "execution_count": 50
    }
   ],
   "source": [
    "# Assign the resulting value as a new column \n",
    "df.eval(\"mean_height = height / 2\", inplace = True) \n",
    "df"
   ]
  },
  {
   "cell_type": "code",
   "execution_count": 52,
   "metadata": {},
   "outputs": [
    {
     "output_type": "execute_result",
     "data": {
      "text/plain": "Ana         False\nJulia       False\nPedro       False\nSantiago     True\ndtype: bool"
     },
     "metadata": {},
     "execution_count": 52
    }
   ],
   "source": [
    "# Evaluate a function using a local variable \n",
    "max_height = 180 \n",
    "df.eval(\"height> @max_height\")"
   ]
  },
  {
   "cell_type": "code",
   "execution_count": 53,
   "metadata": {},
   "outputs": [
    {
     "output_type": "execute_result",
     "data": {
      "text/plain": "Ana         58\nJulia       66\nPedro       92\nSantiago    86\nName: weight, dtype: int64"
     },
     "metadata": {},
     "execution_count": 53
    }
   ],
   "source": [
    "# Apply an external function to a column of the DataFrame \n",
    "def func (x): return x + 2 \n",
    "df[\"weight\"].apply(func)"
   ]
  },
  {
   "cell_type": "code",
   "execution_count": 54,
   "metadata": {},
   "outputs": [
    {
     "output_type": "execute_result",
     "data": {
      "text/plain": "          weight  height  children  mean_height\nAna           56     165       NaN         82.5\nJulia         64     170       3.0         85.0\nPedro         90     178       2.0         89.0\nSantiago      84     187       NaN         93.5",
      "text/html": "<div>\n<style scoped>\n    .dataframe tbody tr th:only-of-type {\n        vertical-align: middle;\n    }\n\n    .dataframe tbody tr th {\n        vertical-align: top;\n    }\n\n    .dataframe thead th {\n        text-align: right;\n    }\n</style>\n<table border=\"1\" class=\"dataframe\">\n  <thead>\n    <tr style=\"text-align: right;\">\n      <th></th>\n      <th>weight</th>\n      <th>height</th>\n      <th>children</th>\n      <th>mean_height</th>\n    </tr>\n  </thead>\n  <tbody>\n    <tr>\n      <th>Ana</th>\n      <td>56</td>\n      <td>165</td>\n      <td>NaN</td>\n      <td>82.5</td>\n    </tr>\n    <tr>\n      <th>Julia</th>\n      <td>64</td>\n      <td>170</td>\n      <td>3.0</td>\n      <td>85.0</td>\n    </tr>\n    <tr>\n      <th>Pedro</th>\n      <td>90</td>\n      <td>178</td>\n      <td>2.0</td>\n      <td>89.0</td>\n    </tr>\n    <tr>\n      <th>Santiago</th>\n      <td>84</td>\n      <td>187</td>\n      <td>NaN</td>\n      <td>93.5</td>\n    </tr>\n  </tbody>\n</table>\n</div>"
     },
     "metadata": {},
     "execution_count": 54
    }
   ],
   "source": [
    "df"
   ]
  },
  {
   "cell_type": "markdown",
   "metadata": {},
   "source": [
    "### Save and Load the DataFrame"
   ]
  },
  {
   "cell_type": "code",
   "execution_count": 55,
   "metadata": {},
   "outputs": [
    {
     "output_type": "execute_result",
     "data": {
      "text/plain": "          weight  height  children\nAna           56     165       NaN\nJulia         64     170       3.0\nPedro         90     178       2.0\nSantiago      84     187       NaN",
      "text/html": "<div>\n<style scoped>\n    .dataframe tbody tr th:only-of-type {\n        vertical-align: middle;\n    }\n\n    .dataframe tbody tr th {\n        vertical-align: top;\n    }\n\n    .dataframe thead th {\n        text-align: right;\n    }\n</style>\n<table border=\"1\" class=\"dataframe\">\n  <thead>\n    <tr style=\"text-align: right;\">\n      <th></th>\n      <th>weight</th>\n      <th>height</th>\n      <th>children</th>\n    </tr>\n  </thead>\n  <tbody>\n    <tr>\n      <th>Ana</th>\n      <td>56</td>\n      <td>165</td>\n      <td>NaN</td>\n    </tr>\n    <tr>\n      <th>Julia</th>\n      <td>64</td>\n      <td>170</td>\n      <td>3.0</td>\n    </tr>\n    <tr>\n      <th>Pedro</th>\n      <td>90</td>\n      <td>178</td>\n      <td>2.0</td>\n    </tr>\n    <tr>\n      <th>Santiago</th>\n      <td>84</td>\n      <td>187</td>\n      <td>NaN</td>\n    </tr>\n  </tbody>\n</table>\n</div>"
     },
     "metadata": {},
     "execution_count": 55
    }
   ],
   "source": [
    "# Create a DataFrame by initializing it with a dictionary of Series objects\n",
    "people = {\n",
    "     \"weight\": pd.Series ([84, 90, 56, 64], [\"Santiago\", \"Pedro\", \"Ana\", \"Julia\"]),\n",
    "     \"height\": pd.Series ({\"Santiago\": 187, \"Pedro\": 178, \"Julia\": 170, \"Ana\": 165}),\n",
    "     \"children\": pd.Series ([2, 3], [\"Pedro\", \"Julia\"])\n",
    "}\n",
    "\n",
    "df = pd.DataFrame (people)\n",
    "df"
   ]
  },
  {
   "cell_type": "code",
   "execution_count": 58,
   "metadata": {},
   "outputs": [],
   "source": [
    "# Save the DataFrame as CSV, HTML and JSON \n",
    "df.to_csv(\"df_people.csv\") \n",
    "df.to_html(\"df_people.html\") \n",
    "df.to_json(\"df_people.json\")"
   ]
  },
  {
   "cell_type": "code",
   "execution_count": 59,
   "metadata": {},
   "outputs": [],
   "source": [
    "# Load the DataFrame in Jupyter \n",
    "df2 = pd.read_csv(\"df_people.csv\")"
   ]
  },
  {
   "cell_type": "code",
   "execution_count": 60,
   "metadata": {},
   "outputs": [
    {
     "output_type": "execute_result",
     "data": {
      "text/plain": "  Unnamed: 0  weight  height  children\n0        Ana      56     165       NaN\n1      Julia      64     170       3.0\n2      Pedro      90     178       2.0\n3   Santiago      84     187       NaN",
      "text/html": "<div>\n<style scoped>\n    .dataframe tbody tr th:only-of-type {\n        vertical-align: middle;\n    }\n\n    .dataframe tbody tr th {\n        vertical-align: top;\n    }\n\n    .dataframe thead th {\n        text-align: right;\n    }\n</style>\n<table border=\"1\" class=\"dataframe\">\n  <thead>\n    <tr style=\"text-align: right;\">\n      <th></th>\n      <th>Unnamed: 0</th>\n      <th>weight</th>\n      <th>height</th>\n      <th>children</th>\n    </tr>\n  </thead>\n  <tbody>\n    <tr>\n      <th>0</th>\n      <td>Ana</td>\n      <td>56</td>\n      <td>165</td>\n      <td>NaN</td>\n    </tr>\n    <tr>\n      <th>1</th>\n      <td>Julia</td>\n      <td>64</td>\n      <td>170</td>\n      <td>3.0</td>\n    </tr>\n    <tr>\n      <th>2</th>\n      <td>Pedro</td>\n      <td>90</td>\n      <td>178</td>\n      <td>2.0</td>\n    </tr>\n    <tr>\n      <th>3</th>\n      <td>Santiago</td>\n      <td>84</td>\n      <td>187</td>\n      <td>NaN</td>\n    </tr>\n  </tbody>\n</table>\n</div>"
     },
     "metadata": {},
     "execution_count": 60
    }
   ],
   "source": [
    "df2"
   ]
  },
  {
   "cell_type": "code",
   "execution_count": 61,
   "metadata": {},
   "outputs": [
    {
     "output_type": "execute_result",
     "data": {
      "text/plain": "          weight  height  children\nAna           56     165       NaN\nJulia         64     170       3.0\nPedro         90     178       2.0\nSantiago      84     187       NaN",
      "text/html": "<div>\n<style scoped>\n    .dataframe tbody tr th:only-of-type {\n        vertical-align: middle;\n    }\n\n    .dataframe tbody tr th {\n        vertical-align: top;\n    }\n\n    .dataframe thead th {\n        text-align: right;\n    }\n</style>\n<table border=\"1\" class=\"dataframe\">\n  <thead>\n    <tr style=\"text-align: right;\">\n      <th></th>\n      <th>weight</th>\n      <th>height</th>\n      <th>children</th>\n    </tr>\n  </thead>\n  <tbody>\n    <tr>\n      <th>Ana</th>\n      <td>56</td>\n      <td>165</td>\n      <td>NaN</td>\n    </tr>\n    <tr>\n      <th>Julia</th>\n      <td>64</td>\n      <td>170</td>\n      <td>3.0</td>\n    </tr>\n    <tr>\n      <th>Pedro</th>\n      <td>90</td>\n      <td>178</td>\n      <td>2.0</td>\n    </tr>\n    <tr>\n      <th>Santiago</th>\n      <td>84</td>\n      <td>187</td>\n      <td>NaN</td>\n    </tr>\n  </tbody>\n</table>\n</div>"
     },
     "metadata": {},
     "execution_count": 61
    }
   ],
   "source": [
    "# Load the DataFrame with the first column correctly assigned\n",
    "df2 = pd.read_csv(\"df_people.csv\", index_col=0)\n",
    "df2"
   ]
  }
 ],
 "metadata": {
  "language_info": {
   "codemirror_mode": {
    "name": "ipython",
    "version": 3
   },
   "file_extension": ".py",
   "mimetype": "text/x-python",
   "name": "python",
   "nbconvert_exporter": "python",
   "pygments_lexer": "ipython3",
   "version": 3
  },
  "orig_nbformat": 2,
  "kernelspec": {
   "name": "python_defaultSpec_1601301387722",
   "display_name": "Python 3.7.3 64-bit ('anaconda3': virtualenv)"
  }
 },
 "nbformat": 4,
 "nbformat_minor": 2
}