{
 "cells": [
  {
   "cell_type": "code",
   "execution_count": 1,
   "metadata": {},
   "outputs": [],
   "source": [
    "import numpy as np\n",
    "import pandas as pd"
   ]
  },
  {
   "cell_type": "code",
   "execution_count": 3,
   "metadata": {},
   "outputs": [
    {
     "output_type": "execute_result",
     "data": {
      "text/plain": "(12, 2)"
     },
     "metadata": {},
     "execution_count": 3
    }
   ],
   "source": [
    "pwd = pd.read_csv('pwd.csv')\n",
    "pwd.shape"
   ]
  },
  {
   "cell_type": "code",
   "execution_count": 4,
   "metadata": {},
   "outputs": [
    {
     "output_type": "execute_result",
     "data": {
      "text/plain": "            password  target\n0        lamborghin1       1\n1   AVYq1lDE4MgAZfNt       2\n2           u6c8vhow       1\n3           v1118714       1\n4       universe2908       1\n5           as326159       1\n6           asv5o9yu       1\n7             intel1       0\n8       612035180tok       1\n9         jytifok873       1\n10  WUt9IZzE0OQ7PkNE       2\n11           lsdlsd1       0",
      "text/html": "<div>\n<style scoped>\n    .dataframe tbody tr th:only-of-type {\n        vertical-align: middle;\n    }\n\n    .dataframe tbody tr th {\n        vertical-align: top;\n    }\n\n    .dataframe thead th {\n        text-align: right;\n    }\n</style>\n<table border=\"1\" class=\"dataframe\">\n  <thead>\n    <tr style=\"text-align: right;\">\n      <th></th>\n      <th>password</th>\n      <th>target</th>\n    </tr>\n  </thead>\n  <tbody>\n    <tr>\n      <th>0</th>\n      <td>lamborghin1</td>\n      <td>1</td>\n    </tr>\n    <tr>\n      <th>1</th>\n      <td>AVYq1lDE4MgAZfNt</td>\n      <td>2</td>\n    </tr>\n    <tr>\n      <th>2</th>\n      <td>u6c8vhow</td>\n      <td>1</td>\n    </tr>\n    <tr>\n      <th>3</th>\n      <td>v1118714</td>\n      <td>1</td>\n    </tr>\n    <tr>\n      <th>4</th>\n      <td>universe2908</td>\n      <td>1</td>\n    </tr>\n    <tr>\n      <th>5</th>\n      <td>as326159</td>\n      <td>1</td>\n    </tr>\n    <tr>\n      <th>6</th>\n      <td>asv5o9yu</td>\n      <td>1</td>\n    </tr>\n    <tr>\n      <th>7</th>\n      <td>intel1</td>\n      <td>0</td>\n    </tr>\n    <tr>\n      <th>8</th>\n      <td>612035180tok</td>\n      <td>1</td>\n    </tr>\n    <tr>\n      <th>9</th>\n      <td>jytifok873</td>\n      <td>1</td>\n    </tr>\n    <tr>\n      <th>10</th>\n      <td>WUt9IZzE0OQ7PkNE</td>\n      <td>2</td>\n    </tr>\n    <tr>\n      <th>11</th>\n      <td>lsdlsd1</td>\n      <td>0</td>\n    </tr>\n  </tbody>\n</table>\n</div>"
     },
     "metadata": {},
     "execution_count": 4
    }
   ],
   "source": [
    "pwd"
   ]
  },
  {
   "cell_type": "code",
   "execution_count": null,
   "metadata": {},
   "outputs": [],
   "source": []
  }
 ],
 "metadata": {
  "language_info": {
   "codemirror_mode": {
    "name": "ipython",
    "version": 3
   },
   "file_extension": ".py",
   "mimetype": "text/x-python",
   "name": "python",
   "nbconvert_exporter": "python",
   "pygments_lexer": "ipython3",
   "version": 3
  },
  "orig_nbformat": 2,
  "kernelspec": {
   "name": "python_defaultSpec_1603373859145",
   "display_name": "Python 3.7.6 64-bit ('streamlit': conda)"
  }
 },
 "nbformat": 4,
 "nbformat_minor": 2
}